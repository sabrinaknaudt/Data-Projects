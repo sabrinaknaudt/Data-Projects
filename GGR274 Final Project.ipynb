{
 "cells": [
  {
   "cell_type": "markdown",
   "id": "458fc119",
   "metadata": {
    "slideshow": {
     "slide_type": "slide"
    }
   },
   "source": [
    "## GGR274: Introductory Computation and Data Science for the Social Sciences \n",
    "## Is there a higher prevalence of diabetes in low income neighbourhoods?\n",
    "\n",
    "### Name:  Sabrina Knaudt\n"
   ]
  },
  {
   "cell_type": "code",
   "execution_count": 32,
   "id": "6bec9a8f-f3a2-4cda-b17b-1d3364f8acb9",
   "metadata": {
    "slideshow": {
     "slide_type": "skip"
    }
   },
   "outputs": [],
   "source": [
    "import pandas as pd\n",
    "import numpy as np\n",
    "import matplotlib.pyplot as plt \n",
    "\n",
    "income_df = pd.read_excel('/home/jovyan/ggr274-20251/project/presentation/data/income_Toronto_2021_7.xlsx', header=11)\n",
    "diabetes_df = pd.read_excel('/home/jovyan/ggr274-20251/project/presentation/data/AHD_Diabetes_FY2022.xlsx', header=5)"
   ]
  },
  {
   "cell_type": "markdown",
   "id": "a85d5a53",
   "metadata": {
    "slideshow": {
     "slide_type": "slide"
    }
   },
   "source": [
    "## Introduction\n",
    "\n",
    "- Association of neighbourhood quintiles (based on adult low income percents) and prevalence of diabetes using bootstraped confidence intervals\n",
    "\n",
    "- Krieger N. (2001). Theories for social epidemiology in the 21st century: An ecosocial perspective. International journal of epidemiology, 30(4), 668–677.\n",
    "- Murdock, K. W., LeRoy, A. S., Lacourt, T. E., Duke, D. C., Heijnen, C. J., & Fagundes, C. P. (2016). Executive Functioning and Diabetes: The Role of Anxious Arousal and Inflammation. Psychoneuroendocrinology, 71, 102–109. \n",
    "\n"
   ]
  },
  {
   "cell_type": "markdown",
   "id": "ea18d936",
   "metadata": {
    "slideshow": {
     "slide_type": "slide"
    }
   },
   "source": [
    "## Methods\n",
    "- Data wrangling \n",
    "- Bootstrap confidence intervals"
   ]
  },
  {
   "cell_type": "markdown",
   "id": "088b177b",
   "metadata": {
    "slideshow": {
     "slide_type": "slide"
    }
   },
   "source": [
    "## Data wrangling\n",
    "\n",
    "- Wrangling two datasets: one for income data (**income_df**) and one for diabetes prevalence (**diabetes_df**).   Renaming columns for clarity, such as **'Unnamed: 0'** to **'neighbourhood_ID'** and **'In LICO-AT'** to **'low_income_population'**. Select relevant columns: **'neighbourhood_ID', 'neighbourhood_name', 'adult_population',** and **'adult_percent_low_income'.**\n",
    "- For the diabetes dataset, I also only kept key columns: **'total_diabetes_count', 'total_neighb_pop', 'total_prevelance'** and removed citywide statistics for both dataframes (row 158) using the **drop()** method."
   ]
  },
  {
   "cell_type": "markdown",
   "id": "f2bb1510",
   "metadata": {
    "slideshow": {
     "slide_type": "slide"
    }
   },
   "source": [
    "## Data wrangling\n",
    "- I then categorized neighborhoods into income quintiles based on **'adult_percent_low_income'** using the **quantile()** method with thresholds at 0.20, 0.40, 0.60, and 0.80. The **apply()** method assigned a quintile label to each neighborhood based on these thresholds.\n"
   ]
  },
  {
   "cell_type": "code",
   "execution_count": 33,
   "id": "4b3ac742",
   "metadata": {
    "slideshow": {
     "slide_type": "skip"
    }
   },
   "outputs": [],
   "source": [
    "# clean income df\n",
    "rename_cols = {\n",
    "    'Unnamed: 0' : 'neighbourhood_ID',\n",
    "    'Unnamed: 1' : 'neighbourhood_name',\n",
    "    'Total - Population to whom Low Income Concepts Are Applicable (Denominator)^' : 'neighbourhood_population',\n",
    "    'In LICO-AT' : 'low_income_population',\n",
    "    'In LICO-AT (%)' : 'neighbourhood_percent_low_income',\n",
    "    'Total - Population to whom Low Income Concepts Are Applicable (18-64 yrs).1' : 'adult_population',\n",
    "    'In LIM-AT \\n(18-64 yrs)' : 'adult_low_income',\n",
    "    'In LIM-AT \\n(18-64 yrs) (%)' : 'adult_percent_low_income'\n",
    "}\n",
    "\n",
    "income_cols = ['neighbourhood_ID', 'neighbourhood_name', 'adult_population',\n",
    "          'adult_low_income', 'adult_percent_low_income']\n",
    "\n",
    "income_df_clean = income_df.copy()\n",
    "income_df_clean = income_df_clean.rename(columns=rename_cols)\n",
    "income_df_clean = income_df_clean[income_cols]\n",
    "\n",
    "# drop the row that includes citywide statistics, need to remove for significance testing\n",
    "income_df_clean = income_df_clean.drop(158)"
   ]
  },
  {
   "cell_type": "code",
   "execution_count": 34,
   "id": "e9c87ae1",
   "metadata": {
    "slideshow": {
     "slide_type": "skip"
    }
   },
   "outputs": [
    {
     "data": {
      "text/html": [
       "<div>\n",
       "<style scoped>\n",
       "    .dataframe tbody tr th:only-of-type {\n",
       "        vertical-align: middle;\n",
       "    }\n",
       "\n",
       "    .dataframe tbody tr th {\n",
       "        vertical-align: top;\n",
       "    }\n",
       "\n",
       "    .dataframe thead th {\n",
       "        text-align: right;\n",
       "    }\n",
       "</style>\n",
       "<table border=\"1\" class=\"dataframe\">\n",
       "  <thead>\n",
       "    <tr style=\"text-align: right;\">\n",
       "      <th></th>\n",
       "      <th>neighbourhood_ID</th>\n",
       "      <th>neighbourhood_name</th>\n",
       "      <th>adult_population</th>\n",
       "      <th>adult_low_income</th>\n",
       "      <th>adult_percent_low_income</th>\n",
       "    </tr>\n",
       "  </thead>\n",
       "  <tbody>\n",
       "    <tr>\n",
       "      <th>0</th>\n",
       "      <td>1.0</td>\n",
       "      <td>West Humber-Clairville</td>\n",
       "      <td>22305</td>\n",
       "      <td>1720</td>\n",
       "      <td>5.2</td>\n",
       "    </tr>\n",
       "    <tr>\n",
       "      <th>1</th>\n",
       "      <td>2.0</td>\n",
       "      <td>Mount Olive-Silverstone-Jamestown</td>\n",
       "      <td>19995</td>\n",
       "      <td>2560</td>\n",
       "      <td>8.2</td>\n",
       "    </tr>\n",
       "    <tr>\n",
       "      <th>2</th>\n",
       "      <td>3.0</td>\n",
       "      <td>Thistletown-Beaumond Heights</td>\n",
       "      <td>6280</td>\n",
       "      <td>635</td>\n",
       "      <td>6.4</td>\n",
       "    </tr>\n",
       "    <tr>\n",
       "      <th>3</th>\n",
       "      <td>4.0</td>\n",
       "      <td>Rexdale-Kipling</td>\n",
       "      <td>6630</td>\n",
       "      <td>705</td>\n",
       "      <td>6.8</td>\n",
       "    </tr>\n",
       "    <tr>\n",
       "      <th>4</th>\n",
       "      <td>5.0</td>\n",
       "      <td>Elms-Old Rexdale</td>\n",
       "      <td>5980</td>\n",
       "      <td>595</td>\n",
       "      <td>6.4</td>\n",
       "    </tr>\n",
       "    <tr>\n",
       "      <th>...</th>\n",
       "      <td>...</td>\n",
       "      <td>...</td>\n",
       "      <td>...</td>\n",
       "      <td>...</td>\n",
       "      <td>...</td>\n",
       "    </tr>\n",
       "    <tr>\n",
       "      <th>153</th>\n",
       "      <td>170.0</td>\n",
       "      <td>Yonge-Bay Corridor</td>\n",
       "      <td>10745</td>\n",
       "      <td>2595</td>\n",
       "      <td>20.5</td>\n",
       "    </tr>\n",
       "    <tr>\n",
       "      <th>154</th>\n",
       "      <td>171.0</td>\n",
       "      <td>Junction-Wallace Emerson</td>\n",
       "      <td>16815</td>\n",
       "      <td>1685</td>\n",
       "      <td>7.3</td>\n",
       "    </tr>\n",
       "    <tr>\n",
       "      <th>155</th>\n",
       "      <td>172.0</td>\n",
       "      <td>Dovercourt Village</td>\n",
       "      <td>8745</td>\n",
       "      <td>825</td>\n",
       "      <td>6.7</td>\n",
       "    </tr>\n",
       "    <tr>\n",
       "      <th>156</th>\n",
       "      <td>173.0</td>\n",
       "      <td>North Toronto</td>\n",
       "      <td>12500</td>\n",
       "      <td>2120</td>\n",
       "      <td>13.4</td>\n",
       "    </tr>\n",
       "    <tr>\n",
       "      <th>157</th>\n",
       "      <td>174.0</td>\n",
       "      <td>South Eglinton-Davisville</td>\n",
       "      <td>17170</td>\n",
       "      <td>2455</td>\n",
       "      <td>10.8</td>\n",
       "    </tr>\n",
       "  </tbody>\n",
       "</table>\n",
       "<p>158 rows × 5 columns</p>\n",
       "</div>"
      ],
      "text/plain": [
       "     neighbourhood_ID                 neighbourhood_name  adult_population  \\\n",
       "0                 1.0             West Humber-Clairville             22305   \n",
       "1                 2.0  Mount Olive-Silverstone-Jamestown             19995   \n",
       "2                 3.0       Thistletown-Beaumond Heights              6280   \n",
       "3                 4.0                    Rexdale-Kipling              6630   \n",
       "4                 5.0                   Elms-Old Rexdale              5980   \n",
       "..                ...                                ...               ...   \n",
       "153             170.0                 Yonge-Bay Corridor             10745   \n",
       "154             171.0           Junction-Wallace Emerson             16815   \n",
       "155             172.0                 Dovercourt Village              8745   \n",
       "156             173.0                      North Toronto             12500   \n",
       "157             174.0          South Eglinton-Davisville             17170   \n",
       "\n",
       "     adult_low_income  adult_percent_low_income  \n",
       "0                1720                       5.2  \n",
       "1                2560                       8.2  \n",
       "2                 635                       6.4  \n",
       "3                 705                       6.8  \n",
       "4                 595                       6.4  \n",
       "..                ...                       ...  \n",
       "153              2595                      20.5  \n",
       "154              1685                       7.3  \n",
       "155               825                       6.7  \n",
       "156              2120                      13.4  \n",
       "157              2455                      10.8  \n",
       "\n",
       "[158 rows x 5 columns]"
      ]
     },
     "execution_count": 34,
     "metadata": {},
     "output_type": "execute_result"
    }
   ],
   "source": [
    "income_df_clean"
   ]
  },
  {
   "cell_type": "code",
   "execution_count": 35,
   "id": "a4ed3801",
   "metadata": {
    "slideshow": {
     "slide_type": "skip"
    }
   },
   "outputs": [],
   "source": [
    "# clean diabetes df\n",
    "\n",
    "cols = diabetes_df.columns\n",
    "\n",
    "diabetes_rename_cols = {\n",
    "    cols[0] : 'neighbourhood_ID', \n",
    "    cols[1] : 'neighbourhood_name', \n",
    "    cols[2] : 'male_diabetes_count',\n",
    "    cols[3] : 'female_diabetes_count',\n",
    "    cols[4] : 'total_diabetes_count',\n",
    "    cols[5] : 'male_neighb_pop',\n",
    "    cols[6] : 'female_neighb_pop',\n",
    "    cols[7] : 'total_neighb_pop',\n",
    "    cols[19] : 'male_prevalence', # ages 20+, non age standardized prevelance (/100)\n",
    "    cols[20] : 'female_prevalence',\n",
    "    cols[21] : 'total_diabetes_prevalence',\n",
    "}\n",
    "\n",
    "diabetes_cols = ['neighbourhood_ID', 'neighbourhood_name', 'total_diabetes_count', 'total_neighb_pop', 'total_diabetes_prevalence']\n",
    "\n",
    "diabetes_df_clean = diabetes_df.copy()\n",
    "diabetes_df_clean = diabetes_df_clean.rename(columns=diabetes_rename_cols)\n",
    "diabetes_df_clean = diabetes_df_clean[diabetes_cols]\n",
    "\n",
    "# drop the row that includes citywide statistics, need to remove for significance testing\n",
    "diabetes_df_clean = diabetes_df_clean.drop(158)"
   ]
  },
  {
   "cell_type": "code",
   "execution_count": 36,
   "id": "f1bfddc4",
   "metadata": {
    "slideshow": {
     "slide_type": "skip"
    }
   },
   "outputs": [
    {
     "data": {
      "text/html": [
       "<div>\n",
       "<style scoped>\n",
       "    .dataframe tbody tr th:only-of-type {\n",
       "        vertical-align: middle;\n",
       "    }\n",
       "\n",
       "    .dataframe tbody tr th {\n",
       "        vertical-align: top;\n",
       "    }\n",
       "\n",
       "    .dataframe thead th {\n",
       "        text-align: right;\n",
       "    }\n",
       "</style>\n",
       "<table border=\"1\" class=\"dataframe\">\n",
       "  <thead>\n",
       "    <tr style=\"text-align: right;\">\n",
       "      <th></th>\n",
       "      <th>neighbourhood_ID</th>\n",
       "      <th>neighbourhood_name</th>\n",
       "      <th>total_diabetes_count</th>\n",
       "      <th>total_neighb_pop</th>\n",
       "      <th>total_diabetes_prevalence</th>\n",
       "    </tr>\n",
       "  </thead>\n",
       "  <tbody>\n",
       "    <tr>\n",
       "      <th>0</th>\n",
       "      <td>1.0</td>\n",
       "      <td>West Humber-Clairville</td>\n",
       "      <td>5365</td>\n",
       "      <td>31085</td>\n",
       "      <td>17.3</td>\n",
       "    </tr>\n",
       "    <tr>\n",
       "      <th>1</th>\n",
       "      <td>2.0</td>\n",
       "      <td>Mount Olive-Silverstone-Jamestown</td>\n",
       "      <td>4732</td>\n",
       "      <td>26164</td>\n",
       "      <td>18.1</td>\n",
       "    </tr>\n",
       "    <tr>\n",
       "      <th>2</th>\n",
       "      <td>3.0</td>\n",
       "      <td>Thistletown-Beaumond Heights</td>\n",
       "      <td>1546</td>\n",
       "      <td>9095</td>\n",
       "      <td>17.0</td>\n",
       "    </tr>\n",
       "    <tr>\n",
       "      <th>3</th>\n",
       "      <td>4.0</td>\n",
       "      <td>Rexdale-Kipling</td>\n",
       "      <td>1504</td>\n",
       "      <td>9290</td>\n",
       "      <td>16.2</td>\n",
       "    </tr>\n",
       "    <tr>\n",
       "      <th>4</th>\n",
       "      <td>5.0</td>\n",
       "      <td>Elms-Old Rexdale</td>\n",
       "      <td>1298</td>\n",
       "      <td>7897</td>\n",
       "      <td>16.4</td>\n",
       "    </tr>\n",
       "    <tr>\n",
       "      <th>...</th>\n",
       "      <td>...</td>\n",
       "      <td>...</td>\n",
       "      <td>...</td>\n",
       "      <td>...</td>\n",
       "      <td>...</td>\n",
       "    </tr>\n",
       "    <tr>\n",
       "      <th>153</th>\n",
       "      <td>170.0</td>\n",
       "      <td>Yonge-Bay Corridor</td>\n",
       "      <td>625</td>\n",
       "      <td>14982</td>\n",
       "      <td>4.2</td>\n",
       "    </tr>\n",
       "    <tr>\n",
       "      <th>154</th>\n",
       "      <td>171.0</td>\n",
       "      <td>Junction-Wallace Emerson</td>\n",
       "      <td>2184</td>\n",
       "      <td>21437</td>\n",
       "      <td>10.2</td>\n",
       "    </tr>\n",
       "    <tr>\n",
       "      <th>155</th>\n",
       "      <td>172.0</td>\n",
       "      <td>Dovercourt Village</td>\n",
       "      <td>1042</td>\n",
       "      <td>11631</td>\n",
       "      <td>9.0</td>\n",
       "    </tr>\n",
       "    <tr>\n",
       "      <th>156</th>\n",
       "      <td>173.0</td>\n",
       "      <td>North Toronto</td>\n",
       "      <td>964</td>\n",
       "      <td>14910</td>\n",
       "      <td>6.5</td>\n",
       "    </tr>\n",
       "    <tr>\n",
       "      <th>157</th>\n",
       "      <td>174.0</td>\n",
       "      <td>South Eglinton-Davisville</td>\n",
       "      <td>1392</td>\n",
       "      <td>21412</td>\n",
       "      <td>6.5</td>\n",
       "    </tr>\n",
       "  </tbody>\n",
       "</table>\n",
       "<p>158 rows × 5 columns</p>\n",
       "</div>"
      ],
      "text/plain": [
       "     neighbourhood_ID                 neighbourhood_name  \\\n",
       "0                 1.0             West Humber-Clairville   \n",
       "1                 2.0  Mount Olive-Silverstone-Jamestown   \n",
       "2                 3.0       Thistletown-Beaumond Heights   \n",
       "3                 4.0                    Rexdale-Kipling   \n",
       "4                 5.0                   Elms-Old Rexdale   \n",
       "..                ...                                ...   \n",
       "153             170.0                 Yonge-Bay Corridor   \n",
       "154             171.0           Junction-Wallace Emerson   \n",
       "155             172.0                 Dovercourt Village   \n",
       "156             173.0                      North Toronto   \n",
       "157             174.0          South Eglinton-Davisville   \n",
       "\n",
       "     total_diabetes_count  total_neighb_pop  total_diabetes_prevalence  \n",
       "0                    5365             31085                       17.3  \n",
       "1                    4732             26164                       18.1  \n",
       "2                    1546              9095                       17.0  \n",
       "3                    1504              9290                       16.2  \n",
       "4                    1298              7897                       16.4  \n",
       "..                    ...               ...                        ...  \n",
       "153                   625             14982                        4.2  \n",
       "154                  2184             21437                       10.2  \n",
       "155                  1042             11631                        9.0  \n",
       "156                   964             14910                        6.5  \n",
       "157                  1392             21412                        6.5  \n",
       "\n",
       "[158 rows x 5 columns]"
      ]
     },
     "execution_count": 36,
     "metadata": {},
     "output_type": "execute_result"
    }
   ],
   "source": [
    "diabetes_df_clean"
   ]
  },
  {
   "cell_type": "code",
   "execution_count": 37,
   "id": "f9282475",
   "metadata": {
    "slideshow": {
     "slide_type": "skip"
    }
   },
   "outputs": [],
   "source": [
    "# income quintiles \n",
    "q5 = income_df_clean['adult_percent_low_income'].quantile(0.20) #lowest percent low income adult neighbourhoods\n",
    "q4 = income_df_clean['adult_percent_low_income'].quantile(0.40)\n",
    "q3 = income_df_clean['adult_percent_low_income'].quantile(0.60)\n",
    "q2 = income_df_clean['adult_percent_low_income'].quantile(0.80) #highest percent\n",
    "\n",
    "def assign_quintile(q):\n",
    "    if q <= q5:\n",
    "        return 'Fifth quintile' #highest SES neighbourhoods\n",
    "    elif q <= q4:\n",
    "        return 'Fourth quintile'\n",
    "    elif q <= q3:\n",
    "        return 'Third quintile'\n",
    "    elif q <= q2:\n",
    "        return 'Second quintile'\n",
    "    else:\n",
    "        return 'First quintile' #lowest SES neighbourhoods\n",
    "\n",
    "# making a copy to not overwrite the dataframe, best practice \n",
    "income_quintiles_df = income_df_clean.copy()\n",
    "income_quintiles_df['income_quintile'] = income_quintiles_df['adult_percent_low_income'].apply(assign_quintile)"
   ]
  },
  {
   "cell_type": "code",
   "execution_count": 38,
   "id": "c6d1c9e8",
   "metadata": {
    "slideshow": {
     "slide_type": "skip"
    }
   },
   "outputs": [
    {
     "data": {
      "text/html": [
       "<div>\n",
       "<style scoped>\n",
       "    .dataframe tbody tr th:only-of-type {\n",
       "        vertical-align: middle;\n",
       "    }\n",
       "\n",
       "    .dataframe tbody tr th {\n",
       "        vertical-align: top;\n",
       "    }\n",
       "\n",
       "    .dataframe thead th {\n",
       "        text-align: right;\n",
       "    }\n",
       "</style>\n",
       "<table border=\"1\" class=\"dataframe\">\n",
       "  <thead>\n",
       "    <tr style=\"text-align: right;\">\n",
       "      <th></th>\n",
       "      <th>neighbourhood_ID</th>\n",
       "      <th>neighbourhood_name</th>\n",
       "      <th>adult_population</th>\n",
       "      <th>adult_low_income</th>\n",
       "      <th>adult_percent_low_income</th>\n",
       "      <th>income_quintile</th>\n",
       "    </tr>\n",
       "  </thead>\n",
       "  <tbody>\n",
       "    <tr>\n",
       "      <th>0</th>\n",
       "      <td>1.0</td>\n",
       "      <td>West Humber-Clairville</td>\n",
       "      <td>22305</td>\n",
       "      <td>1720</td>\n",
       "      <td>5.2</td>\n",
       "      <td>Fifth quintile</td>\n",
       "    </tr>\n",
       "    <tr>\n",
       "      <th>1</th>\n",
       "      <td>2.0</td>\n",
       "      <td>Mount Olive-Silverstone-Jamestown</td>\n",
       "      <td>19995</td>\n",
       "      <td>2560</td>\n",
       "      <td>8.2</td>\n",
       "      <td>Second quintile</td>\n",
       "    </tr>\n",
       "    <tr>\n",
       "      <th>2</th>\n",
       "      <td>3.0</td>\n",
       "      <td>Thistletown-Beaumond Heights</td>\n",
       "      <td>6280</td>\n",
       "      <td>635</td>\n",
       "      <td>6.4</td>\n",
       "      <td>Fourth quintile</td>\n",
       "    </tr>\n",
       "    <tr>\n",
       "      <th>3</th>\n",
       "      <td>4.0</td>\n",
       "      <td>Rexdale-Kipling</td>\n",
       "      <td>6630</td>\n",
       "      <td>705</td>\n",
       "      <td>6.8</td>\n",
       "      <td>Third quintile</td>\n",
       "    </tr>\n",
       "    <tr>\n",
       "      <th>4</th>\n",
       "      <td>5.0</td>\n",
       "      <td>Elms-Old Rexdale</td>\n",
       "      <td>5980</td>\n",
       "      <td>595</td>\n",
       "      <td>6.4</td>\n",
       "      <td>Fourth quintile</td>\n",
       "    </tr>\n",
       "    <tr>\n",
       "      <th>...</th>\n",
       "      <td>...</td>\n",
       "      <td>...</td>\n",
       "      <td>...</td>\n",
       "      <td>...</td>\n",
       "      <td>...</td>\n",
       "      <td>...</td>\n",
       "    </tr>\n",
       "    <tr>\n",
       "      <th>153</th>\n",
       "      <td>170.0</td>\n",
       "      <td>Yonge-Bay Corridor</td>\n",
       "      <td>10745</td>\n",
       "      <td>2595</td>\n",
       "      <td>20.5</td>\n",
       "      <td>First quintile</td>\n",
       "    </tr>\n",
       "    <tr>\n",
       "      <th>154</th>\n",
       "      <td>171.0</td>\n",
       "      <td>Junction-Wallace Emerson</td>\n",
       "      <td>16815</td>\n",
       "      <td>1685</td>\n",
       "      <td>7.3</td>\n",
       "      <td>Third quintile</td>\n",
       "    </tr>\n",
       "    <tr>\n",
       "      <th>155</th>\n",
       "      <td>172.0</td>\n",
       "      <td>Dovercourt Village</td>\n",
       "      <td>8745</td>\n",
       "      <td>825</td>\n",
       "      <td>6.7</td>\n",
       "      <td>Third quintile</td>\n",
       "    </tr>\n",
       "    <tr>\n",
       "      <th>156</th>\n",
       "      <td>173.0</td>\n",
       "      <td>North Toronto</td>\n",
       "      <td>12500</td>\n",
       "      <td>2120</td>\n",
       "      <td>13.4</td>\n",
       "      <td>First quintile</td>\n",
       "    </tr>\n",
       "    <tr>\n",
       "      <th>157</th>\n",
       "      <td>174.0</td>\n",
       "      <td>South Eglinton-Davisville</td>\n",
       "      <td>17170</td>\n",
       "      <td>2455</td>\n",
       "      <td>10.8</td>\n",
       "      <td>First quintile</td>\n",
       "    </tr>\n",
       "  </tbody>\n",
       "</table>\n",
       "<p>158 rows × 6 columns</p>\n",
       "</div>"
      ],
      "text/plain": [
       "     neighbourhood_ID                 neighbourhood_name  adult_population  \\\n",
       "0                 1.0             West Humber-Clairville             22305   \n",
       "1                 2.0  Mount Olive-Silverstone-Jamestown             19995   \n",
       "2                 3.0       Thistletown-Beaumond Heights              6280   \n",
       "3                 4.0                    Rexdale-Kipling              6630   \n",
       "4                 5.0                   Elms-Old Rexdale              5980   \n",
       "..                ...                                ...               ...   \n",
       "153             170.0                 Yonge-Bay Corridor             10745   \n",
       "154             171.0           Junction-Wallace Emerson             16815   \n",
       "155             172.0                 Dovercourt Village              8745   \n",
       "156             173.0                      North Toronto             12500   \n",
       "157             174.0          South Eglinton-Davisville             17170   \n",
       "\n",
       "     adult_low_income  adult_percent_low_income  income_quintile  \n",
       "0                1720                       5.2   Fifth quintile  \n",
       "1                2560                       8.2  Second quintile  \n",
       "2                 635                       6.4  Fourth quintile  \n",
       "3                 705                       6.8   Third quintile  \n",
       "4                 595                       6.4  Fourth quintile  \n",
       "..                ...                       ...              ...  \n",
       "153              2595                      20.5   First quintile  \n",
       "154              1685                       7.3   Third quintile  \n",
       "155               825                       6.7   Third quintile  \n",
       "156              2120                      13.4   First quintile  \n",
       "157              2455                      10.8   First quintile  \n",
       "\n",
       "[158 rows x 6 columns]"
      ]
     },
     "execution_count": 38,
     "metadata": {},
     "output_type": "execute_result"
    }
   ],
   "source": [
    "income_quintiles_df"
   ]
  },
  {
   "cell_type": "code",
   "execution_count": 39,
   "id": "ff16aef8",
   "metadata": {
    "slideshow": {
     "slide_type": "skip"
    }
   },
   "outputs": [
    {
     "data": {
      "text/plain": [
       "income_quintile\n",
       "Fifth quintile     34\n",
       "Third quintile     32\n",
       "First quintile     32\n",
       "Second quintile    31\n",
       "Fourth quintile    29\n",
       "Name: count, dtype: int64"
      ]
     },
     "execution_count": 39,
     "metadata": {},
     "output_type": "execute_result"
    }
   ],
   "source": [
    "# check if our sorting makes sense\n",
    "income_quintiles_df['income_quintile'].value_counts()"
   ]
  },
  {
   "cell_type": "code",
   "execution_count": 40,
   "id": "4a4e8e31",
   "metadata": {
    "slideshow": {
     "slide_type": "skip"
    }
   },
   "outputs": [],
   "source": [
    "# visualization of quintiles and low income percents, sanity check\n",
    "import altair as alt\n",
    "\n",
    "qsort = ['First quintile', 'Second quintile', 'Third quintile', 'Fourth quintile', 'Fifth quintile']\n",
    "\n",
    "quintile_chart = alt.Chart(income_quintiles_df).mark_bar().encode(\n",
    "    alt.X('income_quintile:N', title='Income quintile', sort=qsort),\n",
    "    alt.Y('mean(adult_percent_low_income):Q', title='Average neighbourhood percent of low income adults'),\n",
    "    tooltip=[\n",
    "    alt.Tooltip('income_quintile:O', title='Income quintile'),\n",
    "    alt.Tooltip('mean(adult_percent_low_income):Q', title='Avg. % Low Income', format='.2f')\n",
    "    ]\n",
    ").properties(title='Average neighbourhood percent of low income adults by quintile', width=400)"
   ]
  },
  {
   "cell_type": "code",
   "execution_count": 41,
   "id": "f875cde9",
   "metadata": {
    "slideshow": {
     "slide_type": "slide"
    }
   },
   "outputs": [
    {
     "data": {
      "text/html": [
       "\n",
       "<style>\n",
       "  #altair-viz-f9bd29aaf5f54801a0d4fda37d839a29.vega-embed {\n",
       "    width: 100%;\n",
       "    display: flex;\n",
       "  }\n",
       "\n",
       "  #altair-viz-f9bd29aaf5f54801a0d4fda37d839a29.vega-embed details,\n",
       "  #altair-viz-f9bd29aaf5f54801a0d4fda37d839a29.vega-embed details summary {\n",
       "    position: relative;\n",
       "  }\n",
       "</style>\n",
       "<div id=\"altair-viz-f9bd29aaf5f54801a0d4fda37d839a29\"></div>\n",
       "<script type=\"text/javascript\">\n",
       "  var VEGA_DEBUG = (typeof VEGA_DEBUG == \"undefined\") ? {} : VEGA_DEBUG;\n",
       "  (function(spec, embedOpt){\n",
       "    let outputDiv = document.currentScript.previousElementSibling;\n",
       "    if (outputDiv.id !== \"altair-viz-f9bd29aaf5f54801a0d4fda37d839a29\") {\n",
       "      outputDiv = document.getElementById(\"altair-viz-f9bd29aaf5f54801a0d4fda37d839a29\");\n",
       "    }\n",
       "    const paths = {\n",
       "      \"vega\": \"https://cdn.jsdelivr.net/npm/vega@5?noext\",\n",
       "      \"vega-lib\": \"https://cdn.jsdelivr.net/npm/vega-lib?noext\",\n",
       "      \"vega-lite\": \"https://cdn.jsdelivr.net/npm/vega-lite@5.16.3?noext\",\n",
       "      \"vega-embed\": \"https://cdn.jsdelivr.net/npm/vega-embed@6?noext\",\n",
       "    };\n",
       "\n",
       "    function maybeLoadScript(lib, version) {\n",
       "      var key = `${lib.replace(\"-\", \"\")}_version`;\n",
       "      return (VEGA_DEBUG[key] == version) ?\n",
       "        Promise.resolve(paths[lib]) :\n",
       "        new Promise(function(resolve, reject) {\n",
       "          var s = document.createElement('script');\n",
       "          document.getElementsByTagName(\"head\")[0].appendChild(s);\n",
       "          s.async = true;\n",
       "          s.onload = () => {\n",
       "            VEGA_DEBUG[key] = version;\n",
       "            return resolve(paths[lib]);\n",
       "          };\n",
       "          s.onerror = () => reject(`Error loading script: ${paths[lib]}`);\n",
       "          s.src = paths[lib];\n",
       "        });\n",
       "    }\n",
       "\n",
       "    function showError(err) {\n",
       "      outputDiv.innerHTML = `<div class=\"error\" style=\"color:red;\">${err}</div>`;\n",
       "      throw err;\n",
       "    }\n",
       "\n",
       "    function displayChart(vegaEmbed) {\n",
       "      vegaEmbed(outputDiv, spec, embedOpt)\n",
       "        .catch(err => showError(`Javascript Error: ${err.message}<br>This usually means there's a typo in your chart specification. See the javascript console for the full traceback.`));\n",
       "    }\n",
       "\n",
       "    if(typeof define === \"function\" && define.amd) {\n",
       "      requirejs.config({paths});\n",
       "      require([\"vega-embed\"], displayChart, err => showError(`Error loading script: ${err.message}`));\n",
       "    } else {\n",
       "      maybeLoadScript(\"vega\", \"5\")\n",
       "        .then(() => maybeLoadScript(\"vega-lite\", \"5.16.3\"))\n",
       "        .then(() => maybeLoadScript(\"vega-embed\", \"6\"))\n",
       "        .catch(showError)\n",
       "        .then(() => displayChart(vegaEmbed));\n",
       "    }\n",
       "  })({\"config\": {\"view\": {\"continuousWidth\": 300, \"continuousHeight\": 300}}, \"data\": {\"name\": \"data-7c8e71ed5157ef028e16493dbf69afec\"}, \"mark\": {\"type\": \"bar\"}, \"encoding\": {\"tooltip\": [{\"field\": \"income_quintile\", \"title\": \"Income quintile\", \"type\": \"ordinal\"}, {\"aggregate\": \"mean\", \"field\": \"adult_percent_low_income\", \"format\": \".2f\", \"title\": \"Avg. % Low Income\", \"type\": \"quantitative\"}], \"x\": {\"field\": \"income_quintile\", \"sort\": [\"First quintile\", \"Second quintile\", \"Third quintile\", \"Fourth quintile\", \"Fifth quintile\"], \"title\": \"Income quintile\", \"type\": \"nominal\"}, \"y\": {\"aggregate\": \"mean\", \"field\": \"adult_percent_low_income\", \"title\": \"Average neighbourhood percent of low income adults\", \"type\": \"quantitative\"}}, \"title\": \"Average neighbourhood percent of low income adults by quintile\", \"width\": 400, \"$schema\": \"https://vega.github.io/schema/vega-lite/v5.16.3.json\", \"datasets\": {\"data-7c8e71ed5157ef028e16493dbf69afec\": [{\"neighbourhood_ID\": 1.0, \"neighbourhood_name\": \"West Humber-Clairville\", \"adult_population\": 22305, \"adult_low_income\": 1720, \"adult_percent_low_income\": 5.2, \"income_quintile\": \"Fifth quintile\"}, {\"neighbourhood_ID\": 2.0, \"neighbourhood_name\": \"Mount Olive-Silverstone-Jamestown\", \"adult_population\": 19995, \"adult_low_income\": 2560, \"adult_percent_low_income\": 8.2, \"income_quintile\": \"Second quintile\"}, {\"neighbourhood_ID\": 3.0, \"neighbourhood_name\": \"Thistletown-Beaumond Heights\", \"adult_population\": 6280, \"adult_low_income\": 635, \"adult_percent_low_income\": 6.4, \"income_quintile\": \"Fourth quintile\"}, {\"neighbourhood_ID\": 4.0, \"neighbourhood_name\": \"Rexdale-Kipling\", \"adult_population\": 6630, \"adult_low_income\": 705, \"adult_percent_low_income\": 6.8, \"income_quintile\": \"Third quintile\"}, {\"neighbourhood_ID\": 5.0, \"neighbourhood_name\": \"Elms-Old Rexdale\", \"adult_population\": 5980, \"adult_low_income\": 595, \"adult_percent_low_income\": 6.4, \"income_quintile\": \"Fourth quintile\"}, {\"neighbourhood_ID\": 6.0, \"neighbourhood_name\": \"Kingsview Village-The Westway\", \"adult_population\": 13620, \"adult_low_income\": 1650, \"adult_percent_low_income\": 7.5, \"income_quintile\": \"Second quintile\"}, {\"neighbourhood_ID\": 7.0, \"neighbourhood_name\": \"Willowridge-Martingrove-Richview\", \"adult_population\": 12985, \"adult_low_income\": 970, \"adult_percent_low_income\": 4.4, \"income_quintile\": \"Fifth quintile\"}, {\"neighbourhood_ID\": 8.0, \"neighbourhood_name\": \"Humber Heights-Westmount\", \"adult_population\": 5915, \"adult_low_income\": 500, \"adult_percent_low_income\": 5.0, \"income_quintile\": \"Fifth quintile\"}, {\"neighbourhood_ID\": 9.0, \"neighbourhood_name\": \"Edenbridge-Humber Valley\", \"adult_population\": 9135, \"adult_low_income\": 675, \"adult_percent_low_income\": 4.4, \"income_quintile\": \"Fifth quintile\"}, {\"neighbourhood_ID\": 10.0, \"neighbourhood_name\": \"Princess-Rosethorn\", \"adult_population\": 6665, \"adult_low_income\": 305, \"adult_percent_low_income\": 2.7, \"income_quintile\": \"Fifth quintile\"}, {\"neighbourhood_ID\": 11.0, \"neighbourhood_name\": \"Eringate-Centennial-West Deane\", \"adult_population\": 11240, \"adult_low_income\": 615, \"adult_percent_low_income\": 3.3, \"income_quintile\": \"Fifth quintile\"}, {\"neighbourhood_ID\": 12.0, \"neighbourhood_name\": \"Markland Wood\", \"adult_population\": 5950, \"adult_low_income\": 305, \"adult_percent_low_income\": 2.9, \"income_quintile\": \"Fifth quintile\"}, {\"neighbourhood_ID\": 13.0, \"neighbourhood_name\": \"Etobicoke West Mall\", \"adult_population\": 7800, \"adult_low_income\": 730, \"adult_percent_low_income\": 6.2, \"income_quintile\": \"Fourth quintile\"}, {\"neighbourhood_ID\": 15.0, \"neighbourhood_name\": \"Kingsway South\", \"adult_population\": 4995, \"adult_low_income\": 240, \"adult_percent_low_income\": 2.7, \"income_quintile\": \"Fifth quintile\"}, {\"neighbourhood_ID\": 16.0, \"neighbourhood_name\": \"Stonegate-Queensway\", \"adult_population\": 16045, \"adult_low_income\": 1325, \"adult_percent_low_income\": 5.2, \"income_quintile\": \"Fifth quintile\"}, {\"neighbourhood_ID\": 18.0, \"neighbourhood_name\": \"New Toronto\", \"adult_population\": 7625, \"adult_low_income\": 1015, \"adult_percent_low_income\": 9.0, \"income_quintile\": \"Second quintile\"}, {\"neighbourhood_ID\": 19.0, \"neighbourhood_name\": \"Long Branch\", \"adult_population\": 7860, \"adult_low_income\": 800, \"adult_percent_low_income\": 7.0, \"income_quintile\": \"Third quintile\"}, {\"neighbourhood_ID\": 20.0, \"neighbourhood_name\": \"Alderwood\", \"adult_population\": 7970, \"adult_low_income\": 445, \"adult_percent_low_income\": 3.5, \"income_quintile\": \"Fifth quintile\"}, {\"neighbourhood_ID\": 21.0, \"neighbourhood_name\": \"Humber Summit\", \"adult_population\": 7335, \"adult_low_income\": 735, \"adult_percent_low_income\": 6.1, \"income_quintile\": \"Fourth quintile\"}, {\"neighbourhood_ID\": 22.0, \"neighbourhood_name\": \"Humbermede\", \"adult_population\": 10930, \"adult_low_income\": 1195, \"adult_percent_low_income\": 7.1, \"income_quintile\": \"Third quintile\"}, {\"neighbourhood_ID\": 23.0, \"neighbourhood_name\": \"Pelmo Park-Humberlea\", \"adult_population\": 7420, \"adult_low_income\": 460, \"adult_percent_low_income\": 4.1, \"income_quintile\": \"Fifth quintile\"}, {\"neighbourhood_ID\": 24.0, \"neighbourhood_name\": \"Black Creek\", \"adult_population\": 13290, \"adult_low_income\": 2090, \"adult_percent_low_income\": 9.9, \"income_quintile\": \"First quintile\"}, {\"neighbourhood_ID\": 25.0, \"neighbourhood_name\": \"Glenfield-Jane Heights\", \"adult_population\": 18715, \"adult_low_income\": 2165, \"adult_percent_low_income\": 7.2, \"income_quintile\": \"Third quintile\"}, {\"neighbourhood_ID\": 27.0, \"neighbourhood_name\": \"York University Heights\", \"adult_population\": 19855, \"adult_low_income\": 2515, \"adult_percent_low_income\": 8.9, \"income_quintile\": \"Second quintile\"}, {\"neighbourhood_ID\": 28.0, \"neighbourhood_name\": \"Rustic\", \"adult_population\": 5685, \"adult_low_income\": 875, \"adult_percent_low_income\": 9.3, \"income_quintile\": \"Second quintile\"}, {\"neighbourhood_ID\": 29.0, \"neighbourhood_name\": \"Maple Leaf\", \"adult_population\": 6155, \"adult_low_income\": 475, \"adult_percent_low_income\": 4.9, \"income_quintile\": \"Fifth quintile\"}, {\"neighbourhood_ID\": 30.0, \"neighbourhood_name\": \"Brookhaven-Amesbury\", \"adult_population\": 11310, \"adult_low_income\": 1320, \"adult_percent_low_income\": 7.6, \"income_quintile\": \"Second quintile\"}, {\"neighbourhood_ID\": 31.0, \"neighbourhood_name\": \"Yorkdale-Glen Park\", \"adult_population\": 11100, \"adult_low_income\": 1190, \"adult_percent_low_income\": 7.2, \"income_quintile\": \"Third quintile\"}, {\"neighbourhood_ID\": 32.0, \"neighbourhood_name\": \"Englemount-Lawrence\", \"adult_population\": 12315, \"adult_low_income\": 1310, \"adult_percent_low_income\": 6.2, \"income_quintile\": \"Fourth quintile\"}, {\"neighbourhood_ID\": 33.0, \"neighbourhood_name\": \"Clanton Park\", \"adult_population\": 11680, \"adult_low_income\": 1145, \"adult_percent_low_income\": 6.5, \"income_quintile\": \"Fourth quintile\"}, {\"neighbourhood_ID\": 34.0, \"neighbourhood_name\": \"Bathurst Manor\", \"adult_population\": 10320, \"adult_low_income\": 950, \"adult_percent_low_income\": 6.0, \"income_quintile\": \"Fourth quintile\"}, {\"neighbourhood_ID\": 35.0, \"neighbourhood_name\": \"Westminster-Branson\", \"adult_population\": 16465, \"adult_low_income\": 1640, \"adult_percent_low_income\": 6.4, \"income_quintile\": \"Fourth quintile\"}, {\"neighbourhood_ID\": 36.0, \"neighbourhood_name\": \"Newtonbrook West\", \"adult_population\": 16245, \"adult_low_income\": 2235, \"adult_percent_low_income\": 9.4, \"income_quintile\": \"Second quintile\"}, {\"neighbourhood_ID\": 37.0, \"neighbourhood_name\": \"Willowdale West\", \"adult_population\": 11365, \"adult_low_income\": 1950, \"adult_percent_low_income\": 11.5, \"income_quintile\": \"First quintile\"}, {\"neighbourhood_ID\": 38.0, \"neighbourhood_name\": \"Lansing-Westgate\", \"adult_population\": 10545, \"adult_low_income\": 1300, \"adult_percent_low_income\": 8.3, \"income_quintile\": \"Second quintile\"}, {\"neighbourhood_ID\": 39.0, \"neighbourhood_name\": \"Bedford Park-Nortown\", \"adult_population\": 12775, \"adult_low_income\": 870, \"adult_percent_low_income\": 3.9, \"income_quintile\": \"Fifth quintile\"}, {\"neighbourhood_ID\": 40.0, \"neighbourhood_name\": \"St.Andrew-Windfields\", \"adult_population\": 10130, \"adult_low_income\": 1275, \"adult_percent_low_income\": 7.6, \"income_quintile\": \"Second quintile\"}, {\"neighbourhood_ID\": 41.0, \"neighbourhood_name\": \"Bridle Path-Sunnybrook-York Mills\", \"adult_population\": 5015, \"adult_low_income\": 495, \"adult_percent_low_income\": 5.5, \"income_quintile\": \"Fourth quintile\"}, {\"neighbourhood_ID\": 42.0, \"neighbourhood_name\": \"Banbury-Don Mills\", \"adult_population\": 15955, \"adult_low_income\": 1680, \"adult_percent_low_income\": 6.2, \"income_quintile\": \"Fourth quintile\"}, {\"neighbourhood_ID\": 43.0, \"neighbourhood_name\": \"Victoria Village\", \"adult_population\": 10775, \"adult_low_income\": 1540, \"adult_percent_low_income\": 8.9, \"income_quintile\": \"Second quintile\"}, {\"neighbourhood_ID\": 44.0, \"neighbourhood_name\": \"Flemingdon Park\", \"adult_population\": 14290, \"adult_low_income\": 2310, \"adult_percent_low_income\": 10.2, \"income_quintile\": \"First quintile\"}, {\"neighbourhood_ID\": 46.0, \"neighbourhood_name\": \"Pleasant View\", \"adult_population\": 9585, \"adult_low_income\": 835, \"adult_percent_low_income\": 5.5, \"income_quintile\": \"Fourth quintile\"}, {\"neighbourhood_ID\": 47.0, \"neighbourhood_name\": \"Don Valley Village\", \"adult_population\": 17070, \"adult_low_income\": 2090, \"adult_percent_low_income\": 7.9, \"income_quintile\": \"Second quintile\"}, {\"neighbourhood_ID\": 48.0, \"neighbourhood_name\": \"Hillcrest Village\", \"adult_population\": 9210, \"adult_low_income\": 1075, \"adult_percent_low_income\": 6.6, \"income_quintile\": \"Third quintile\"}, {\"neighbourhood_ID\": 49.0, \"neighbourhood_name\": \"Bayview Woods-Steeles\", \"adult_population\": 6990, \"adult_low_income\": 835, \"adult_percent_low_income\": 6.9, \"income_quintile\": \"Third quintile\"}, {\"neighbourhood_ID\": 50.0, \"neighbourhood_name\": \"Newtonbrook East\", \"adult_population\": 10315, \"adult_low_income\": 1675, \"adult_percent_low_income\": 10.9, \"income_quintile\": \"First quintile\"}, {\"neighbourhood_ID\": 52.0, \"neighbourhood_name\": \"Bayview Village\", \"adult_population\": 15460, \"adult_low_income\": 2495, \"adult_percent_low_income\": 11.2, \"income_quintile\": \"First quintile\"}, {\"neighbourhood_ID\": 53.0, \"neighbourhood_name\": \"Henry Farm\", \"adult_population\": 14675, \"adult_low_income\": 2360, \"adult_percent_low_income\": 11.9, \"income_quintile\": \"First quintile\"}, {\"neighbourhood_ID\": 54.0, \"neighbourhood_name\": \"O'Connor-Parkview\", \"adult_population\": 11790, \"adult_low_income\": 1415, \"adult_percent_low_income\": 7.7, \"income_quintile\": \"Second quintile\"}, {\"neighbourhood_ID\": 55.0, \"neighbourhood_name\": \"Thorncliffe Park\", \"adult_population\": 12320, \"adult_low_income\": 2480, \"adult_percent_low_income\": 12.2, \"income_quintile\": \"First quintile\"}, {\"neighbourhood_ID\": 56.0, \"neighbourhood_name\": \"Leaside-Bennington\", \"adult_population\": 10060, \"adult_low_income\": 565, \"adult_percent_low_income\": 3.4, \"income_quintile\": \"Fifth quintile\"}, {\"neighbourhood_ID\": 57.0, \"neighbourhood_name\": \"Broadview North\", \"adult_population\": 7365, \"adult_low_income\": 985, \"adult_percent_low_income\": 9.0, \"income_quintile\": \"Second quintile\"}, {\"neighbourhood_ID\": 58.0, \"neighbourhood_name\": \"Old East York\", \"adult_population\": 5760, \"adult_low_income\": 465, \"adult_percent_low_income\": 5.1, \"income_quintile\": \"Fifth quintile\"}, {\"neighbourhood_ID\": 59.0, \"neighbourhood_name\": \"Danforth-East York\", \"adult_population\": 10705, \"adult_low_income\": 845, \"adult_percent_low_income\": 5.0, \"income_quintile\": \"Fifth quintile\"}, {\"neighbourhood_ID\": 60.0, \"neighbourhood_name\": \"Woodbine-Lumsden\", \"adult_population\": 5180, \"adult_low_income\": 390, \"adult_percent_low_income\": 4.9, \"income_quintile\": \"Fifth quintile\"}, {\"neighbourhood_ID\": 61.0, \"neighbourhood_name\": \"Taylor-Massey\", \"adult_population\": 10065, \"adult_low_income\": 1615, \"adult_percent_low_income\": 10.8, \"income_quintile\": \"First quintile\"}, {\"neighbourhood_ID\": 62.0, \"neighbourhood_name\": \"East End-Danforth\", \"adult_population\": 14450, \"adult_low_income\": 1555, \"adult_percent_low_income\": 7.1, \"income_quintile\": \"Third quintile\"}, {\"neighbourhood_ID\": 63.0, \"neighbourhood_name\": \"The Beaches\", \"adult_population\": 13450, \"adult_low_income\": 1105, \"adult_percent_low_income\": 5.1, \"income_quintile\": \"Fifth quintile\"}, {\"neighbourhood_ID\": 64.0, \"neighbourhood_name\": \"Woodbine Corridor\", \"adult_population\": 8010, \"adult_low_income\": 845, \"adult_percent_low_income\": 6.9, \"income_quintile\": \"Third quintile\"}, {\"neighbourhood_ID\": 65.0, \"neighbourhood_name\": \"Greenwood-Coxwell\", \"adult_population\": 9020, \"adult_low_income\": 945, \"adult_percent_low_income\": 6.9, \"income_quintile\": \"Third quintile\"}, {\"neighbourhood_ID\": 66.0, \"neighbourhood_name\": \"Danforth\", \"adult_population\": 5870, \"adult_low_income\": 450, \"adult_percent_low_income\": 4.8, \"income_quintile\": \"Fifth quintile\"}, {\"neighbourhood_ID\": 67.0, \"neighbourhood_name\": \"Playter Estates-Danforth\", \"adult_population\": 4880, \"adult_low_income\": 455, \"adult_percent_low_income\": 5.9, \"income_quintile\": \"Fourth quintile\"}, {\"neighbourhood_ID\": 68.0, \"neighbourhood_name\": \"North Riverdale\", \"adult_population\": 7230, \"adult_low_income\": 565, \"adult_percent_low_income\": 5.0, \"income_quintile\": \"Fifth quintile\"}, {\"neighbourhood_ID\": 69.0, \"neighbourhood_name\": \"Blake-Jones\", \"adult_population\": 4915, \"adult_low_income\": 615, \"adult_percent_low_income\": 8.2, \"income_quintile\": \"Second quintile\"}, {\"neighbourhood_ID\": 70.0, \"neighbourhood_name\": \"South Riverdale\", \"adult_population\": 19945, \"adult_low_income\": 1985, \"adult_percent_low_income\": 7.1, \"income_quintile\": \"Third quintile\"}, {\"neighbourhood_ID\": 71.0, \"neighbourhood_name\": \"Cabbagetown-South St.James Town\", \"adult_population\": 7860, \"adult_low_income\": 960, \"adult_percent_low_income\": 8.7, \"income_quintile\": \"Second quintile\"}, {\"neighbourhood_ID\": 72.0, \"neighbourhood_name\": \"Regent Park\", \"adult_population\": 9025, \"adult_low_income\": 1795, \"adult_percent_low_income\": 14.6, \"income_quintile\": \"First quintile\"}, {\"neighbourhood_ID\": 73.0, \"neighbourhood_name\": \"Moss Park\", \"adult_population\": 17330, \"adult_low_income\": 3610, \"adult_percent_low_income\": 16.9, \"income_quintile\": \"First quintile\"}, {\"neighbourhood_ID\": 74.0, \"neighbourhood_name\": \"North St.James Town\", \"adult_population\": 14100, \"adult_low_income\": 2745, \"adult_percent_low_income\": 14.8, \"income_quintile\": \"First quintile\"}, {\"neighbourhood_ID\": 78.0, \"neighbourhood_name\": \"Kensington-Chinatown\", \"adult_population\": 13835, \"adult_low_income\": 2735, \"adult_percent_low_income\": 15.1, \"income_quintile\": \"First quintile\"}, {\"neighbourhood_ID\": 79.0, \"neighbourhood_name\": \"University\", \"adult_population\": 4610, \"adult_low_income\": 695, \"adult_percent_low_income\": 11.2, \"income_quintile\": \"First quintile\"}, {\"neighbourhood_ID\": 80.0, \"neighbourhood_name\": \"Palmerston-Little Italy\", \"adult_population\": 9425, \"adult_low_income\": 940, \"adult_percent_low_income\": 7.3, \"income_quintile\": \"Third quintile\"}, {\"neighbourhood_ID\": 81.0, \"neighbourhood_name\": \"Trinity-Bellwoods\", \"adult_population\": 11160, \"adult_low_income\": 1120, \"adult_percent_low_income\": 7.3, \"income_quintile\": \"Third quintile\"}, {\"neighbourhood_ID\": 83.0, \"neighbourhood_name\": \"Dufferin Grove\", \"adult_population\": 7815, \"adult_low_income\": 790, \"adult_percent_low_income\": 7.3, \"income_quintile\": \"Third quintile\"}, {\"neighbourhood_ID\": 84.0, \"neighbourhood_name\": \"Little Portugal\", \"adult_population\": 11980, \"adult_low_income\": 1155, \"adult_percent_low_income\": 7.5, \"income_quintile\": \"Second quintile\"}, {\"neighbourhood_ID\": 85.0, \"neighbourhood_name\": \"South Parkdale\", \"adult_population\": 15785, \"adult_low_income\": 2805, \"adult_percent_low_income\": 13.7, \"income_quintile\": \"First quintile\"}, {\"neighbourhood_ID\": 86.0, \"neighbourhood_name\": \"Roncesvalles\", \"adult_population\": 10190, \"adult_low_income\": 1075, \"adult_percent_low_income\": 7.4, \"income_quintile\": \"Third quintile\"}, {\"neighbourhood_ID\": 87.0, \"neighbourhood_name\": \"High Park-Swansea\", \"adult_population\": 14730, \"adult_low_income\": 1215, \"adult_percent_low_income\": 5.4, \"income_quintile\": \"Fifth quintile\"}, {\"neighbourhood_ID\": 88.0, \"neighbourhood_name\": \"High Park North\", \"adult_population\": 15240, \"adult_low_income\": 1715, \"adult_percent_low_income\": 7.8, \"income_quintile\": \"Second quintile\"}, {\"neighbourhood_ID\": 89.0, \"neighbourhood_name\": \"Runnymede-Bloor West Village\", \"adult_population\": 6335, \"adult_low_income\": 295, \"adult_percent_low_income\": 2.9, \"income_quintile\": \"Fifth quintile\"}, {\"neighbourhood_ID\": 90.0, \"neighbourhood_name\": \"Junction Area\", \"adult_population\": 9840, \"adult_low_income\": 865, \"adult_percent_low_income\": 6.2, \"income_quintile\": \"Fourth quintile\"}, {\"neighbourhood_ID\": 91.0, \"neighbourhood_name\": \"Weston-Pelham Park\", \"adult_population\": 6870, \"adult_low_income\": 760, \"adult_percent_low_income\": 7.6, \"income_quintile\": \"Second quintile\"}, {\"neighbourhood_ID\": 92.0, \"neighbourhood_name\": \"Corso Italia-Davenport\", \"adult_population\": 8930, \"adult_low_income\": 715, \"adult_percent_low_income\": 5.4, \"income_quintile\": \"Fifth quintile\"}, {\"neighbourhood_ID\": 94.0, \"neighbourhood_name\": \"Wychwood\", \"adult_population\": 8345, \"adult_low_income\": 795, \"adult_percent_low_income\": 6.2, \"income_quintile\": \"Fourth quintile\"}, {\"neighbourhood_ID\": 95.0, \"neighbourhood_name\": \"Annex\", \"adult_population\": 20490, \"adult_low_income\": 3095, \"adult_percent_low_income\": 10.6, \"income_quintile\": \"First quintile\"}, {\"neighbourhood_ID\": 96.0, \"neighbourhood_name\": \"Casa Loma\", \"adult_population\": 6865, \"adult_low_income\": 730, \"adult_percent_low_income\": 6.5, \"income_quintile\": \"Fourth quintile\"}, {\"neighbourhood_ID\": 97.0, \"neighbourhood_name\": \"Yonge-St.Clair\", \"adult_population\": 8190, \"adult_low_income\": 880, \"adult_percent_low_income\": 6.8, \"income_quintile\": \"Third quintile\"}, {\"neighbourhood_ID\": 98.0, \"neighbourhood_name\": \"Rosedale-Moore Park\", \"adult_population\": 11500, \"adult_low_income\": 1100, \"adult_percent_low_income\": 5.5, \"income_quintile\": \"Fourth quintile\"}, {\"neighbourhood_ID\": 99.0, \"neighbourhood_name\": \"Mount Pleasant East\", \"adult_population\": 10265, \"adult_low_income\": 740, \"adult_percent_low_income\": 4.5, \"income_quintile\": \"Fifth quintile\"}, {\"neighbourhood_ID\": 100.0, \"neighbourhood_name\": \"Yonge-Eglinton\", \"adult_population\": 8325, \"adult_low_income\": 905, \"adult_percent_low_income\": 7.3, \"income_quintile\": \"Third quintile\"}, {\"neighbourhood_ID\": 101.0, \"neighbourhood_name\": \"Forest Hill South\", \"adult_population\": 6470, \"adult_low_income\": 650, \"adult_percent_low_income\": 6.0, \"income_quintile\": \"Fourth quintile\"}, {\"neighbourhood_ID\": 102.0, \"neighbourhood_name\": \"Forest Hill North\", \"adult_population\": 7650, \"adult_low_income\": 765, \"adult_percent_low_income\": 6.2, \"income_quintile\": \"Fourth quintile\"}, {\"neighbourhood_ID\": 103.0, \"neighbourhood_name\": \"Lawrence Park South\", \"adult_population\": 9140, \"adult_low_income\": 675, \"adult_percent_low_income\": 4.5, \"income_quintile\": \"Fifth quintile\"}, {\"neighbourhood_ID\": 105.0, \"neighbourhood_name\": \"Lawrence Park North\", \"adult_population\": 8865, \"adult_low_income\": 485, \"adult_percent_low_income\": 3.3, \"income_quintile\": \"Fifth quintile\"}, {\"neighbourhood_ID\": 106.0, \"neighbourhood_name\": \"Humewood-Cedarvale\", \"adult_population\": 9150, \"adult_low_income\": 940, \"adult_percent_low_income\": 6.8, \"income_quintile\": \"Third quintile\"}, {\"neighbourhood_ID\": 107.0, \"neighbourhood_name\": \"Oakwood Village\", \"adult_population\": 13410, \"adult_low_income\": 1325, \"adult_percent_low_income\": 6.4, \"income_quintile\": \"Fourth quintile\"}, {\"neighbourhood_ID\": 108.0, \"neighbourhood_name\": \"Briar Hill-Belgravia\", \"adult_population\": 9915, \"adult_low_income\": 1010, \"adult_percent_low_income\": 6.9, \"income_quintile\": \"Third quintile\"}, {\"neighbourhood_ID\": 109.0, \"neighbourhood_name\": \"Caledonia-Fairbank\", \"adult_population\": 6755, \"adult_low_income\": 590, \"adult_percent_low_income\": 5.9, \"income_quintile\": \"Fourth quintile\"}, {\"neighbourhood_ID\": 110.0, \"neighbourhood_name\": \"Keelesdale-Eglinton West\", \"adult_population\": 7515, \"adult_low_income\": 760, \"adult_percent_low_income\": 6.7, \"income_quintile\": \"Third quintile\"}, {\"neighbourhood_ID\": 111.0, \"neighbourhood_name\": \"Rockcliffe-Smythe\", \"adult_population\": 14190, \"adult_low_income\": 1815, \"adult_percent_low_income\": 8.2, \"income_quintile\": \"Second quintile\"}, {\"neighbourhood_ID\": 112.0, \"neighbourhood_name\": \"Beechborough-Greenbrook\", \"adult_population\": 3970, \"adult_low_income\": 645, \"adult_percent_low_income\": 10.6, \"income_quintile\": \"First quintile\"}, {\"neighbourhood_ID\": 113.0, \"neighbourhood_name\": \"Weston\", \"adult_population\": 12190, \"adult_low_income\": 1990, \"adult_percent_low_income\": 10.8, \"income_quintile\": \"First quintile\"}, {\"neighbourhood_ID\": 114.0, \"neighbourhood_name\": \"Lambton Baby Point\", \"adult_population\": 4900, \"adult_low_income\": 520, \"adult_percent_low_income\": 6.5, \"income_quintile\": \"Fourth quintile\"}, {\"neighbourhood_ID\": 115.0, \"neighbourhood_name\": \"Mount Dennis\", \"adult_population\": 8695, \"adult_low_income\": 1105, \"adult_percent_low_income\": 8.5, \"income_quintile\": \"Second quintile\"}, {\"neighbourhood_ID\": 116.0, \"neighbourhood_name\": \"Steeles\", \"adult_population\": 12900, \"adult_low_income\": 1495, \"adult_percent_low_income\": 6.7, \"income_quintile\": \"Third quintile\"}, {\"neighbourhood_ID\": 118.0, \"neighbourhood_name\": \"Tam O'Shanter-Sullivan\", \"adult_population\": 16570, \"adult_low_income\": 1820, \"adult_percent_low_income\": 6.7, \"income_quintile\": \"Third quintile\"}, {\"neighbourhood_ID\": 119.0, \"neighbourhood_name\": \"Wexford/Maryvale\", \"adult_population\": 18525, \"adult_low_income\": 1870, \"adult_percent_low_income\": 6.6, \"income_quintile\": \"Third quintile\"}, {\"neighbourhood_ID\": 120.0, \"neighbourhood_name\": \"Clairlea-Birchmount\", \"adult_population\": 17735, \"adult_low_income\": 1730, \"adult_percent_low_income\": 6.4, \"income_quintile\": \"Fourth quintile\"}, {\"neighbourhood_ID\": 121.0, \"neighbourhood_name\": \"Oakridge\", \"adult_population\": 8920, \"adult_low_income\": 1730, \"adult_percent_low_income\": 12.6, \"income_quintile\": \"First quintile\"}, {\"neighbourhood_ID\": 122.0, \"neighbourhood_name\": \"Birchcliffe-Cliffside\", \"adult_population\": 14365, \"adult_low_income\": 1395, \"adult_percent_low_income\": 6.2, \"income_quintile\": \"Fourth quintile\"}, {\"neighbourhood_ID\": 123.0, \"neighbourhood_name\": \"Cliffcrest\", \"adult_population\": 9985, \"adult_low_income\": 905, \"adult_percent_low_income\": 5.6, \"income_quintile\": \"Fourth quintile\"}, {\"neighbourhood_ID\": 124.0, \"neighbourhood_name\": \"Kennedy Park\", \"adult_population\": 11070, \"adult_low_income\": 1610, \"adult_percent_low_income\": 9.4, \"income_quintile\": \"Second quintile\"}, {\"neighbourhood_ID\": 125.0, \"neighbourhood_name\": \"Ionview\", \"adult_population\": 8615, \"adult_low_income\": 990, \"adult_percent_low_income\": 7.4, \"income_quintile\": \"Third quintile\"}, {\"neighbourhood_ID\": 126.0, \"neighbourhood_name\": \"Dorset Park\", \"adult_population\": 15880, \"adult_low_income\": 1640, \"adult_percent_low_income\": 6.8, \"income_quintile\": \"Third quintile\"}, {\"neighbourhood_ID\": 128.0, \"neighbourhood_name\": \"Agincourt South-Malvern West\", \"adult_population\": 16060, \"adult_low_income\": 1945, \"adult_percent_low_income\": 8.0, \"income_quintile\": \"Second quintile\"}, {\"neighbourhood_ID\": 129.0, \"neighbourhood_name\": \"Agincourt North\", \"adult_population\": 16295, \"adult_low_income\": 1510, \"adult_percent_low_income\": 5.7, \"income_quintile\": \"Fourth quintile\"}, {\"neighbourhood_ID\": 130.0, \"neighbourhood_name\": \"Milliken\", \"adult_population\": 14455, \"adult_low_income\": 1745, \"adult_percent_low_income\": 7.3, \"income_quintile\": \"Third quintile\"}, {\"neighbourhood_ID\": 133.0, \"neighbourhood_name\": \"Centennial Scarborough\", \"adult_population\": 8015, \"adult_low_income\": 280, \"adult_percent_low_income\": 2.1, \"income_quintile\": \"Fifth quintile\"}, {\"neighbourhood_ID\": 134.0, \"neighbourhood_name\": \"Highland Creek\", \"adult_population\": 7920, \"adult_low_income\": 515, \"adult_percent_low_income\": 4.1, \"income_quintile\": \"Fifth quintile\"}, {\"neighbourhood_ID\": 135.0, \"neighbourhood_name\": \"Morningside\", \"adult_population\": 11260, \"adult_low_income\": 1190, \"adult_percent_low_income\": 6.7, \"income_quintile\": \"Third quintile\"}, {\"neighbourhood_ID\": 136.0, \"neighbourhood_name\": \"West Hill\", \"adult_population\": 18115, \"adult_low_income\": 2410, \"adult_percent_low_income\": 8.6, \"income_quintile\": \"Second quintile\"}, {\"neighbourhood_ID\": 138.0, \"neighbourhood_name\": \"Eglinton East\", \"adult_population\": 14235, \"adult_low_income\": 1600, \"adult_percent_low_income\": 7.2, \"income_quintile\": \"Third quintile\"}, {\"neighbourhood_ID\": 139.0, \"neighbourhood_name\": \"Scarborough Village\", \"adult_population\": 10325, \"adult_low_income\": 1540, \"adult_percent_low_income\": 9.4, \"income_quintile\": \"Second quintile\"}, {\"neighbourhood_ID\": 140.0, \"neighbourhood_name\": \"Guildwood\", \"adult_population\": 5395, \"adult_low_income\": 290, \"adult_percent_low_income\": 3.0, \"income_quintile\": \"Fifth quintile\"}, {\"neighbourhood_ID\": 141.0, \"neighbourhood_name\": \"Golfdale-Cedarbrae-Woburn\", \"adult_population\": 16920, \"adult_low_income\": 2160, \"adult_percent_low_income\": 8.0, \"income_quintile\": \"Second quintile\"}, {\"neighbourhood_ID\": 142.0, \"neighbourhood_name\": \"Woburn North\", \"adult_population\": 17645, \"adult_low_income\": 2420, \"adult_percent_low_income\": 9.1, \"income_quintile\": \"Second quintile\"}, {\"neighbourhood_ID\": 143.0, \"neighbourhood_name\": \"West Rouge\", \"adult_population\": 12630, \"adult_low_income\": 655, \"adult_percent_low_income\": 3.2, \"income_quintile\": \"Fifth quintile\"}, {\"neighbourhood_ID\": 144.0, \"neighbourhood_name\": \"Morningside Heights\", \"adult_population\": 16280, \"adult_low_income\": 775, \"adult_percent_low_income\": 3.1, \"income_quintile\": \"Fifth quintile\"}, {\"neighbourhood_ID\": 145.0, \"neighbourhood_name\": \"Malvern West\", \"adult_population\": 10900, \"adult_low_income\": 915, \"adult_percent_low_income\": 5.4, \"income_quintile\": \"Fifth quintile\"}, {\"neighbourhood_ID\": 146.0, \"neighbourhood_name\": \"Malvern East\", \"adult_population\": 16605, \"adult_low_income\": 1410, \"adult_percent_low_income\": 5.5, \"income_quintile\": \"Fourth quintile\"}, {\"neighbourhood_ID\": 147.0, \"neighbourhood_name\": \"L'Amoreaux West\", \"adult_population\": 12460, \"adult_low_income\": 1365, \"adult_percent_low_income\": 6.5, \"income_quintile\": \"Fourth quintile\"}, {\"neighbourhood_ID\": 148.0, \"neighbourhood_name\": \"East L'Amoreaux\", \"adult_population\": 13385, \"adult_low_income\": 1595, \"adult_percent_low_income\": 7.5, \"income_quintile\": \"Second quintile\"}, {\"neighbourhood_ID\": 149.0, \"neighbourhood_name\": \"Parkwoods-O'Connor Hills\", \"adult_population\": 8655, \"adult_low_income\": 870, \"adult_percent_low_income\": 6.2, \"income_quintile\": \"Fourth quintile\"}, {\"neighbourhood_ID\": 150.0, \"neighbourhood_name\": \"Fenside-Parkwoods\", \"adult_population\": 13710, \"adult_low_income\": 1500, \"adult_percent_low_income\": 7.3, \"income_quintile\": \"Third quintile\"}, {\"neighbourhood_ID\": 151.0, \"neighbourhood_name\": \"Yonge-Doris\", \"adult_population\": 14300, \"adult_low_income\": 2995, \"adult_percent_low_income\": 14.9, \"income_quintile\": \"First quintile\"}, {\"neighbourhood_ID\": 152.0, \"neighbourhood_name\": \"East Willowdale\", \"adult_population\": 10015, \"adult_low_income\": 1645, \"adult_percent_low_income\": 10.6, \"income_quintile\": \"First quintile\"}, {\"neighbourhood_ID\": 153.0, \"neighbourhood_name\": \"Avondale\", \"adult_population\": 10650, \"adult_low_income\": 1930, \"adult_percent_low_income\": 14.0, \"income_quintile\": \"First quintile\"}, {\"neighbourhood_ID\": 154.0, \"neighbourhood_name\": \"Oakdale-Beverley Heights\", \"adult_population\": 13805, \"adult_low_income\": 1630, \"adult_percent_low_income\": 7.6, \"income_quintile\": \"Second quintile\"}, {\"neighbourhood_ID\": 155.0, \"neighbourhood_name\": \"Downsview\", \"adult_population\": 12100, \"adult_low_income\": 1145, \"adult_percent_low_income\": 6.4, \"income_quintile\": \"Fourth quintile\"}, {\"neighbourhood_ID\": 156.0, \"neighbourhood_name\": \"Bendale-Glen Andrew\", \"adult_population\": 12035, \"adult_low_income\": 1825, \"adult_percent_low_income\": 9.8, \"income_quintile\": \"First quintile\"}, {\"neighbourhood_ID\": 157.0, \"neighbourhood_name\": \"Bendale South\", \"adult_population\": 6985, \"adult_low_income\": 565, \"adult_percent_low_income\": 5.3, \"income_quintile\": \"Fifth quintile\"}, {\"neighbourhood_ID\": 158.0, \"neighbourhood_name\": \"Islington\", \"adult_population\": 14475, \"adult_low_income\": 1110, \"adult_percent_low_income\": 4.8, \"income_quintile\": \"Fifth quintile\"}, {\"neighbourhood_ID\": 159.0, \"neighbourhood_name\": \"Etobicoke City Centre\", \"adult_population\": 17435, \"adult_low_income\": 1885, \"adult_percent_low_income\": 8.0, \"income_quintile\": \"Second quintile\"}, {\"neighbourhood_ID\": 160.0, \"neighbourhood_name\": \"Mimico-Queensway\", \"adult_population\": 11615, \"adult_low_income\": 1155, \"adult_percent_low_income\": 6.8, \"income_quintile\": \"Third quintile\"}, {\"neighbourhood_ID\": 161.0, \"neighbourhood_name\": \"Humber Bay Shores\", \"adult_population\": 17065, \"adult_low_income\": 2240, \"adult_percent_low_income\": 9.9, \"income_quintile\": \"First quintile\"}, {\"neighbourhood_ID\": 162.0, \"neighbourhood_name\": \"West Queen West\", \"adult_population\": 10720, \"adult_low_income\": 1000, \"adult_percent_low_income\": 7.6, \"income_quintile\": \"Second quintile\"}, {\"neighbourhood_ID\": 163.0, \"neighbourhood_name\": \"Fort York-Liberty Village\", \"adult_population\": 17875, \"adult_low_income\": 1725, \"adult_percent_low_income\": 8.6, \"income_quintile\": \"Second quintile\"}, {\"neighbourhood_ID\": 164.0, \"neighbourhood_name\": \"Wellington Place\", \"adult_population\": 23565, \"adult_low_income\": 3210, \"adult_percent_low_income\": 12.6, \"income_quintile\": \"First quintile\"}, {\"neighbourhood_ID\": 165.0, \"neighbourhood_name\": \"Harbourfront-CityPlace\", \"adult_population\": 24410, \"adult_low_income\": 3355, \"adult_percent_low_income\": 11.9, \"income_quintile\": \"First quintile\"}, {\"neighbourhood_ID\": 166.0, \"neighbourhood_name\": \"St Lawrence-East Bayfront-The Islands\", \"adult_population\": 24670, \"adult_low_income\": 3385, \"adult_percent_low_income\": 10.8, \"income_quintile\": \"First quintile\"}, {\"neighbourhood_ID\": 167.0, \"neighbourhood_name\": \"Church-Wellesley\", \"adult_population\": 19015, \"adult_low_income\": 4555, \"adult_percent_low_income\": 20.5, \"income_quintile\": \"First quintile\"}, {\"neighbourhood_ID\": 168.0, \"neighbourhood_name\": \"Downtown Yonge East\", \"adult_population\": 14750, \"adult_low_income\": 3090, \"adult_percent_low_income\": 17.4, \"income_quintile\": \"First quintile\"}, {\"neighbourhood_ID\": 169.0, \"neighbourhood_name\": \"Bay-Cloverhill\", \"adult_population\": 13675, \"adult_low_income\": 4330, \"adult_percent_low_income\": 26.0, \"income_quintile\": \"First quintile\"}, {\"neighbourhood_ID\": 170.0, \"neighbourhood_name\": \"Yonge-Bay Corridor\", \"adult_population\": 10745, \"adult_low_income\": 2595, \"adult_percent_low_income\": 20.5, \"income_quintile\": \"First quintile\"}, {\"neighbourhood_ID\": 171.0, \"neighbourhood_name\": \"Junction-Wallace Emerson\", \"adult_population\": 16815, \"adult_low_income\": 1685, \"adult_percent_low_income\": 7.3, \"income_quintile\": \"Third quintile\"}, {\"neighbourhood_ID\": 172.0, \"neighbourhood_name\": \"Dovercourt Village\", \"adult_population\": 8745, \"adult_low_income\": 825, \"adult_percent_low_income\": 6.7, \"income_quintile\": \"Third quintile\"}, {\"neighbourhood_ID\": 173.0, \"neighbourhood_name\": \"North Toronto\", \"adult_population\": 12500, \"adult_low_income\": 2120, \"adult_percent_low_income\": 13.4, \"income_quintile\": \"First quintile\"}, {\"neighbourhood_ID\": 174.0, \"neighbourhood_name\": \"South Eglinton-Davisville\", \"adult_population\": 17170, \"adult_low_income\": 2455, \"adult_percent_low_income\": 10.8, \"income_quintile\": \"First quintile\"}]}}, {\"mode\": \"vega-lite\"});\n",
       "</script>"
      ],
      "text/plain": [
       "alt.Chart(...)"
      ]
     },
     "execution_count": 41,
     "metadata": {},
     "output_type": "execute_result"
    }
   ],
   "source": [
    "quintile_chart"
   ]
  },
  {
   "cell_type": "code",
   "execution_count": 42,
   "id": "e6615a68",
   "metadata": {
    "slideshow": {
     "slide_type": "skip"
    }
   },
   "outputs": [],
   "source": [
    "# merging the two dataframes\n",
    "\n",
    "# first, making sure the datasets can be indiscriminately concatenated horizontally \n",
    "test = diabetes_df_clean['neighbourhood_name'] == income_quintiles_df['neighbourhood_name']\n",
    "test.sum() # will add all the true values and equal the number of rows we have\n",
    "\n",
    "# concatenating the two dataframes \n",
    "diabetes_income = pd.concat([income_quintiles_df, diabetes_df_clean], axis=1)\n",
    "\n",
    "# drop duplicate columns\n",
    "diabetes_income = diabetes_income.T.drop_duplicates().T"
   ]
  },
  {
   "cell_type": "markdown",
   "id": "2eb75436",
   "metadata": {
    "slideshow": {
     "slide_type": "slide"
    }
   },
   "source": [
    "## Data wrangling\n",
    "- Finally, I merged the datasets by matching neighborhoods and concatenating them with **pd.concat()**, ensuring no duplicate columns remained using **drop_duplicates()**. This produced the diabetes_income dataset, combining both income quintile and diabetes data for further analysis."
   ]
  },
  {
   "cell_type": "code",
   "execution_count": 43,
   "id": "8d5052cc",
   "metadata": {
    "slideshow": {
     "slide_type": "slide"
    }
   },
   "outputs": [
    {
     "data": {
      "text/html": [
       "<div>\n",
       "<style scoped>\n",
       "    .dataframe tbody tr th:only-of-type {\n",
       "        vertical-align: middle;\n",
       "    }\n",
       "\n",
       "    .dataframe tbody tr th {\n",
       "        vertical-align: top;\n",
       "    }\n",
       "\n",
       "    .dataframe thead th {\n",
       "        text-align: right;\n",
       "    }\n",
       "</style>\n",
       "<table border=\"1\" class=\"dataframe\">\n",
       "  <thead>\n",
       "    <tr style=\"text-align: right;\">\n",
       "      <th></th>\n",
       "      <th>Unnamed: 0</th>\n",
       "      <th>Unnamed: 1</th>\n",
       "      <th>Total - Population to whom Low Income Concepts Are Applicable (Denominator)^</th>\n",
       "      <th>In LICO-AT</th>\n",
       "      <th>In LICO-AT (%)</th>\n",
       "      <th>Total - Population to whom Low Income Concepts Are Applicable (0-17 yrs)</th>\n",
       "      <th>In LICO-AT \\n(0-17 yrs)</th>\n",
       "      <th>In LICO-AT \\n(0-17 yrs) (%)</th>\n",
       "      <th>Total - Population to whom Low Income Concepts Are Applicable (0-5 yrs)</th>\n",
       "      <th>In LICO-AT \\n(0-5 yrs)</th>\n",
       "      <th>...</th>\n",
       "      <th>In LIM-AT \\n(0-17 yrs) (%)</th>\n",
       "      <th>Total - Population to whom Low Income Concepts Are Applicable (0-5 yrs).1</th>\n",
       "      <th>In LIM-AT \\n(0-5 yrs)</th>\n",
       "      <th>In LIM-AT \\n(0-5 yrs) (%)</th>\n",
       "      <th>Total - Population to whom Low Income Concepts Are Applicable (18-64 yrs).1</th>\n",
       "      <th>In LIM-AT \\n(18-64 yrs)</th>\n",
       "      <th>In LIM-AT \\n(18-64 yrs) (%)</th>\n",
       "      <th>Total - Population to whom Low Income Concepts Are Applicable (65+ yrs).1</th>\n",
       "      <th>In LIM-AT \\n(65+ yrs)</th>\n",
       "      <th>In LIM-AT \\n(65+ yrs) (%)</th>\n",
       "    </tr>\n",
       "  </thead>\n",
       "  <tbody>\n",
       "    <tr>\n",
       "      <th>0</th>\n",
       "      <td>1.0</td>\n",
       "      <td>West Humber-Clairville</td>\n",
       "      <td>32905</td>\n",
       "      <td>2450</td>\n",
       "      <td>7.4</td>\n",
       "      <td>5300</td>\n",
       "      <td>285</td>\n",
       "      <td>0.9</td>\n",
       "      <td>1670</td>\n",
       "      <td>100</td>\n",
       "      <td>...</td>\n",
       "      <td>1.7</td>\n",
       "      <td>1670</td>\n",
       "      <td>210</td>\n",
       "      <td>0.6</td>\n",
       "      <td>22305</td>\n",
       "      <td>1720</td>\n",
       "      <td>5.2</td>\n",
       "      <td>5295</td>\n",
       "      <td>590</td>\n",
       "      <td>1.8</td>\n",
       "    </tr>\n",
       "    <tr>\n",
       "      <th>1</th>\n",
       "      <td>2.0</td>\n",
       "      <td>Mount Olive-Silverstone-Jamestown</td>\n",
       "      <td>31195</td>\n",
       "      <td>2705</td>\n",
       "      <td>8.7</td>\n",
       "      <td>7120</td>\n",
       "      <td>670</td>\n",
       "      <td>2.1</td>\n",
       "      <td>2020</td>\n",
       "      <td>210</td>\n",
       "      <td>...</td>\n",
       "      <td>5.1</td>\n",
       "      <td>2015</td>\n",
       "      <td>490</td>\n",
       "      <td>1.6</td>\n",
       "      <td>19995</td>\n",
       "      <td>2560</td>\n",
       "      <td>8.2</td>\n",
       "      <td>4130</td>\n",
       "      <td>700</td>\n",
       "      <td>2.2</td>\n",
       "    </tr>\n",
       "    <tr>\n",
       "      <th>2</th>\n",
       "      <td>3.0</td>\n",
       "      <td>Thistletown-Beaumond Heights</td>\n",
       "      <td>9845</td>\n",
       "      <td>725</td>\n",
       "      <td>7.4</td>\n",
       "      <td>1855</td>\n",
       "      <td>140</td>\n",
       "      <td>1.4</td>\n",
       "      <td>590</td>\n",
       "      <td>60</td>\n",
       "      <td>...</td>\n",
       "      <td>3.1</td>\n",
       "      <td>575</td>\n",
       "      <td>95</td>\n",
       "      <td>1.0</td>\n",
       "      <td>6280</td>\n",
       "      <td>635</td>\n",
       "      <td>6.4</td>\n",
       "      <td>1740</td>\n",
       "      <td>220</td>\n",
       "      <td>2.2</td>\n",
       "    </tr>\n",
       "    <tr>\n",
       "      <th>3</th>\n",
       "      <td>4.0</td>\n",
       "      <td>Rexdale-Kipling</td>\n",
       "      <td>10380</td>\n",
       "      <td>775</td>\n",
       "      <td>7.5</td>\n",
       "      <td>1895</td>\n",
       "      <td>145</td>\n",
       "      <td>1.4</td>\n",
       "      <td>635</td>\n",
       "      <td>50</td>\n",
       "      <td>...</td>\n",
       "      <td>3.3</td>\n",
       "      <td>620</td>\n",
       "      <td>110</td>\n",
       "      <td>1.1</td>\n",
       "      <td>6630</td>\n",
       "      <td>705</td>\n",
       "      <td>6.8</td>\n",
       "      <td>1850</td>\n",
       "      <td>355</td>\n",
       "      <td>3.4</td>\n",
       "    </tr>\n",
       "    <tr>\n",
       "      <th>4</th>\n",
       "      <td>5.0</td>\n",
       "      <td>Elms-Old Rexdale</td>\n",
       "      <td>9360</td>\n",
       "      <td>715</td>\n",
       "      <td>7.6</td>\n",
       "      <td>2000</td>\n",
       "      <td>210</td>\n",
       "      <td>2.2</td>\n",
       "      <td>565</td>\n",
       "      <td>60</td>\n",
       "      <td>...</td>\n",
       "      <td>4.2</td>\n",
       "      <td>580</td>\n",
       "      <td>120</td>\n",
       "      <td>1.3</td>\n",
       "      <td>5980</td>\n",
       "      <td>595</td>\n",
       "      <td>6.4</td>\n",
       "      <td>1390</td>\n",
       "      <td>175</td>\n",
       "      <td>1.9</td>\n",
       "    </tr>\n",
       "    <tr>\n",
       "      <th>...</th>\n",
       "      <td>...</td>\n",
       "      <td>...</td>\n",
       "      <td>...</td>\n",
       "      <td>...</td>\n",
       "      <td>...</td>\n",
       "      <td>...</td>\n",
       "      <td>...</td>\n",
       "      <td>...</td>\n",
       "      <td>...</td>\n",
       "      <td>...</td>\n",
       "      <td>...</td>\n",
       "      <td>...</td>\n",
       "      <td>...</td>\n",
       "      <td>...</td>\n",
       "      <td>...</td>\n",
       "      <td>...</td>\n",
       "      <td>...</td>\n",
       "      <td>...</td>\n",
       "      <td>...</td>\n",
       "      <td>...</td>\n",
       "      <td>...</td>\n",
       "    </tr>\n",
       "    <tr>\n",
       "      <th>154</th>\n",
       "      <td>171.0</td>\n",
       "      <td>Junction-Wallace Emerson</td>\n",
       "      <td>23230</td>\n",
       "      <td>1945</td>\n",
       "      <td>8.4</td>\n",
       "      <td>3540</td>\n",
       "      <td>190</td>\n",
       "      <td>0.8</td>\n",
       "      <td>1395</td>\n",
       "      <td>45</td>\n",
       "      <td>...</td>\n",
       "      <td>1.5</td>\n",
       "      <td>1370</td>\n",
       "      <td>125</td>\n",
       "      <td>0.5</td>\n",
       "      <td>16815</td>\n",
       "      <td>1685</td>\n",
       "      <td>7.3</td>\n",
       "      <td>2960</td>\n",
       "      <td>610</td>\n",
       "      <td>2.6</td>\n",
       "    </tr>\n",
       "    <tr>\n",
       "      <th>155</th>\n",
       "      <td>172.0</td>\n",
       "      <td>Dovercourt Village</td>\n",
       "      <td>12315</td>\n",
       "      <td>1040</td>\n",
       "      <td>8.4</td>\n",
       "      <td>1645</td>\n",
       "      <td>80</td>\n",
       "      <td>0.6</td>\n",
       "      <td>530</td>\n",
       "      <td>10</td>\n",
       "      <td>...</td>\n",
       "      <td>1.1</td>\n",
       "      <td>530</td>\n",
       "      <td>30</td>\n",
       "      <td>0.2</td>\n",
       "      <td>8745</td>\n",
       "      <td>825</td>\n",
       "      <td>6.7</td>\n",
       "      <td>1910</td>\n",
       "      <td>235</td>\n",
       "      <td>1.9</td>\n",
       "    </tr>\n",
       "    <tr>\n",
       "      <th>156</th>\n",
       "      <td>173.0</td>\n",
       "      <td>North Toronto</td>\n",
       "      <td>15885</td>\n",
       "      <td>1975</td>\n",
       "      <td>12.4</td>\n",
       "      <td>1590</td>\n",
       "      <td>190</td>\n",
       "      <td>1.2</td>\n",
       "      <td>615</td>\n",
       "      <td>65</td>\n",
       "      <td>...</td>\n",
       "      <td>2.0</td>\n",
       "      <td>620</td>\n",
       "      <td>100</td>\n",
       "      <td>0.6</td>\n",
       "      <td>12500</td>\n",
       "      <td>2120</td>\n",
       "      <td>13.4</td>\n",
       "      <td>1805</td>\n",
       "      <td>505</td>\n",
       "      <td>3.2</td>\n",
       "    </tr>\n",
       "    <tr>\n",
       "      <th>157</th>\n",
       "      <td>174.0</td>\n",
       "      <td>South Eglinton-Davisville</td>\n",
       "      <td>22715</td>\n",
       "      <td>2450</td>\n",
       "      <td>10.8</td>\n",
       "      <td>2520</td>\n",
       "      <td>240</td>\n",
       "      <td>1.1</td>\n",
       "      <td>1035</td>\n",
       "      <td>85</td>\n",
       "      <td>...</td>\n",
       "      <td>1.7</td>\n",
       "      <td>1020</td>\n",
       "      <td>125</td>\n",
       "      <td>0.5</td>\n",
       "      <td>17170</td>\n",
       "      <td>2455</td>\n",
       "      <td>10.8</td>\n",
       "      <td>3045</td>\n",
       "      <td>640</td>\n",
       "      <td>2.8</td>\n",
       "    </tr>\n",
       "    <tr>\n",
       "      <th>158</th>\n",
       "      <td>NaN</td>\n",
       "      <td>City of Toronto</td>\n",
       "      <td>2761290</td>\n",
       "      <td>241110</td>\n",
       "      <td>8.7</td>\n",
       "      <td>461805</td>\n",
       "      <td>35500</td>\n",
       "      <td>1.3</td>\n",
       "      <td>148485</td>\n",
       "      <td>11610</td>\n",
       "      <td>...</td>\n",
       "      <td>2.5</td>\n",
       "      <td>148485</td>\n",
       "      <td>22175</td>\n",
       "      <td>0.8</td>\n",
       "      <td>1842580</td>\n",
       "      <td>218825</td>\n",
       "      <td>7.9</td>\n",
       "      <td>456895</td>\n",
       "      <td>77410</td>\n",
       "      <td>2.8</td>\n",
       "    </tr>\n",
       "  </tbody>\n",
       "</table>\n",
       "<p>159 rows × 32 columns</p>\n",
       "</div>"
      ],
      "text/plain": [
       "     Unnamed: 0                         Unnamed: 1  \\\n",
       "0           1.0             West Humber-Clairville   \n",
       "1           2.0  Mount Olive-Silverstone-Jamestown   \n",
       "2           3.0       Thistletown-Beaumond Heights   \n",
       "3           4.0                    Rexdale-Kipling   \n",
       "4           5.0                   Elms-Old Rexdale   \n",
       "..          ...                                ...   \n",
       "154       171.0           Junction-Wallace Emerson   \n",
       "155       172.0                 Dovercourt Village   \n",
       "156       173.0                      North Toronto   \n",
       "157       174.0          South Eglinton-Davisville   \n",
       "158         NaN                    City of Toronto   \n",
       "\n",
       "     Total - Population to whom Low Income Concepts Are Applicable (Denominator)^  \\\n",
       "0                                                32905                              \n",
       "1                                                31195                              \n",
       "2                                                 9845                              \n",
       "3                                                10380                              \n",
       "4                                                 9360                              \n",
       "..                                                 ...                              \n",
       "154                                              23230                              \n",
       "155                                              12315                              \n",
       "156                                              15885                              \n",
       "157                                              22715                              \n",
       "158                                            2761290                              \n",
       "\n",
       "     In LICO-AT  In LICO-AT (%)  \\\n",
       "0          2450             7.4   \n",
       "1          2705             8.7   \n",
       "2           725             7.4   \n",
       "3           775             7.5   \n",
       "4           715             7.6   \n",
       "..          ...             ...   \n",
       "154        1945             8.4   \n",
       "155        1040             8.4   \n",
       "156        1975            12.4   \n",
       "157        2450            10.8   \n",
       "158      241110             8.7   \n",
       "\n",
       "     Total - Population to whom Low Income Concepts Are Applicable (0-17 yrs)  \\\n",
       "0                                                 5300                          \n",
       "1                                                 7120                          \n",
       "2                                                 1855                          \n",
       "3                                                 1895                          \n",
       "4                                                 2000                          \n",
       "..                                                 ...                          \n",
       "154                                               3540                          \n",
       "155                                               1645                          \n",
       "156                                               1590                          \n",
       "157                                               2520                          \n",
       "158                                             461805                          \n",
       "\n",
       "     In LICO-AT \\n(0-17 yrs)  In LICO-AT \\n(0-17 yrs) (%)  \\\n",
       "0                        285                          0.9   \n",
       "1                        670                          2.1   \n",
       "2                        140                          1.4   \n",
       "3                        145                          1.4   \n",
       "4                        210                          2.2   \n",
       "..                       ...                          ...   \n",
       "154                      190                          0.8   \n",
       "155                       80                          0.6   \n",
       "156                      190                          1.2   \n",
       "157                      240                          1.1   \n",
       "158                    35500                          1.3   \n",
       "\n",
       "     Total - Population to whom Low Income Concepts Are Applicable (0-5 yrs)  \\\n",
       "0                                                 1670                         \n",
       "1                                                 2020                         \n",
       "2                                                  590                         \n",
       "3                                                  635                         \n",
       "4                                                  565                         \n",
       "..                                                 ...                         \n",
       "154                                               1395                         \n",
       "155                                                530                         \n",
       "156                                                615                         \n",
       "157                                               1035                         \n",
       "158                                             148485                         \n",
       "\n",
       "     In LICO-AT \\n(0-5 yrs)  ...  In LIM-AT \\n(0-17 yrs) (%)  \\\n",
       "0                       100  ...                         1.7   \n",
       "1                       210  ...                         5.1   \n",
       "2                        60  ...                         3.1   \n",
       "3                        50  ...                         3.3   \n",
       "4                        60  ...                         4.2   \n",
       "..                      ...  ...                         ...   \n",
       "154                      45  ...                         1.5   \n",
       "155                      10  ...                         1.1   \n",
       "156                      65  ...                         2.0   \n",
       "157                      85  ...                         1.7   \n",
       "158                   11610  ...                         2.5   \n",
       "\n",
       "     Total - Population to whom Low Income Concepts Are Applicable (0-5 yrs).1  \\\n",
       "0                                                 1670                           \n",
       "1                                                 2015                           \n",
       "2                                                  575                           \n",
       "3                                                  620                           \n",
       "4                                                  580                           \n",
       "..                                                 ...                           \n",
       "154                                               1370                           \n",
       "155                                                530                           \n",
       "156                                                620                           \n",
       "157                                               1020                           \n",
       "158                                             148485                           \n",
       "\n",
       "     In LIM-AT \\n(0-5 yrs)  In LIM-AT \\n(0-5 yrs) (%)  \\\n",
       "0                      210                        0.6   \n",
       "1                      490                        1.6   \n",
       "2                       95                        1.0   \n",
       "3                      110                        1.1   \n",
       "4                      120                        1.3   \n",
       "..                     ...                        ...   \n",
       "154                    125                        0.5   \n",
       "155                     30                        0.2   \n",
       "156                    100                        0.6   \n",
       "157                    125                        0.5   \n",
       "158                  22175                        0.8   \n",
       "\n",
       "     Total - Population to whom Low Income Concepts Are Applicable (18-64 yrs).1  \\\n",
       "0                                                22305                             \n",
       "1                                                19995                             \n",
       "2                                                 6280                             \n",
       "3                                                 6630                             \n",
       "4                                                 5980                             \n",
       "..                                                 ...                             \n",
       "154                                              16815                             \n",
       "155                                               8745                             \n",
       "156                                              12500                             \n",
       "157                                              17170                             \n",
       "158                                            1842580                             \n",
       "\n",
       "     In LIM-AT \\n(18-64 yrs)  In LIM-AT \\n(18-64 yrs) (%)  \\\n",
       "0                       1720                          5.2   \n",
       "1                       2560                          8.2   \n",
       "2                        635                          6.4   \n",
       "3                        705                          6.8   \n",
       "4                        595                          6.4   \n",
       "..                       ...                          ...   \n",
       "154                     1685                          7.3   \n",
       "155                      825                          6.7   \n",
       "156                     2120                         13.4   \n",
       "157                     2455                         10.8   \n",
       "158                   218825                          7.9   \n",
       "\n",
       "     Total - Population to whom Low Income Concepts Are Applicable (65+ yrs).1  \\\n",
       "0                                                 5295                           \n",
       "1                                                 4130                           \n",
       "2                                                 1740                           \n",
       "3                                                 1850                           \n",
       "4                                                 1390                           \n",
       "..                                                 ...                           \n",
       "154                                               2960                           \n",
       "155                                               1910                           \n",
       "156                                               1805                           \n",
       "157                                               3045                           \n",
       "158                                             456895                           \n",
       "\n",
       "     In LIM-AT \\n(65+ yrs)  In LIM-AT \\n(65+ yrs) (%)  \n",
       "0                      590                        1.8  \n",
       "1                      700                        2.2  \n",
       "2                      220                        2.2  \n",
       "3                      355                        3.4  \n",
       "4                      175                        1.9  \n",
       "..                     ...                        ...  \n",
       "154                    610                        2.6  \n",
       "155                    235                        1.9  \n",
       "156                    505                        3.2  \n",
       "157                    640                        2.8  \n",
       "158                  77410                        2.8  \n",
       "\n",
       "[159 rows x 32 columns]"
      ]
     },
     "execution_count": 43,
     "metadata": {},
     "output_type": "execute_result"
    }
   ],
   "source": [
    "income_df"
   ]
  },
  {
   "cell_type": "code",
   "execution_count": 44,
   "id": "8ac5929c",
   "metadata": {
    "slideshow": {
     "slide_type": "slide"
    }
   },
   "outputs": [
    {
     "data": {
      "text/html": [
       "<div>\n",
       "<style scoped>\n",
       "    .dataframe tbody tr th:only-of-type {\n",
       "        vertical-align: middle;\n",
       "    }\n",
       "\n",
       "    .dataframe tbody tr th {\n",
       "        vertical-align: top;\n",
       "    }\n",
       "\n",
       "    .dataframe thead th {\n",
       "        text-align: right;\n",
       "    }\n",
       "</style>\n",
       "<table border=\"1\" class=\"dataframe\">\n",
       "  <thead>\n",
       "    <tr style=\"text-align: right;\">\n",
       "      <th></th>\n",
       "      <th>Unnamed: 0</th>\n",
       "      <th>Unnamed: 1</th>\n",
       "      <th>Male</th>\n",
       "      <th>Female</th>\n",
       "      <th>Total</th>\n",
       "      <th>Male.1</th>\n",
       "      <th>Female.1</th>\n",
       "      <th>Total.1</th>\n",
       "      <th>Male.2</th>\n",
       "      <th>Female.2</th>\n",
       "      <th>...</th>\n",
       "      <th>Female.12</th>\n",
       "      <th>Total.12</th>\n",
       "      <th>Rate Ratio**, Total.4</th>\n",
       "      <th>H/ L/ NS, Total.4</th>\n",
       "      <th>(95% CI) LL, Male.4</th>\n",
       "      <th>(95% CI) UL,  Male.4</th>\n",
       "      <th>(95% CI) LL, Female.4</th>\n",
       "      <th>(95% CI) UL, Female.4</th>\n",
       "      <th>(95% CI) LL, Total.4</th>\n",
       "      <th>(95% CI) UL, Total.4</th>\n",
       "    </tr>\n",
       "  </thead>\n",
       "  <tbody>\n",
       "    <tr>\n",
       "      <th>0</th>\n",
       "      <td>1.0</td>\n",
       "      <td>West Humber-Clairville</td>\n",
       "      <td>2745</td>\n",
       "      <td>2620</td>\n",
       "      <td>5365</td>\n",
       "      <td>15507</td>\n",
       "      <td>15578</td>\n",
       "      <td>31085</td>\n",
       "      <td>18.4</td>\n",
       "      <td>17.5</td>\n",
       "      <td>...</td>\n",
       "      <td>41.1</td>\n",
       "      <td>43.7</td>\n",
       "      <td>1.41</td>\n",
       "      <td>H</td>\n",
       "      <td>44.9</td>\n",
       "      <td>48.5</td>\n",
       "      <td>39.4</td>\n",
       "      <td>42.7</td>\n",
       "      <td>42.5</td>\n",
       "      <td>44.9</td>\n",
       "    </tr>\n",
       "    <tr>\n",
       "      <th>1</th>\n",
       "      <td>2.0</td>\n",
       "      <td>Mount Olive-Silverstone-Jamestown</td>\n",
       "      <td>2358</td>\n",
       "      <td>2374</td>\n",
       "      <td>4732</td>\n",
       "      <td>12720</td>\n",
       "      <td>13444</td>\n",
       "      <td>26164</td>\n",
       "      <td>19.4</td>\n",
       "      <td>19.0</td>\n",
       "      <td>...</td>\n",
       "      <td>44.3</td>\n",
       "      <td>45.9</td>\n",
       "      <td>1.48</td>\n",
       "      <td>H</td>\n",
       "      <td>45.5</td>\n",
       "      <td>49.6</td>\n",
       "      <td>42.4</td>\n",
       "      <td>46.3</td>\n",
       "      <td>44.5</td>\n",
       "      <td>47.3</td>\n",
       "    </tr>\n",
       "    <tr>\n",
       "      <th>2</th>\n",
       "      <td>3.0</td>\n",
       "      <td>Thistletown-Beaumond Heights</td>\n",
       "      <td>780</td>\n",
       "      <td>766</td>\n",
       "      <td>1546</td>\n",
       "      <td>4473</td>\n",
       "      <td>4622</td>\n",
       "      <td>9095</td>\n",
       "      <td>16.7</td>\n",
       "      <td>16.3</td>\n",
       "      <td>...</td>\n",
       "      <td>36.0</td>\n",
       "      <td>37.5</td>\n",
       "      <td>1.21</td>\n",
       "      <td>H</td>\n",
       "      <td>36.1</td>\n",
       "      <td>42.2</td>\n",
       "      <td>33.2</td>\n",
       "      <td>38.8</td>\n",
       "      <td>35.4</td>\n",
       "      <td>39.5</td>\n",
       "    </tr>\n",
       "    <tr>\n",
       "      <th>3</th>\n",
       "      <td>4.0</td>\n",
       "      <td>Rexdale-Kipling</td>\n",
       "      <td>737</td>\n",
       "      <td>767</td>\n",
       "      <td>1504</td>\n",
       "      <td>4577</td>\n",
       "      <td>4713</td>\n",
       "      <td>9290</td>\n",
       "      <td>15.0</td>\n",
       "      <td>14.7</td>\n",
       "      <td>...</td>\n",
       "      <td>34.7</td>\n",
       "      <td>35.6</td>\n",
       "      <td>1.15</td>\n",
       "      <td>H</td>\n",
       "      <td>33.7</td>\n",
       "      <td>39.7</td>\n",
       "      <td>32.1</td>\n",
       "      <td>37.3</td>\n",
       "      <td>33.6</td>\n",
       "      <td>37.6</td>\n",
       "    </tr>\n",
       "    <tr>\n",
       "      <th>4</th>\n",
       "      <td>5.0</td>\n",
       "      <td>Elms-Old Rexdale</td>\n",
       "      <td>639</td>\n",
       "      <td>659</td>\n",
       "      <td>1298</td>\n",
       "      <td>3892</td>\n",
       "      <td>4005</td>\n",
       "      <td>7897</td>\n",
       "      <td>16.4</td>\n",
       "      <td>16.6</td>\n",
       "      <td>...</td>\n",
       "      <td>35.3</td>\n",
       "      <td>37.5</td>\n",
       "      <td>1.21</td>\n",
       "      <td>H</td>\n",
       "      <td>36.6</td>\n",
       "      <td>43.7</td>\n",
       "      <td>32.0</td>\n",
       "      <td>38.5</td>\n",
       "      <td>35.1</td>\n",
       "      <td>39.9</td>\n",
       "    </tr>\n",
       "    <tr>\n",
       "      <th>...</th>\n",
       "      <td>...</td>\n",
       "      <td>...</td>\n",
       "      <td>...</td>\n",
       "      <td>...</td>\n",
       "      <td>...</td>\n",
       "      <td>...</td>\n",
       "      <td>...</td>\n",
       "      <td>...</td>\n",
       "      <td>...</td>\n",
       "      <td>...</td>\n",
       "      <td>...</td>\n",
       "      <td>...</td>\n",
       "      <td>...</td>\n",
       "      <td>...</td>\n",
       "      <td>...</td>\n",
       "      <td>...</td>\n",
       "      <td>...</td>\n",
       "      <td>...</td>\n",
       "      <td>...</td>\n",
       "      <td>...</td>\n",
       "      <td>...</td>\n",
       "    </tr>\n",
       "    <tr>\n",
       "      <th>154</th>\n",
       "      <td>171.0</td>\n",
       "      <td>Junction-Wallace Emerson</td>\n",
       "      <td>1081</td>\n",
       "      <td>1103</td>\n",
       "      <td>2184</td>\n",
       "      <td>10631</td>\n",
       "      <td>10806</td>\n",
       "      <td>21437</td>\n",
       "      <td>11.9</td>\n",
       "      <td>12.5</td>\n",
       "      <td>...</td>\n",
       "      <td>35.9</td>\n",
       "      <td>36.8</td>\n",
       "      <td>1.19</td>\n",
       "      <td>H</td>\n",
       "      <td>35.5</td>\n",
       "      <td>40.4</td>\n",
       "      <td>33.7</td>\n",
       "      <td>38.1</td>\n",
       "      <td>35.2</td>\n",
       "      <td>38.5</td>\n",
       "    </tr>\n",
       "    <tr>\n",
       "      <th>155</th>\n",
       "      <td>172.0</td>\n",
       "      <td>Dovercourt Village</td>\n",
       "      <td>519</td>\n",
       "      <td>523</td>\n",
       "      <td>1042</td>\n",
       "      <td>5671</td>\n",
       "      <td>5960</td>\n",
       "      <td>11631</td>\n",
       "      <td>10.1</td>\n",
       "      <td>9.9</td>\n",
       "      <td>...</td>\n",
       "      <td>31.5</td>\n",
       "      <td>32.7</td>\n",
       "      <td>1.05</td>\n",
       "      <td>NS</td>\n",
       "      <td>31.0</td>\n",
       "      <td>37.2</td>\n",
       "      <td>28.8</td>\n",
       "      <td>34.2</td>\n",
       "      <td>30.6</td>\n",
       "      <td>34.7</td>\n",
       "    </tr>\n",
       "    <tr>\n",
       "      <th>156</th>\n",
       "      <td>173.0</td>\n",
       "      <td>North Toronto</td>\n",
       "      <td>430</td>\n",
       "      <td>534</td>\n",
       "      <td>964</td>\n",
       "      <td>6738</td>\n",
       "      <td>8172</td>\n",
       "      <td>14910</td>\n",
       "      <td>9.3</td>\n",
       "      <td>8.6</td>\n",
       "      <td>...</td>\n",
       "      <td>23.3</td>\n",
       "      <td>24.2</td>\n",
       "      <td>0.78</td>\n",
       "      <td>L</td>\n",
       "      <td>22.6</td>\n",
       "      <td>29.1</td>\n",
       "      <td>21.0</td>\n",
       "      <td>25.7</td>\n",
       "      <td>22.3</td>\n",
       "      <td>26.1</td>\n",
       "    </tr>\n",
       "    <tr>\n",
       "      <th>157</th>\n",
       "      <td>174.0</td>\n",
       "      <td>South Eglinton-Davisville</td>\n",
       "      <td>674</td>\n",
       "      <td>718</td>\n",
       "      <td>1392</td>\n",
       "      <td>9711</td>\n",
       "      <td>11701</td>\n",
       "      <td>21412</td>\n",
       "      <td>8.5</td>\n",
       "      <td>7.1</td>\n",
       "      <td>...</td>\n",
       "      <td>18.0</td>\n",
       "      <td>20.4</td>\n",
       "      <td>0.66</td>\n",
       "      <td>L</td>\n",
       "      <td>22.0</td>\n",
       "      <td>26.5</td>\n",
       "      <td>16.4</td>\n",
       "      <td>19.6</td>\n",
       "      <td>19.1</td>\n",
       "      <td>21.7</td>\n",
       "    </tr>\n",
       "    <tr>\n",
       "      <th>158</th>\n",
       "      <td>NaN</td>\n",
       "      <td>City of Toronto</td>\n",
       "      <td>150968</td>\n",
       "      <td>151880</td>\n",
       "      <td>302848</td>\n",
       "      <td>1199374</td>\n",
       "      <td>1301147</td>\n",
       "      <td>2500521</td>\n",
       "      <td>12.2</td>\n",
       "      <td>11.4</td>\n",
       "      <td>...</td>\n",
       "      <td>28.9</td>\n",
       "      <td>31.0</td>\n",
       "      <td>1.00</td>\n",
       "      <td>NaN</td>\n",
       "      <td>33.6</td>\n",
       "      <td>33.9</td>\n",
       "      <td>28.7</td>\n",
       "      <td>29.0</td>\n",
       "      <td>30.9</td>\n",
       "      <td>31.2</td>\n",
       "    </tr>\n",
       "  </tbody>\n",
       "</table>\n",
       "<p>159 rows × 81 columns</p>\n",
       "</div>"
      ],
      "text/plain": [
       "     Unnamed: 0                         Unnamed: 1    Male  Female   Total  \\\n",
       "0           1.0             West Humber-Clairville    2745    2620    5365   \n",
       "1           2.0  Mount Olive-Silverstone-Jamestown    2358    2374    4732   \n",
       "2           3.0       Thistletown-Beaumond Heights     780     766    1546   \n",
       "3           4.0                    Rexdale-Kipling     737     767    1504   \n",
       "4           5.0                   Elms-Old Rexdale     639     659    1298   \n",
       "..          ...                                ...     ...     ...     ...   \n",
       "154       171.0           Junction-Wallace Emerson    1081    1103    2184   \n",
       "155       172.0                 Dovercourt Village     519     523    1042   \n",
       "156       173.0                      North Toronto     430     534     964   \n",
       "157       174.0          South Eglinton-Davisville     674     718    1392   \n",
       "158         NaN                 City of Toronto     150968  151880  302848   \n",
       "\n",
       "       Male.1  Female.1  Total.1    Male.2  Female.2  ...  Female.12  \\\n",
       "0       15507     15578    31085      18.4      17.5  ...       41.1   \n",
       "1       12720     13444    26164      19.4      19.0  ...       44.3   \n",
       "2        4473      4622     9095      16.7      16.3  ...       36.0   \n",
       "3        4577      4713     9290      15.0      14.7  ...       34.7   \n",
       "4        3892      4005     7897      16.4      16.6  ...       35.3   \n",
       "..        ...       ...      ...       ...       ...  ...        ...   \n",
       "154     10631     10806    21437      11.9      12.5  ...       35.9   \n",
       "155      5671      5960    11631      10.1       9.9  ...       31.5   \n",
       "156      6738      8172    14910       9.3       8.6  ...       23.3   \n",
       "157      9711     11701    21412       8.5       7.1  ...       18.0   \n",
       "158   1199374   1301147  2500521      12.2      11.4  ...       28.9   \n",
       "\n",
       "     Total.12 Rate Ratio**, Total.4  H/ L/ NS, Total.4  (95% CI) LL, Male.4  \\\n",
       "0        43.7                  1.41                  H                 44.9   \n",
       "1        45.9                  1.48                  H                 45.5   \n",
       "2        37.5                  1.21                  H                 36.1   \n",
       "3        35.6                  1.15                  H                 33.7   \n",
       "4        37.5                  1.21                  H                 36.6   \n",
       "..        ...                   ...                ...                  ...   \n",
       "154      36.8                  1.19                  H                 35.5   \n",
       "155      32.7                  1.05                 NS                 31.0   \n",
       "156      24.2                  0.78                  L                 22.6   \n",
       "157      20.4                  0.66                  L                 22.0   \n",
       "158      31.0                  1.00                NaN                 33.6   \n",
       "\n",
       "     (95% CI) UL,  Male.4  (95% CI) LL, Female.4  (95% CI) UL, Female.4  \\\n",
       "0                    48.5                   39.4                   42.7   \n",
       "1                    49.6                   42.4                   46.3   \n",
       "2                    42.2                   33.2                   38.8   \n",
       "3                    39.7                   32.1                   37.3   \n",
       "4                    43.7                   32.0                   38.5   \n",
       "..                    ...                    ...                    ...   \n",
       "154                  40.4                   33.7                   38.1   \n",
       "155                  37.2                   28.8                   34.2   \n",
       "156                  29.1                   21.0                   25.7   \n",
       "157                  26.5                   16.4                   19.6   \n",
       "158                  33.9                   28.7                   29.0   \n",
       "\n",
       "     (95% CI) LL, Total.4  (95% CI) UL, Total.4  \n",
       "0                    42.5                  44.9  \n",
       "1                    44.5                  47.3  \n",
       "2                    35.4                  39.5  \n",
       "3                    33.6                  37.6  \n",
       "4                    35.1                  39.9  \n",
       "..                    ...                   ...  \n",
       "154                  35.2                  38.5  \n",
       "155                  30.6                  34.7  \n",
       "156                  22.3                  26.1  \n",
       "157                  19.1                  21.7  \n",
       "158                  30.9                  31.2  \n",
       "\n",
       "[159 rows x 81 columns]"
      ]
     },
     "execution_count": 44,
     "metadata": {},
     "output_type": "execute_result"
    }
   ],
   "source": [
    "diabetes_df"
   ]
  },
  {
   "cell_type": "code",
   "execution_count": 45,
   "id": "a2f5627b",
   "metadata": {
    "slideshow": {
     "slide_type": "slide"
    }
   },
   "outputs": [
    {
     "data": {
      "text/html": [
       "<div>\n",
       "<style scoped>\n",
       "    .dataframe tbody tr th:only-of-type {\n",
       "        vertical-align: middle;\n",
       "    }\n",
       "\n",
       "    .dataframe tbody tr th {\n",
       "        vertical-align: top;\n",
       "    }\n",
       "\n",
       "    .dataframe thead th {\n",
       "        text-align: right;\n",
       "    }\n",
       "</style>\n",
       "<table border=\"1\" class=\"dataframe\">\n",
       "  <thead>\n",
       "    <tr style=\"text-align: right;\">\n",
       "      <th></th>\n",
       "      <th>neighbourhood_ID</th>\n",
       "      <th>neighbourhood_name</th>\n",
       "      <th>adult_population</th>\n",
       "      <th>adult_low_income</th>\n",
       "      <th>adult_percent_low_income</th>\n",
       "      <th>income_quintile</th>\n",
       "      <th>total_diabetes_count</th>\n",
       "      <th>total_neighb_pop</th>\n",
       "      <th>total_diabetes_prevalence</th>\n",
       "    </tr>\n",
       "  </thead>\n",
       "  <tbody>\n",
       "    <tr>\n",
       "      <th>0</th>\n",
       "      <td>1.0</td>\n",
       "      <td>West Humber-Clairville</td>\n",
       "      <td>22305</td>\n",
       "      <td>1720</td>\n",
       "      <td>5.2</td>\n",
       "      <td>Fifth quintile</td>\n",
       "      <td>5365</td>\n",
       "      <td>31085</td>\n",
       "      <td>17.3</td>\n",
       "    </tr>\n",
       "    <tr>\n",
       "      <th>1</th>\n",
       "      <td>2.0</td>\n",
       "      <td>Mount Olive-Silverstone-Jamestown</td>\n",
       "      <td>19995</td>\n",
       "      <td>2560</td>\n",
       "      <td>8.2</td>\n",
       "      <td>Second quintile</td>\n",
       "      <td>4732</td>\n",
       "      <td>26164</td>\n",
       "      <td>18.1</td>\n",
       "    </tr>\n",
       "    <tr>\n",
       "      <th>2</th>\n",
       "      <td>3.0</td>\n",
       "      <td>Thistletown-Beaumond Heights</td>\n",
       "      <td>6280</td>\n",
       "      <td>635</td>\n",
       "      <td>6.4</td>\n",
       "      <td>Fourth quintile</td>\n",
       "      <td>1546</td>\n",
       "      <td>9095</td>\n",
       "      <td>17.0</td>\n",
       "    </tr>\n",
       "    <tr>\n",
       "      <th>3</th>\n",
       "      <td>4.0</td>\n",
       "      <td>Rexdale-Kipling</td>\n",
       "      <td>6630</td>\n",
       "      <td>705</td>\n",
       "      <td>6.8</td>\n",
       "      <td>Third quintile</td>\n",
       "      <td>1504</td>\n",
       "      <td>9290</td>\n",
       "      <td>16.2</td>\n",
       "    </tr>\n",
       "    <tr>\n",
       "      <th>4</th>\n",
       "      <td>5.0</td>\n",
       "      <td>Elms-Old Rexdale</td>\n",
       "      <td>5980</td>\n",
       "      <td>595</td>\n",
       "      <td>6.4</td>\n",
       "      <td>Fourth quintile</td>\n",
       "      <td>1298</td>\n",
       "      <td>7897</td>\n",
       "      <td>16.4</td>\n",
       "    </tr>\n",
       "    <tr>\n",
       "      <th>...</th>\n",
       "      <td>...</td>\n",
       "      <td>...</td>\n",
       "      <td>...</td>\n",
       "      <td>...</td>\n",
       "      <td>...</td>\n",
       "      <td>...</td>\n",
       "      <td>...</td>\n",
       "      <td>...</td>\n",
       "      <td>...</td>\n",
       "    </tr>\n",
       "    <tr>\n",
       "      <th>153</th>\n",
       "      <td>170.0</td>\n",
       "      <td>Yonge-Bay Corridor</td>\n",
       "      <td>10745</td>\n",
       "      <td>2595</td>\n",
       "      <td>20.5</td>\n",
       "      <td>First quintile</td>\n",
       "      <td>625</td>\n",
       "      <td>14982</td>\n",
       "      <td>4.2</td>\n",
       "    </tr>\n",
       "    <tr>\n",
       "      <th>154</th>\n",
       "      <td>171.0</td>\n",
       "      <td>Junction-Wallace Emerson</td>\n",
       "      <td>16815</td>\n",
       "      <td>1685</td>\n",
       "      <td>7.3</td>\n",
       "      <td>Third quintile</td>\n",
       "      <td>2184</td>\n",
       "      <td>21437</td>\n",
       "      <td>10.2</td>\n",
       "    </tr>\n",
       "    <tr>\n",
       "      <th>155</th>\n",
       "      <td>172.0</td>\n",
       "      <td>Dovercourt Village</td>\n",
       "      <td>8745</td>\n",
       "      <td>825</td>\n",
       "      <td>6.7</td>\n",
       "      <td>Third quintile</td>\n",
       "      <td>1042</td>\n",
       "      <td>11631</td>\n",
       "      <td>9.0</td>\n",
       "    </tr>\n",
       "    <tr>\n",
       "      <th>156</th>\n",
       "      <td>173.0</td>\n",
       "      <td>North Toronto</td>\n",
       "      <td>12500</td>\n",
       "      <td>2120</td>\n",
       "      <td>13.4</td>\n",
       "      <td>First quintile</td>\n",
       "      <td>964</td>\n",
       "      <td>14910</td>\n",
       "      <td>6.5</td>\n",
       "    </tr>\n",
       "    <tr>\n",
       "      <th>157</th>\n",
       "      <td>174.0</td>\n",
       "      <td>South Eglinton-Davisville</td>\n",
       "      <td>17170</td>\n",
       "      <td>2455</td>\n",
       "      <td>10.8</td>\n",
       "      <td>First quintile</td>\n",
       "      <td>1392</td>\n",
       "      <td>21412</td>\n",
       "      <td>6.5</td>\n",
       "    </tr>\n",
       "  </tbody>\n",
       "</table>\n",
       "<p>158 rows × 9 columns</p>\n",
       "</div>"
      ],
      "text/plain": [
       "    neighbourhood_ID                 neighbourhood_name adult_population  \\\n",
       "0                1.0             West Humber-Clairville            22305   \n",
       "1                2.0  Mount Olive-Silverstone-Jamestown            19995   \n",
       "2                3.0       Thistletown-Beaumond Heights             6280   \n",
       "3                4.0                    Rexdale-Kipling             6630   \n",
       "4                5.0                   Elms-Old Rexdale             5980   \n",
       "..               ...                                ...              ...   \n",
       "153            170.0                 Yonge-Bay Corridor            10745   \n",
       "154            171.0           Junction-Wallace Emerson            16815   \n",
       "155            172.0                 Dovercourt Village             8745   \n",
       "156            173.0                      North Toronto            12500   \n",
       "157            174.0          South Eglinton-Davisville            17170   \n",
       "\n",
       "    adult_low_income adult_percent_low_income  income_quintile  \\\n",
       "0               1720                      5.2   Fifth quintile   \n",
       "1               2560                      8.2  Second quintile   \n",
       "2                635                      6.4  Fourth quintile   \n",
       "3                705                      6.8   Third quintile   \n",
       "4                595                      6.4  Fourth quintile   \n",
       "..               ...                      ...              ...   \n",
       "153             2595                     20.5   First quintile   \n",
       "154             1685                      7.3   Third quintile   \n",
       "155              825                      6.7   Third quintile   \n",
       "156             2120                     13.4   First quintile   \n",
       "157             2455                     10.8   First quintile   \n",
       "\n",
       "    total_diabetes_count total_neighb_pop total_diabetes_prevalence  \n",
       "0                   5365            31085                      17.3  \n",
       "1                   4732            26164                      18.1  \n",
       "2                   1546             9095                      17.0  \n",
       "3                   1504             9290                      16.2  \n",
       "4                   1298             7897                      16.4  \n",
       "..                   ...              ...                       ...  \n",
       "153                  625            14982                       4.2  \n",
       "154                 2184            21437                      10.2  \n",
       "155                 1042            11631                       9.0  \n",
       "156                  964            14910                       6.5  \n",
       "157                 1392            21412                       6.5  \n",
       "\n",
       "[158 rows x 9 columns]"
      ]
     },
     "execution_count": 45,
     "metadata": {},
     "output_type": "execute_result"
    }
   ],
   "source": [
    "diabetes_income"
   ]
  },
  {
   "cell_type": "markdown",
   "id": "7abc0264",
   "metadata": {
    "slideshow": {
     "slide_type": "slide"
    }
   },
   "source": [
    "## Bootstrap confidence intervals:\n",
    "- Applied bootstrapping to estimate the mean difference in diabetes prevalence between selected pairs of quintiles. \n",
    "> - Comparisons included adjacent quintiles, high vs. low extremes, and other meaningful combinations.\n",
    "> - q5 - q4; … ; q2 - q1; as well as: q5 - 1; q4 - q1; q3 - q1; q4 - q2\n"
   ]
  },
  {
   "cell_type": "markdown",
   "id": "7a153602",
   "metadata": {
    "slideshow": {
     "slide_type": "slide"
    }
   },
   "source": [
    "- This was done through custom functions that sampled the data with replacement using **diabetes_income.sample(frac=1, replace=True)**. Within each resample, the difference in mean total_diabetes_prevalence between two specified quintiles was calculated. Each function returned a single bootstrapped mean difference.\n",
    "<br><br>\n",
    "- Each comparison was repeated 5000 times in a loop **for _ in range(5000)** to generate a distribution of bootstrapped differences. These distributions allow us to estimate confidence intervals.\n"
   ]
  },
  {
   "cell_type": "markdown",
   "id": "eb79f4ec",
   "metadata": {
    "slideshow": {
     "slide_type": "slide"
    }
   },
   "source": [
    "## Results\n",
    "- Distribution of bootstrapped mean difference in diabetes prevalence among quintile comparisons:"
   ]
  },
  {
   "cell_type": "code",
   "execution_count": 46,
   "id": "bf9517f1",
   "metadata": {
    "slideshow": {
     "slide_type": "skip"
    }
   },
   "outputs": [
    {
     "data": {
      "text/html": [
       "\n",
       "<style>\n",
       "  #altair-viz-ebba3c3001f14868809a1f298c97d1aa.vega-embed {\n",
       "    width: 100%;\n",
       "    display: flex;\n",
       "  }\n",
       "\n",
       "  #altair-viz-ebba3c3001f14868809a1f298c97d1aa.vega-embed details,\n",
       "  #altair-viz-ebba3c3001f14868809a1f298c97d1aa.vega-embed details summary {\n",
       "    position: relative;\n",
       "  }\n",
       "</style>\n",
       "<div id=\"altair-viz-ebba3c3001f14868809a1f298c97d1aa\"></div>\n",
       "<script type=\"text/javascript\">\n",
       "  var VEGA_DEBUG = (typeof VEGA_DEBUG == \"undefined\") ? {} : VEGA_DEBUG;\n",
       "  (function(spec, embedOpt){\n",
       "    let outputDiv = document.currentScript.previousElementSibling;\n",
       "    if (outputDiv.id !== \"altair-viz-ebba3c3001f14868809a1f298c97d1aa\") {\n",
       "      outputDiv = document.getElementById(\"altair-viz-ebba3c3001f14868809a1f298c97d1aa\");\n",
       "    }\n",
       "    const paths = {\n",
       "      \"vega\": \"https://cdn.jsdelivr.net/npm/vega@5?noext\",\n",
       "      \"vega-lib\": \"https://cdn.jsdelivr.net/npm/vega-lib?noext\",\n",
       "      \"vega-lite\": \"https://cdn.jsdelivr.net/npm/vega-lite@5.16.3?noext\",\n",
       "      \"vega-embed\": \"https://cdn.jsdelivr.net/npm/vega-embed@6?noext\",\n",
       "    };\n",
       "\n",
       "    function maybeLoadScript(lib, version) {\n",
       "      var key = `${lib.replace(\"-\", \"\")}_version`;\n",
       "      return (VEGA_DEBUG[key] == version) ?\n",
       "        Promise.resolve(paths[lib]) :\n",
       "        new Promise(function(resolve, reject) {\n",
       "          var s = document.createElement('script');\n",
       "          document.getElementsByTagName(\"head\")[0].appendChild(s);\n",
       "          s.async = true;\n",
       "          s.onload = () => {\n",
       "            VEGA_DEBUG[key] = version;\n",
       "            return resolve(paths[lib]);\n",
       "          };\n",
       "          s.onerror = () => reject(`Error loading script: ${paths[lib]}`);\n",
       "          s.src = paths[lib];\n",
       "        });\n",
       "    }\n",
       "\n",
       "    function showError(err) {\n",
       "      outputDiv.innerHTML = `<div class=\"error\" style=\"color:red;\">${err}</div>`;\n",
       "      throw err;\n",
       "    }\n",
       "\n",
       "    function displayChart(vegaEmbed) {\n",
       "      vegaEmbed(outputDiv, spec, embedOpt)\n",
       "        .catch(err => showError(`Javascript Error: ${err.message}<br>This usually means there's a typo in your chart specification. See the javascript console for the full traceback.`));\n",
       "    }\n",
       "\n",
       "    if(typeof define === \"function\" && define.amd) {\n",
       "      requirejs.config({paths});\n",
       "      require([\"vega-embed\"], displayChart, err => showError(`Error loading script: ${err.message}`));\n",
       "    } else {\n",
       "      maybeLoadScript(\"vega\", \"5\")\n",
       "        .then(() => maybeLoadScript(\"vega-lite\", \"5.16.3\"))\n",
       "        .then(() => maybeLoadScript(\"vega-embed\", \"6\"))\n",
       "        .catch(showError)\n",
       "        .then(() => displayChart(vegaEmbed));\n",
       "    }\n",
       "  })({\"config\": {\"view\": {\"continuousWidth\": 300, \"continuousHeight\": 300}}, \"data\": {\"name\": \"data-f0be5d334ca077a34789f160c8ea7ab6\"}, \"mark\": {\"type\": \"bar\"}, \"encoding\": {\"tooltip\": [{\"aggregate\": \"mean\", \"field\": \"total_diabetes_prevalence\", \"format\": \".2f\", \"title\": \"Mean diabetes prevalence\", \"type\": \"quantitative\"}, {\"aggregate\": \"mean\", \"field\": \"adult_percent_low_income\", \"format\": \".2f\", \"title\": \"Avg. % Low Income\", \"type\": \"quantitative\"}], \"x\": {\"field\": \"income_quintile\", \"sort\": [\"First quintile\", \"Second quintile\", \"Third quintile\", \"Fourth quintile\", \"Fifth quintile\"], \"title\": \"Income quintile\", \"type\": \"ordinal\"}, \"y\": {\"aggregate\": \"mean\", \"field\": \"total_diabetes_prevalence\", \"title\": \"Mean rate of diabetes\", \"type\": \"quantitative\"}}, \"height\": 400, \"title\": \"Mean diabetes prevalence by income quintile\", \"width\": 500, \"$schema\": \"https://vega.github.io/schema/vega-lite/v5.16.3.json\", \"datasets\": {\"data-f0be5d334ca077a34789f160c8ea7ab6\": [{\"neighbourhood_ID\": 1.0, \"neighbourhood_name\": \"West Humber-Clairville\", \"adult_population\": 22305, \"adult_low_income\": 1720, \"adult_percent_low_income\": 5.2, \"income_quintile\": \"Fifth quintile\", \"total_diabetes_count\": 5365, \"total_neighb_pop\": 31085, \"total_diabetes_prevalence\": 17.3}, {\"neighbourhood_ID\": 2.0, \"neighbourhood_name\": \"Mount Olive-Silverstone-Jamestown\", \"adult_population\": 19995, \"adult_low_income\": 2560, \"adult_percent_low_income\": 8.2, \"income_quintile\": \"Second quintile\", \"total_diabetes_count\": 4732, \"total_neighb_pop\": 26164, \"total_diabetes_prevalence\": 18.1}, {\"neighbourhood_ID\": 3.0, \"neighbourhood_name\": \"Thistletown-Beaumond Heights\", \"adult_population\": 6280, \"adult_low_income\": 635, \"adult_percent_low_income\": 6.4, \"income_quintile\": \"Fourth quintile\", \"total_diabetes_count\": 1546, \"total_neighb_pop\": 9095, \"total_diabetes_prevalence\": 17.0}, {\"neighbourhood_ID\": 4.0, \"neighbourhood_name\": \"Rexdale-Kipling\", \"adult_population\": 6630, \"adult_low_income\": 705, \"adult_percent_low_income\": 6.8, \"income_quintile\": \"Third quintile\", \"total_diabetes_count\": 1504, \"total_neighb_pop\": 9290, \"total_diabetes_prevalence\": 16.2}, {\"neighbourhood_ID\": 5.0, \"neighbourhood_name\": \"Elms-Old Rexdale\", \"adult_population\": 5980, \"adult_low_income\": 595, \"adult_percent_low_income\": 6.4, \"income_quintile\": \"Fourth quintile\", \"total_diabetes_count\": 1298, \"total_neighb_pop\": 7897, \"total_diabetes_prevalence\": 16.4}, {\"neighbourhood_ID\": 6.0, \"neighbourhood_name\": \"Kingsview Village-The Westway\", \"adult_population\": 13620, \"adult_low_income\": 1650, \"adult_percent_low_income\": 7.5, \"income_quintile\": \"Second quintile\", \"total_diabetes_count\": 3013, \"total_neighb_pop\": 19798, \"total_diabetes_prevalence\": 15.2}, {\"neighbourhood_ID\": 7.0, \"neighbourhood_name\": \"Willowridge-Martingrove-Richview\", \"adult_population\": 12985, \"adult_low_income\": 970, \"adult_percent_low_income\": 4.4, \"income_quintile\": \"Fifth quintile\", \"total_diabetes_count\": 2812, \"total_neighb_pop\": 19043, \"total_diabetes_prevalence\": 14.8}, {\"neighbourhood_ID\": 8.0, \"neighbourhood_name\": \"Humber Heights-Westmount\", \"adult_population\": 5915, \"adult_low_income\": 500, \"adult_percent_low_income\": 5.0, \"income_quintile\": \"Fifth quintile\", \"total_diabetes_count\": 1289, \"total_neighb_pop\": 9172, \"total_diabetes_prevalence\": 14.1}, {\"neighbourhood_ID\": 9.0, \"neighbourhood_name\": \"Edenbridge-Humber Valley\", \"adult_population\": 9135, \"adult_low_income\": 675, \"adult_percent_low_income\": 4.4, \"income_quintile\": \"Fifth quintile\", \"total_diabetes_count\": 1539, \"total_neighb_pop\": 13821, \"total_diabetes_prevalence\": 11.1}, {\"neighbourhood_ID\": 10.0, \"neighbourhood_name\": \"Princess-Rosethorn\", \"adult_population\": 6665, \"adult_low_income\": 305, \"adult_percent_low_income\": 2.7, \"income_quintile\": \"Fifth quintile\", \"total_diabetes_count\": 875, \"total_neighb_pop\": 9684, \"total_diabetes_prevalence\": 9.0}, {\"neighbourhood_ID\": 11.0, \"neighbourhood_name\": \"Eringate-Centennial-West Deane\", \"adult_population\": 11240, \"adult_low_income\": 615, \"adult_percent_low_income\": 3.3, \"income_quintile\": \"Fifth quintile\", \"total_diabetes_count\": 2106, \"total_neighb_pop\": 16489, \"total_diabetes_prevalence\": 12.8}, {\"neighbourhood_ID\": 12.0, \"neighbourhood_name\": \"Markland Wood\", \"adult_population\": 5950, \"adult_low_income\": 305, \"adult_percent_low_income\": 2.9, \"income_quintile\": \"Fifth quintile\", \"total_diabetes_count\": 1042, \"total_neighb_pop\": 9271, \"total_diabetes_prevalence\": 11.2}, {\"neighbourhood_ID\": 13.0, \"neighbourhood_name\": \"Etobicoke West Mall\", \"adult_population\": 7800, \"adult_low_income\": 730, \"adult_percent_low_income\": 6.2, \"income_quintile\": \"Fourth quintile\", \"total_diabetes_count\": 1387, \"total_neighb_pop\": 10354, \"total_diabetes_prevalence\": 13.4}, {\"neighbourhood_ID\": 15.0, \"neighbourhood_name\": \"Kingsway South\", \"adult_population\": 4995, \"adult_low_income\": 240, \"adult_percent_low_income\": 2.7, \"income_quintile\": \"Fifth quintile\", \"total_diabetes_count\": 547, \"total_neighb_pop\": 8009, \"total_diabetes_prevalence\": 6.8}, {\"neighbourhood_ID\": 16.0, \"neighbourhood_name\": \"Stonegate-Queensway\", \"adult_population\": 16045, \"adult_low_income\": 1325, \"adult_percent_low_income\": 5.2, \"income_quintile\": \"Fifth quintile\", \"total_diabetes_count\": 1838, \"total_neighb_pop\": 21683, \"total_diabetes_prevalence\": 8.5}, {\"neighbourhood_ID\": 18.0, \"neighbourhood_name\": \"New Toronto\", \"adult_population\": 7625, \"adult_low_income\": 1015, \"adult_percent_low_income\": 9.0, \"income_quintile\": \"Second quintile\", \"total_diabetes_count\": 1107, \"total_neighb_pop\": 10473, \"total_diabetes_prevalence\": 10.6}, {\"neighbourhood_ID\": 19.0, \"neighbourhood_name\": \"Long Branch\", \"adult_population\": 7860, \"adult_low_income\": 800, \"adult_percent_low_income\": 7.0, \"income_quintile\": \"Third quintile\", \"total_diabetes_count\": 919, \"total_neighb_pop\": 9621, \"total_diabetes_prevalence\": 9.6}, {\"neighbourhood_ID\": 20.0, \"neighbourhood_name\": \"Alderwood\", \"adult_population\": 7970, \"adult_low_income\": 445, \"adult_percent_low_income\": 3.5, \"income_quintile\": \"Fifth quintile\", \"total_diabetes_count\": 1295, \"total_neighb_pop\": 10977, \"total_diabetes_prevalence\": 11.8}, {\"neighbourhood_ID\": 21.0, \"neighbourhood_name\": \"Humber Summit\", \"adult_population\": 7335, \"adult_low_income\": 735, \"adult_percent_low_income\": 6.1, \"income_quintile\": \"Fourth quintile\", \"total_diabetes_count\": 1942, \"total_neighb_pop\": 10146, \"total_diabetes_prevalence\": 19.1}, {\"neighbourhood_ID\": 22.0, \"neighbourhood_name\": \"Humbermede\", \"adult_population\": 10930, \"adult_low_income\": 1195, \"adult_percent_low_income\": 7.1, \"income_quintile\": \"Third quintile\", \"total_diabetes_count\": 2239, \"total_neighb_pop\": 13557, \"total_diabetes_prevalence\": 16.5}, {\"neighbourhood_ID\": 23.0, \"neighbourhood_name\": \"Pelmo Park-Humberlea\", \"adult_population\": 7420, \"adult_low_income\": 460, \"adult_percent_low_income\": 4.1, \"income_quintile\": \"Fifth quintile\", \"total_diabetes_count\": 1388, \"total_neighb_pop\": 9692, \"total_diabetes_prevalence\": 14.3}, {\"neighbourhood_ID\": 24.0, \"neighbourhood_name\": \"Black Creek\", \"adult_population\": 13290, \"adult_low_income\": 2090, \"adult_percent_low_income\": 9.9, \"income_quintile\": \"First quintile\", \"total_diabetes_count\": 3150, \"total_neighb_pop\": 17335, \"total_diabetes_prevalence\": 18.2}, {\"neighbourhood_ID\": 25.0, \"neighbourhood_name\": \"Glenfield-Jane Heights\", \"adult_population\": 18715, \"adult_low_income\": 2165, \"adult_percent_low_income\": 7.2, \"income_quintile\": \"Third quintile\", \"total_diabetes_count\": 4392, \"total_neighb_pop\": 24216, \"total_diabetes_prevalence\": 18.1}, {\"neighbourhood_ID\": 27.0, \"neighbourhood_name\": \"York University Heights\", \"adult_population\": 19855, \"adult_low_income\": 2515, \"adult_percent_low_income\": 8.9, \"income_quintile\": \"Second quintile\", \"total_diabetes_count\": 3523, \"total_neighb_pop\": 25571, \"total_diabetes_prevalence\": 13.8}, {\"neighbourhood_ID\": 28.0, \"neighbourhood_name\": \"Rustic\", \"adult_population\": 5685, \"adult_low_income\": 875, \"adult_percent_low_income\": 9.3, \"income_quintile\": \"Second quintile\", \"total_diabetes_count\": 967, \"total_neighb_pop\": 5530, \"total_diabetes_prevalence\": 17.5}, {\"neighbourhood_ID\": 29.0, \"neighbourhood_name\": \"Maple Leaf\", \"adult_population\": 6155, \"adult_low_income\": 475, \"adult_percent_low_income\": 4.9, \"income_quintile\": \"Fifth quintile\", \"total_diabetes_count\": 1916, \"total_neighb_pop\": 11250, \"total_diabetes_prevalence\": 17.0}, {\"neighbourhood_ID\": 30.0, \"neighbourhood_name\": \"Brookhaven-Amesbury\", \"adult_population\": 11310, \"adult_low_income\": 1320, \"adult_percent_low_income\": 7.6, \"income_quintile\": \"Second quintile\", \"total_diabetes_count\": 2132, \"total_neighb_pop\": 13530, \"total_diabetes_prevalence\": 15.8}, {\"neighbourhood_ID\": 31.0, \"neighbourhood_name\": \"Yorkdale-Glen Park\", \"adult_population\": 11100, \"adult_low_income\": 1190, \"adult_percent_low_income\": 7.2, \"income_quintile\": \"Third quintile\", \"total_diabetes_count\": 2176, \"total_neighb_pop\": 14288, \"total_diabetes_prevalence\": 15.2}, {\"neighbourhood_ID\": 32.0, \"neighbourhood_name\": \"Englemount-Lawrence\", \"adult_population\": 12315, \"adult_low_income\": 1310, \"adult_percent_low_income\": 6.2, \"income_quintile\": \"Fourth quintile\", \"total_diabetes_count\": 2389, \"total_neighb_pop\": 18775, \"total_diabetes_prevalence\": 12.7}, {\"neighbourhood_ID\": 33.0, \"neighbourhood_name\": \"Clanton Park\", \"adult_population\": 11680, \"adult_low_income\": 1145, \"adult_percent_low_income\": 6.5, \"income_quintile\": \"Fourth quintile\", \"total_diabetes_count\": 1188, \"total_neighb_pop\": 11611, \"total_diabetes_prevalence\": 10.2}, {\"neighbourhood_ID\": 34.0, \"neighbourhood_name\": \"Bathurst Manor\", \"adult_population\": 10320, \"adult_low_income\": 950, \"adult_percent_low_income\": 6.0, \"income_quintile\": \"Fourth quintile\", \"total_diabetes_count\": 2473, \"total_neighb_pop\": 19230, \"total_diabetes_prevalence\": 12.9}, {\"neighbourhood_ID\": 35.0, \"neighbourhood_name\": \"Westminster-Branson\", \"adult_population\": 16465, \"adult_low_income\": 1640, \"adult_percent_low_income\": 6.4, \"income_quintile\": \"Fourth quintile\", \"total_diabetes_count\": 3389, \"total_neighb_pop\": 24476, \"total_diabetes_prevalence\": 13.8}, {\"neighbourhood_ID\": 36.0, \"neighbourhood_name\": \"Newtonbrook West\", \"adult_population\": 16245, \"adult_low_income\": 2235, \"adult_percent_low_income\": 9.4, \"income_quintile\": \"Second quintile\", \"total_diabetes_count\": 2962, \"total_neighb_pop\": 24720, \"total_diabetes_prevalence\": 12.0}, {\"neighbourhood_ID\": 37.0, \"neighbourhood_name\": \"Willowdale West\", \"adult_population\": 11365, \"adult_low_income\": 1950, \"adult_percent_low_income\": 11.5, \"income_quintile\": \"First quintile\", \"total_diabetes_count\": 1547, \"total_neighb_pop\": 15214, \"total_diabetes_prevalence\": 10.2}, {\"neighbourhood_ID\": 38.0, \"neighbourhood_name\": \"Lansing-Westgate\", \"adult_population\": 10545, \"adult_low_income\": 1300, \"adult_percent_low_income\": 8.3, \"income_quintile\": \"Second quintile\", \"total_diabetes_count\": 1101, \"total_neighb_pop\": 13364, \"total_diabetes_prevalence\": 8.2}, {\"neighbourhood_ID\": 39.0, \"neighbourhood_name\": \"Bedford Park-Nortown\", \"adult_population\": 12775, \"adult_low_income\": 870, \"adult_percent_low_income\": 3.9, \"income_quintile\": \"Fifth quintile\", \"total_diabetes_count\": 1611, \"total_neighb_pop\": 19721, \"total_diabetes_prevalence\": 8.2}, {\"neighbourhood_ID\": 40.0, \"neighbourhood_name\": \"St.Andrew-Windfields\", \"adult_population\": 10130, \"adult_low_income\": 1275, \"adult_percent_low_income\": 7.6, \"income_quintile\": \"Second quintile\", \"total_diabetes_count\": 1442, \"total_neighb_pop\": 15138, \"total_diabetes_prevalence\": 9.5}, {\"neighbourhood_ID\": 41.0, \"neighbourhood_name\": \"Bridle Path-Sunnybrook-York Mills\", \"adult_population\": 5015, \"adult_low_income\": 495, \"adult_percent_low_income\": 5.5, \"income_quintile\": \"Fourth quintile\", \"total_diabetes_count\": 573, \"total_neighb_pop\": 8271, \"total_diabetes_prevalence\": 6.9}, {\"neighbourhood_ID\": 42.0, \"neighbourhood_name\": \"Banbury-Don Mills\", \"adult_population\": 15955, \"adult_low_income\": 1680, \"adult_percent_low_income\": 6.2, \"income_quintile\": \"Fourth quintile\", \"total_diabetes_count\": 3203, \"total_neighb_pop\": 25727, \"total_diabetes_prevalence\": 12.4}, {\"neighbourhood_ID\": 43.0, \"neighbourhood_name\": \"Victoria Village\", \"adult_population\": 10775, \"adult_low_income\": 1540, \"adult_percent_low_income\": 8.9, \"income_quintile\": \"Second quintile\", \"total_diabetes_count\": 2373, \"total_neighb_pop\": 15194, \"total_diabetes_prevalence\": 15.6}, {\"neighbourhood_ID\": 44.0, \"neighbourhood_name\": \"Flemingdon Park\", \"adult_population\": 14290, \"adult_low_income\": 2310, \"adult_percent_low_income\": 10.2, \"income_quintile\": \"First quintile\", \"total_diabetes_count\": 2752, \"total_neighb_pop\": 18415, \"total_diabetes_prevalence\": 14.9}, {\"neighbourhood_ID\": 46.0, \"neighbourhood_name\": \"Pleasant View\", \"adult_population\": 9585, \"adult_low_income\": 835, \"adult_percent_low_income\": 5.5, \"income_quintile\": \"Fourth quintile\", \"total_diabetes_count\": 1992, \"total_neighb_pop\": 15007, \"total_diabetes_prevalence\": 13.3}, {\"neighbourhood_ID\": 47.0, \"neighbourhood_name\": \"Don Valley Village\", \"adult_population\": 17070, \"adult_low_income\": 2090, \"adult_percent_low_income\": 7.9, \"income_quintile\": \"Second quintile\", \"total_diabetes_count\": 2662, \"total_neighb_pop\": 21502, \"total_diabetes_prevalence\": 12.4}, {\"neighbourhood_ID\": 48.0, \"neighbourhood_name\": \"Hillcrest Village\", \"adult_population\": 9210, \"adult_low_income\": 1075, \"adult_percent_low_income\": 6.6, \"income_quintile\": \"Third quintile\", \"total_diabetes_count\": 2312, \"total_neighb_pop\": 15376, \"total_diabetes_prevalence\": 15.0}, {\"neighbourhood_ID\": 49.0, \"neighbourhood_name\": \"Bayview Woods-Steeles\", \"adult_population\": 6990, \"adult_low_income\": 835, \"adult_percent_low_income\": 6.9, \"income_quintile\": \"Third quintile\", \"total_diabetes_count\": 1753, \"total_neighb_pop\": 13506, \"total_diabetes_prevalence\": 13.0}, {\"neighbourhood_ID\": 50.0, \"neighbourhood_name\": \"Newtonbrook East\", \"adult_population\": 10315, \"adult_low_income\": 1675, \"adult_percent_low_income\": 10.9, \"income_quintile\": \"First quintile\", \"total_diabetes_count\": 1429, \"total_neighb_pop\": 12157, \"total_diabetes_prevalence\": 11.8}, {\"neighbourhood_ID\": 52.0, \"neighbourhood_name\": \"Bayview Village\", \"adult_population\": 15460, \"adult_low_income\": 2495, \"adult_percent_low_income\": 11.2, \"income_quintile\": \"First quintile\", \"total_diabetes_count\": 1702, \"total_neighb_pop\": 19558, \"total_diabetes_prevalence\": 8.7}, {\"neighbourhood_ID\": 53.0, \"neighbourhood_name\": \"Henry Farm\", \"adult_population\": 14675, \"adult_low_income\": 2360, \"adult_percent_low_income\": 11.9, \"income_quintile\": \"First quintile\", \"total_diabetes_count\": 1746, \"total_neighb_pop\": 19764, \"total_diabetes_prevalence\": 8.8}, {\"neighbourhood_ID\": 54.0, \"neighbourhood_name\": \"O'Connor-Parkview\", \"adult_population\": 11790, \"adult_low_income\": 1415, \"adult_percent_low_income\": 7.7, \"income_quintile\": \"Second quintile\", \"total_diabetes_count\": 2035, \"total_neighb_pop\": 16378, \"total_diabetes_prevalence\": 12.4}, {\"neighbourhood_ID\": 55.0, \"neighbourhood_name\": \"Thorncliffe Park\", \"adult_population\": 12320, \"adult_low_income\": 2480, \"adult_percent_low_income\": 12.2, \"income_quintile\": \"First quintile\", \"total_diabetes_count\": 2586, \"total_neighb_pop\": 16755, \"total_diabetes_prevalence\": 15.4}, {\"neighbourhood_ID\": 56.0, \"neighbourhood_name\": \"Leaside-Bennington\", \"adult_population\": 10060, \"adult_low_income\": 565, \"adult_percent_low_income\": 3.4, \"income_quintile\": \"Fifth quintile\", \"total_diabetes_count\": 935, \"total_neighb_pop\": 14605, \"total_diabetes_prevalence\": 6.4}, {\"neighbourhood_ID\": 57.0, \"neighbourhood_name\": \"Broadview North\", \"adult_population\": 7365, \"adult_low_income\": 985, \"adult_percent_low_income\": 9.0, \"income_quintile\": \"Second quintile\", \"total_diabetes_count\": 1045, \"total_neighb_pop\": 9968, \"total_diabetes_prevalence\": 10.5}, {\"neighbourhood_ID\": 58.0, \"neighbourhood_name\": \"Old East York\", \"adult_population\": 5760, \"adult_low_income\": 465, \"adult_percent_low_income\": 5.1, \"income_quintile\": \"Fifth quintile\", \"total_diabetes_count\": 827, \"total_neighb_pop\": 7888, \"total_diabetes_prevalence\": 10.5}, {\"neighbourhood_ID\": 59.0, \"neighbourhood_name\": \"Danforth-East York\", \"adult_population\": 10705, \"adult_low_income\": 845, \"adult_percent_low_income\": 5.0, \"income_quintile\": \"Fifth quintile\", \"total_diabetes_count\": 1454, \"total_neighb_pop\": 14538, \"total_diabetes_prevalence\": 10.0}, {\"neighbourhood_ID\": 60.0, \"neighbourhood_name\": \"Woodbine-Lumsden\", \"adult_population\": 5180, \"adult_low_income\": 390, \"adult_percent_low_income\": 4.9, \"income_quintile\": \"Fifth quintile\", \"total_diabetes_count\": 711, \"total_neighb_pop\": 6928, \"total_diabetes_prevalence\": 10.3}, {\"neighbourhood_ID\": 61.0, \"neighbourhood_name\": \"Taylor-Massey\", \"adult_population\": 10065, \"adult_low_income\": 1615, \"adult_percent_low_income\": 10.8, \"income_quintile\": \"First quintile\", \"total_diabetes_count\": 2069, \"total_neighb_pop\": 14894, \"total_diabetes_prevalence\": 13.9}, {\"neighbourhood_ID\": 62.0, \"neighbourhood_name\": \"East End-Danforth\", \"adult_population\": 14450, \"adult_low_income\": 1555, \"adult_percent_low_income\": 7.1, \"income_quintile\": \"Third quintile\", \"total_diabetes_count\": 1764, \"total_neighb_pop\": 19330, \"total_diabetes_prevalence\": 9.1}, {\"neighbourhood_ID\": 63.0, \"neighbourhood_name\": \"The Beaches\", \"adult_population\": 13450, \"adult_low_income\": 1105, \"adult_percent_low_income\": 5.1, \"income_quintile\": \"Fifth quintile\", \"total_diabetes_count\": 1085, \"total_neighb_pop\": 18890, \"total_diabetes_prevalence\": 5.7}, {\"neighbourhood_ID\": 64.0, \"neighbourhood_name\": \"Woodbine Corridor\", \"adult_population\": 8010, \"adult_low_income\": 845, \"adult_percent_low_income\": 6.9, \"income_quintile\": \"Third quintile\", \"total_diabetes_count\": 900, \"total_neighb_pop\": 10641, \"total_diabetes_prevalence\": 8.5}, {\"neighbourhood_ID\": 65.0, \"neighbourhood_name\": \"Greenwood-Coxwell\", \"adult_population\": 9020, \"adult_low_income\": 945, \"adult_percent_low_income\": 6.9, \"income_quintile\": \"Third quintile\", \"total_diabetes_count\": 1116, \"total_neighb_pop\": 12042, \"total_diabetes_prevalence\": 9.3}, {\"neighbourhood_ID\": 66.0, \"neighbourhood_name\": \"Danforth\", \"adult_population\": 5870, \"adult_low_income\": 450, \"adult_percent_low_income\": 4.8, \"income_quintile\": \"Fifth quintile\", \"total_diabetes_count\": 766, \"total_neighb_pop\": 8100, \"total_diabetes_prevalence\": 9.5}, {\"neighbourhood_ID\": 67.0, \"neighbourhood_name\": \"Playter Estates-Danforth\", \"adult_population\": 4880, \"adult_low_income\": 455, \"adult_percent_low_income\": 5.9, \"income_quintile\": \"Fourth quintile\", \"total_diabetes_count\": 564, \"total_neighb_pop\": 6983, \"total_diabetes_prevalence\": 8.1}, {\"neighbourhood_ID\": 68.0, \"neighbourhood_name\": \"North Riverdale\", \"adult_population\": 7230, \"adult_low_income\": 565, \"adult_percent_low_income\": 5.0, \"income_quintile\": \"Fifth quintile\", \"total_diabetes_count\": 798, \"total_neighb_pop\": 10355, \"total_diabetes_prevalence\": 7.7}, {\"neighbourhood_ID\": 69.0, \"neighbourhood_name\": \"Blake-Jones\", \"adult_population\": 4915, \"adult_low_income\": 615, \"adult_percent_low_income\": 8.2, \"income_quintile\": \"Second quintile\", \"total_diabetes_count\": 586, \"total_neighb_pop\": 6650, \"total_diabetes_prevalence\": 8.8}, {\"neighbourhood_ID\": 70.0, \"neighbourhood_name\": \"South Riverdale\", \"adult_population\": 19945, \"adult_low_income\": 1985, \"adult_percent_low_income\": 7.1, \"income_quintile\": \"Third quintile\", \"total_diabetes_count\": 2177, \"total_neighb_pop\": 24849, \"total_diabetes_prevalence\": 8.8}, {\"neighbourhood_ID\": 71.0, \"neighbourhood_name\": \"Cabbagetown-South St.James Town\", \"adult_population\": 7860, \"adult_low_income\": 960, \"adult_percent_low_income\": 8.7, \"income_quintile\": \"Second quintile\", \"total_diabetes_count\": 1113, \"total_neighb_pop\": 11624, \"total_diabetes_prevalence\": 9.6}, {\"neighbourhood_ID\": 72.0, \"neighbourhood_name\": \"Regent Park\", \"adult_population\": 9025, \"adult_low_income\": 1795, \"adult_percent_low_income\": 14.6, \"income_quintile\": \"First quintile\", \"total_diabetes_count\": 1380, \"total_neighb_pop\": 11562, \"total_diabetes_prevalence\": 11.9}, {\"neighbourhood_ID\": 73.0, \"neighbourhood_name\": \"Moss Park\", \"adult_population\": 17330, \"adult_low_income\": 3610, \"adult_percent_low_income\": 16.9, \"income_quintile\": \"First quintile\", \"total_diabetes_count\": 1753, \"total_neighb_pop\": 21837, \"total_diabetes_prevalence\": 8.0}, {\"neighbourhood_ID\": 74.0, \"neighbourhood_name\": \"North St.James Town\", \"adult_population\": 14100, \"adult_low_income\": 2745, \"adult_percent_low_income\": 14.8, \"income_quintile\": \"First quintile\", \"total_diabetes_count\": 2048, \"total_neighb_pop\": 17009, \"total_diabetes_prevalence\": 12.0}, {\"neighbourhood_ID\": 78.0, \"neighbourhood_name\": \"Kensington-Chinatown\", \"adult_population\": 13835, \"adult_low_income\": 2735, \"adult_percent_low_income\": 15.1, \"income_quintile\": \"First quintile\", \"total_diabetes_count\": 1786, \"total_neighb_pop\": 17928, \"total_diabetes_prevalence\": 10.0}, {\"neighbourhood_ID\": 79.0, \"neighbourhood_name\": \"University\", \"adult_population\": 4610, \"adult_low_income\": 695, \"adult_percent_low_income\": 11.2, \"income_quintile\": \"First quintile\", \"total_diabetes_count\": 539, \"total_neighb_pop\": 8951, \"total_diabetes_prevalence\": 6.0}, {\"neighbourhood_ID\": 80.0, \"neighbourhood_name\": \"Palmerston-Little Italy\", \"adult_population\": 9425, \"adult_low_income\": 940, \"adult_percent_low_income\": 7.3, \"income_quintile\": \"Third quintile\", \"total_diabetes_count\": 924, \"total_neighb_pop\": 12789, \"total_diabetes_prevalence\": 7.2}, {\"neighbourhood_ID\": 81.0, \"neighbourhood_name\": \"Trinity-Bellwoods\", \"adult_population\": 11160, \"adult_low_income\": 1120, \"adult_percent_low_income\": 7.3, \"income_quintile\": \"Third quintile\", \"total_diabetes_count\": 1258, \"total_neighb_pop\": 14279, \"total_diabetes_prevalence\": 8.8}, {\"neighbourhood_ID\": 83.0, \"neighbourhood_name\": \"Dufferin Grove\", \"adult_population\": 7815, \"adult_low_income\": 790, \"adult_percent_low_income\": 7.3, \"income_quintile\": \"Third quintile\", \"total_diabetes_count\": 1043, \"total_neighb_pop\": 11541, \"total_diabetes_prevalence\": 9.0}, {\"neighbourhood_ID\": 84.0, \"neighbourhood_name\": \"Little Portugal\", \"adult_population\": 11980, \"adult_low_income\": 1155, \"adult_percent_low_income\": 7.5, \"income_quintile\": \"Second quintile\", \"total_diabetes_count\": 1194, \"total_neighb_pop\": 15858, \"total_diabetes_prevalence\": 7.5}, {\"neighbourhood_ID\": 85.0, \"neighbourhood_name\": \"South Parkdale\", \"adult_population\": 15785, \"adult_low_income\": 2805, \"adult_percent_low_income\": 13.7, \"income_quintile\": \"First quintile\", \"total_diabetes_count\": 2205, \"total_neighb_pop\": 20912, \"total_diabetes_prevalence\": 10.5}, {\"neighbourhood_ID\": 86.0, \"neighbourhood_name\": \"Roncesvalles\", \"adult_population\": 10190, \"adult_low_income\": 1075, \"adult_percent_low_income\": 7.4, \"income_quintile\": \"Third quintile\", \"total_diabetes_count\": 997, \"total_neighb_pop\": 13339, \"total_diabetes_prevalence\": 7.5}, {\"neighbourhood_ID\": 87.0, \"neighbourhood_name\": \"High Park-Swansea\", \"adult_population\": 14730, \"adult_low_income\": 1215, \"adult_percent_low_income\": 5.4, \"income_quintile\": \"Fifth quintile\", \"total_diabetes_count\": 1435, \"total_neighb_pop\": 20827, \"total_diabetes_prevalence\": 6.9}, {\"neighbourhood_ID\": 88.0, \"neighbourhood_name\": \"High Park North\", \"adult_population\": 15240, \"adult_low_income\": 1715, \"adult_percent_low_income\": 7.8, \"income_quintile\": \"Second quintile\", \"total_diabetes_count\": 1366, \"total_neighb_pop\": 20940, \"total_diabetes_prevalence\": 6.5}, {\"neighbourhood_ID\": 89.0, \"neighbourhood_name\": \"Runnymede-Bloor West Village\", \"adult_population\": 6335, \"adult_low_income\": 295, \"adult_percent_low_income\": 2.9, \"income_quintile\": \"Fifth quintile\", \"total_diabetes_count\": 587, \"total_neighb_pop\": 8367, \"total_diabetes_prevalence\": 7.0}, {\"neighbourhood_ID\": 90.0, \"neighbourhood_name\": \"Junction Area\", \"adult_population\": 9840, \"adult_low_income\": 865, \"adult_percent_low_income\": 6.2, \"income_quintile\": \"Fourth quintile\", \"total_diabetes_count\": 1172, \"total_neighb_pop\": 13237, \"total_diabetes_prevalence\": 8.9}, {\"neighbourhood_ID\": 91.0, \"neighbourhood_name\": \"Weston-Pelham Park\", \"adult_population\": 6870, \"adult_low_income\": 760, \"adult_percent_low_income\": 7.6, \"income_quintile\": \"Second quintile\", \"total_diabetes_count\": 1209, \"total_neighb_pop\": 9839, \"total_diabetes_prevalence\": 12.3}, {\"neighbourhood_ID\": 92.0, \"neighbourhood_name\": \"Corso Italia-Davenport\", \"adult_population\": 8930, \"adult_low_income\": 715, \"adult_percent_low_income\": 5.4, \"income_quintile\": \"Fifth quintile\", \"total_diabetes_count\": 1247, \"total_neighb_pop\": 11810, \"total_diabetes_prevalence\": 10.6}, {\"neighbourhood_ID\": 94.0, \"neighbourhood_name\": \"Wychwood\", \"adult_population\": 8345, \"adult_low_income\": 795, \"adult_percent_low_income\": 6.2, \"income_quintile\": \"Fourth quintile\", \"total_diabetes_count\": 1449, \"total_neighb_pop\": 13441, \"total_diabetes_prevalence\": 10.8}, {\"neighbourhood_ID\": 95.0, \"neighbourhood_name\": \"Annex\", \"adult_population\": 20490, \"adult_low_income\": 3095, \"adult_percent_low_income\": 10.6, \"income_quintile\": \"First quintile\", \"total_diabetes_count\": 1815, \"total_neighb_pop\": 28120, \"total_diabetes_prevalence\": 6.5}, {\"neighbourhood_ID\": 96.0, \"neighbourhood_name\": \"Casa Loma\", \"adult_population\": 6865, \"adult_low_income\": 730, \"adult_percent_low_income\": 6.5, \"income_quintile\": \"Fourth quintile\", \"total_diabetes_count\": 793, \"total_neighb_pop\": 11074, \"total_diabetes_prevalence\": 7.2}, {\"neighbourhood_ID\": 97.0, \"neighbourhood_name\": \"Yonge-St.Clair\", \"adult_population\": 8190, \"adult_low_income\": 880, \"adult_percent_low_income\": 6.8, \"income_quintile\": \"Third quintile\", \"total_diabetes_count\": 763, \"total_neighb_pop\": 11514, \"total_diabetes_prevalence\": 6.6}, {\"neighbourhood_ID\": 98.0, \"neighbourhood_name\": \"Rosedale-Moore Park\", \"adult_population\": 11500, \"adult_low_income\": 1100, \"adult_percent_low_income\": 5.5, \"income_quintile\": \"Fourth quintile\", \"total_diabetes_count\": 1367, \"total_neighb_pop\": 20582, \"total_diabetes_prevalence\": 6.6}, {\"neighbourhood_ID\": 99.0, \"neighbourhood_name\": \"Mount Pleasant East\", \"adult_population\": 10265, \"adult_low_income\": 740, \"adult_percent_low_income\": 4.5, \"income_quintile\": \"Fifth quintile\", \"total_diabetes_count\": 973, \"total_neighb_pop\": 14659, \"total_diabetes_prevalence\": 6.6}, {\"neighbourhood_ID\": 100.0, \"neighbourhood_name\": \"Yonge-Eglinton\", \"adult_population\": 8325, \"adult_low_income\": 905, \"adult_percent_low_income\": 7.3, \"income_quintile\": \"Third quintile\", \"total_diabetes_count\": 615, \"total_neighb_pop\": 10894, \"total_diabetes_prevalence\": 5.6}, {\"neighbourhood_ID\": 101.0, \"neighbourhood_name\": \"Forest Hill South\", \"adult_population\": 6470, \"adult_low_income\": 650, \"adult_percent_low_income\": 6.0, \"income_quintile\": \"Fourth quintile\", \"total_diabetes_count\": 725, \"total_neighb_pop\": 9787, \"total_diabetes_prevalence\": 7.4}, {\"neighbourhood_ID\": 102.0, \"neighbourhood_name\": \"Forest Hill North\", \"adult_population\": 7650, \"adult_low_income\": 765, \"adult_percent_low_income\": 6.2, \"income_quintile\": \"Fourth quintile\", \"total_diabetes_count\": 1044, \"total_neighb_pop\": 11004, \"total_diabetes_prevalence\": 9.5}, {\"neighbourhood_ID\": 103.0, \"neighbourhood_name\": \"Lawrence Park South\", \"adult_population\": 9140, \"adult_low_income\": 675, \"adult_percent_low_income\": 4.5, \"income_quintile\": \"Fifth quintile\", \"total_diabetes_count\": 674, \"total_neighb_pop\": 12802, \"total_diabetes_prevalence\": 5.3}, {\"neighbourhood_ID\": 105.0, \"neighbourhood_name\": \"Lawrence Park North\", \"adult_population\": 8865, \"adult_low_income\": 485, \"adult_percent_low_income\": 3.3, \"income_quintile\": \"Fifth quintile\", \"total_diabetes_count\": 747, \"total_neighb_pop\": 12097, \"total_diabetes_prevalence\": 6.2}, {\"neighbourhood_ID\": 106.0, \"neighbourhood_name\": \"Humewood-Cedarvale\", \"adult_population\": 9150, \"adult_low_income\": 940, \"adult_percent_low_income\": 6.8, \"income_quintile\": \"Third quintile\", \"total_diabetes_count\": 1057, \"total_neighb_pop\": 11471, \"total_diabetes_prevalence\": 9.2}, {\"neighbourhood_ID\": 107.0, \"neighbourhood_name\": \"Oakwood Village\", \"adult_population\": 13410, \"adult_low_income\": 1325, \"adult_percent_low_income\": 6.4, \"income_quintile\": \"Fourth quintile\", \"total_diabetes_count\": 2263, \"total_neighb_pop\": 18012, \"total_diabetes_prevalence\": 12.6}, {\"neighbourhood_ID\": 108.0, \"neighbourhood_name\": \"Briar Hill-Belgravia\", \"adult_population\": 9915, \"adult_low_income\": 1010, \"adult_percent_low_income\": 6.9, \"income_quintile\": \"Third quintile\", \"total_diabetes_count\": 1733, \"total_neighb_pop\": 12799, \"total_diabetes_prevalence\": 13.5}, {\"neighbourhood_ID\": 109.0, \"neighbourhood_name\": \"Caledonia-Fairbank\", \"adult_population\": 6755, \"adult_low_income\": 590, \"adult_percent_low_income\": 5.9, \"income_quintile\": \"Fourth quintile\", \"total_diabetes_count\": 1155, \"total_neighb_pop\": 8635, \"total_diabetes_prevalence\": 13.4}, {\"neighbourhood_ID\": 110.0, \"neighbourhood_name\": \"Keelesdale-Eglinton West\", \"adult_population\": 7515, \"adult_low_income\": 760, \"adult_percent_low_income\": 6.7, \"income_quintile\": \"Third quintile\", \"total_diabetes_count\": 1350, \"total_neighb_pop\": 9090, \"total_diabetes_prevalence\": 14.9}, {\"neighbourhood_ID\": 111.0, \"neighbourhood_name\": \"Rockcliffe-Smythe\", \"adult_population\": 14190, \"adult_low_income\": 1815, \"adult_percent_low_income\": 8.2, \"income_quintile\": \"Second quintile\", \"total_diabetes_count\": 2940, \"total_neighb_pop\": 19264, \"total_diabetes_prevalence\": 15.3}, {\"neighbourhood_ID\": 112.0, \"neighbourhood_name\": \"Beechborough-Greenbrook\", \"adult_population\": 3970, \"adult_low_income\": 645, \"adult_percent_low_income\": 10.6, \"income_quintile\": \"First quintile\", \"total_diabetes_count\": 922, \"total_neighb_pop\": 5432, \"total_diabetes_prevalence\": 17.0}, {\"neighbourhood_ID\": 113.0, \"neighbourhood_name\": \"Weston\", \"adult_population\": 12190, \"adult_low_income\": 1990, \"adult_percent_low_income\": 10.8, \"income_quintile\": \"First quintile\", \"total_diabetes_count\": 2669, \"total_neighb_pop\": 18080, \"total_diabetes_prevalence\": 14.8}, {\"neighbourhood_ID\": 114.0, \"neighbourhood_name\": \"Lambton Baby Point\", \"adult_population\": 4900, \"adult_low_income\": 520, \"adult_percent_low_income\": 6.5, \"income_quintile\": \"Fourth quintile\", \"total_diabetes_count\": 526, \"total_neighb_pop\": 6484, \"total_diabetes_prevalence\": 8.1}, {\"neighbourhood_ID\": 115.0, \"neighbourhood_name\": \"Mount Dennis\", \"adult_population\": 8695, \"adult_low_income\": 1105, \"adult_percent_low_income\": 8.5, \"income_quintile\": \"Second quintile\", \"total_diabetes_count\": 1785, \"total_neighb_pop\": 11054, \"total_diabetes_prevalence\": 16.1}, {\"neighbourhood_ID\": 116.0, \"neighbourhood_name\": \"Steeles\", \"adult_population\": 12900, \"adult_low_income\": 1495, \"adult_percent_low_income\": 6.7, \"income_quintile\": \"Third quintile\", \"total_diabetes_count\": 3477, \"total_neighb_pop\": 21319, \"total_diabetes_prevalence\": 16.3}, {\"neighbourhood_ID\": 118.0, \"neighbourhood_name\": \"Tam O'Shanter-Sullivan\", \"adult_population\": 16570, \"adult_low_income\": 1820, \"adult_percent_low_income\": 6.7, \"income_quintile\": \"Third quintile\", \"total_diabetes_count\": 4124, \"total_neighb_pop\": 24461, \"total_diabetes_prevalence\": 16.9}, {\"neighbourhood_ID\": 119.0, \"neighbourhood_name\": \"Wexford/Maryvale\", \"adult_population\": 18525, \"adult_low_income\": 1870, \"adult_percent_low_income\": 6.6, \"income_quintile\": \"Third quintile\", \"total_diabetes_count\": 3965, \"total_neighb_pop\": 25478, \"total_diabetes_prevalence\": 15.6}, {\"neighbourhood_ID\": 120.0, \"neighbourhood_name\": \"Clairlea-Birchmount\", \"adult_population\": 17735, \"adult_low_income\": 1730, \"adult_percent_low_income\": 6.4, \"income_quintile\": \"Fourth quintile\", \"total_diabetes_count\": 4493, \"total_neighb_pop\": 28432, \"total_diabetes_prevalence\": 15.8}, {\"neighbourhood_ID\": 121.0, \"neighbourhood_name\": \"Oakridge\", \"adult_population\": 8920, \"adult_low_income\": 1730, \"adult_percent_low_income\": 12.6, \"income_quintile\": \"First quintile\", \"total_diabetes_count\": 2014, \"total_neighb_pop\": 11661, \"total_diabetes_prevalence\": 17.3}, {\"neighbourhood_ID\": 122.0, \"neighbourhood_name\": \"Birchcliffe-Cliffside\", \"adult_population\": 14365, \"adult_low_income\": 1395, \"adult_percent_low_income\": 6.2, \"income_quintile\": \"Fourth quintile\", \"total_diabetes_count\": 2449, \"total_neighb_pop\": 20124, \"total_diabetes_prevalence\": 12.2}, {\"neighbourhood_ID\": 123.0, \"neighbourhood_name\": \"Cliffcrest\", \"adult_population\": 9985, \"adult_low_income\": 905, \"adult_percent_low_income\": 5.6, \"income_quintile\": \"Fourth quintile\", \"total_diabetes_count\": 2122, \"total_neighb_pop\": 14031, \"total_diabetes_prevalence\": 15.1}, {\"neighbourhood_ID\": 124.0, \"neighbourhood_name\": \"Kennedy Park\", \"adult_population\": 11070, \"adult_low_income\": 1610, \"adult_percent_low_income\": 9.4, \"income_quintile\": \"Second quintile\", \"total_diabetes_count\": 2957, \"total_neighb_pop\": 15339, \"total_diabetes_prevalence\": 19.3}, {\"neighbourhood_ID\": 125.0, \"neighbourhood_name\": \"Ionview\", \"adult_population\": 8615, \"adult_low_income\": 990, \"adult_percent_low_income\": 7.4, \"income_quintile\": \"Third quintile\", \"total_diabetes_count\": 1394, \"total_neighb_pop\": 8419, \"total_diabetes_prevalence\": 16.6}, {\"neighbourhood_ID\": 126.0, \"neighbourhood_name\": \"Dorset Park\", \"adult_population\": 15880, \"adult_low_income\": 1640, \"adult_percent_low_income\": 6.8, \"income_quintile\": \"Third quintile\", \"total_diabetes_count\": 4187, \"total_neighb_pop\": 22379, \"total_diabetes_prevalence\": 18.7}, {\"neighbourhood_ID\": 128.0, \"neighbourhood_name\": \"Agincourt South-Malvern West\", \"adult_population\": 16060, \"adult_low_income\": 1945, \"adult_percent_low_income\": 8.0, \"income_quintile\": \"Second quintile\", \"total_diabetes_count\": 3349, \"total_neighb_pop\": 21714, \"total_diabetes_prevalence\": 15.4}, {\"neighbourhood_ID\": 129.0, \"neighbourhood_name\": \"Agincourt North\", \"adult_population\": 16295, \"adult_low_income\": 1510, \"adult_percent_low_income\": 5.7, \"income_quintile\": \"Fourth quintile\", \"total_diabetes_count\": 4621, \"total_neighb_pop\": 25080, \"total_diabetes_prevalence\": 18.4}, {\"neighbourhood_ID\": 130.0, \"neighbourhood_name\": \"Milliken\", \"adult_population\": 14455, \"adult_low_income\": 1745, \"adult_percent_low_income\": 7.3, \"income_quintile\": \"Third quintile\", \"total_diabetes_count\": 3864, \"total_neighb_pop\": 21826, \"total_diabetes_prevalence\": 17.7}, {\"neighbourhood_ID\": 133.0, \"neighbourhood_name\": \"Centennial Scarborough\", \"adult_population\": 8015, \"adult_low_income\": 280, \"adult_percent_low_income\": 2.1, \"income_quintile\": \"Fifth quintile\", \"total_diabetes_count\": 1753, \"total_neighb_pop\": 12003, \"total_diabetes_prevalence\": 14.6}, {\"neighbourhood_ID\": 134.0, \"neighbourhood_name\": \"Highland Creek\", \"adult_population\": 7920, \"adult_low_income\": 515, \"adult_percent_low_income\": 4.1, \"income_quintile\": \"Fifth quintile\", \"total_diabetes_count\": 2357, \"total_neighb_pop\": 11897, \"total_diabetes_prevalence\": 19.8}, {\"neighbourhood_ID\": 135.0, \"neighbourhood_name\": \"Morningside\", \"adult_population\": 11260, \"adult_low_income\": 1190, \"adult_percent_low_income\": 6.7, \"income_quintile\": \"Third quintile\", \"total_diabetes_count\": 2793, \"total_neighb_pop\": 14844, \"total_diabetes_prevalence\": 18.8}, {\"neighbourhood_ID\": 136.0, \"neighbourhood_name\": \"West Hill\", \"adult_population\": 18115, \"adult_low_income\": 2410, \"adult_percent_low_income\": 8.6, \"income_quintile\": \"Second quintile\", \"total_diabetes_count\": 4120, \"total_neighb_pop\": 22944, \"total_diabetes_prevalence\": 18.0}, {\"neighbourhood_ID\": 138.0, \"neighbourhood_name\": \"Eglinton East\", \"adult_population\": 14235, \"adult_low_income\": 1600, \"adult_percent_low_income\": 7.2, \"income_quintile\": \"Third quintile\", \"total_diabetes_count\": 3625, \"total_neighb_pop\": 18349, \"total_diabetes_prevalence\": 19.8}, {\"neighbourhood_ID\": 139.0, \"neighbourhood_name\": \"Scarborough Village\", \"adult_population\": 10325, \"adult_low_income\": 1540, \"adult_percent_low_income\": 9.4, \"income_quintile\": \"Second quintile\", \"total_diabetes_count\": 3108, \"total_neighb_pop\": 16531, \"total_diabetes_prevalence\": 18.8}, {\"neighbourhood_ID\": 140.0, \"neighbourhood_name\": \"Guildwood\", \"adult_population\": 5395, \"adult_low_income\": 290, \"adult_percent_low_income\": 3.0, \"income_quintile\": \"Fifth quintile\", \"total_diabetes_count\": 1427, \"total_neighb_pop\": 9481, \"total_diabetes_prevalence\": 15.1}, {\"neighbourhood_ID\": 141.0, \"neighbourhood_name\": \"Golfdale-Cedarbrae-Woburn\", \"adult_population\": 16920, \"adult_low_income\": 2160, \"adult_percent_low_income\": 8.0, \"income_quintile\": \"Second quintile\", \"total_diabetes_count\": 4128, \"total_neighb_pop\": 21126, \"total_diabetes_prevalence\": 19.5}, {\"neighbourhood_ID\": 142.0, \"neighbourhood_name\": \"Woburn North\", \"adult_population\": 17645, \"adult_low_income\": 2420, \"adult_percent_low_income\": 9.1, \"income_quintile\": \"Second quintile\", \"total_diabetes_count\": 3960, \"total_neighb_pop\": 23324, \"total_diabetes_prevalence\": 17.0}, {\"neighbourhood_ID\": 143.0, \"neighbourhood_name\": \"West Rouge\", \"adult_population\": 12630, \"adult_low_income\": 655, \"adult_percent_low_income\": 3.2, \"income_quintile\": \"Fifth quintile\", \"total_diabetes_count\": 3082, \"total_neighb_pop\": 17162, \"total_diabetes_prevalence\": 18.0}, {\"neighbourhood_ID\": 144.0, \"neighbourhood_name\": \"Morningside Heights\", \"adult_population\": 16280, \"adult_low_income\": 775, \"adult_percent_low_income\": 3.1, \"income_quintile\": \"Fifth quintile\", \"total_diabetes_count\": 5156, \"total_neighb_pop\": 22701, \"total_diabetes_prevalence\": 22.7}, {\"neighbourhood_ID\": 145.0, \"neighbourhood_name\": \"Malvern West\", \"adult_population\": 10900, \"adult_low_income\": 915, \"adult_percent_low_income\": 5.4, \"income_quintile\": \"Fifth quintile\", \"total_diabetes_count\": 3457, \"total_neighb_pop\": 16616, \"total_diabetes_prevalence\": 20.8}, {\"neighbourhood_ID\": 146.0, \"neighbourhood_name\": \"Malvern East\", \"adult_population\": 16605, \"adult_low_income\": 1410, \"adult_percent_low_income\": 5.5, \"income_quintile\": \"Fourth quintile\", \"total_diabetes_count\": 4306, \"total_neighb_pop\": 21049, \"total_diabetes_prevalence\": 20.5}, {\"neighbourhood_ID\": 147.0, \"neighbourhood_name\": \"L'Amoreaux West\", \"adult_population\": 12460, \"adult_low_income\": 1365, \"adult_percent_low_income\": 6.5, \"income_quintile\": \"Fourth quintile\", \"total_diabetes_count\": 3651, \"total_neighb_pop\": 20786, \"total_diabetes_prevalence\": 17.6}, {\"neighbourhood_ID\": 148.0, \"neighbourhood_name\": \"East L'Amoreaux\", \"adult_population\": 13385, \"adult_low_income\": 1595, \"adult_percent_low_income\": 7.5, \"income_quintile\": \"Second quintile\", \"total_diabetes_count\": 2836, \"total_neighb_pop\": 17070, \"total_diabetes_prevalence\": 16.6}, {\"neighbourhood_ID\": 149.0, \"neighbourhood_name\": \"Parkwoods-O'Connor Hills\", \"adult_population\": 8655, \"adult_low_income\": 870, \"adult_percent_low_income\": 6.2, \"income_quintile\": \"Fourth quintile\", \"total_diabetes_count\": 1547, \"total_neighb_pop\": 12007, \"total_diabetes_prevalence\": 12.9}, {\"neighbourhood_ID\": 150.0, \"neighbourhood_name\": \"Fenside-Parkwoods\", \"adult_population\": 13710, \"adult_low_income\": 1500, \"adult_percent_low_income\": 7.3, \"income_quintile\": \"Third quintile\", \"total_diabetes_count\": 2354, \"total_neighb_pop\": 18002, \"total_diabetes_prevalence\": 13.1}, {\"neighbourhood_ID\": 151.0, \"neighbourhood_name\": \"Yonge-Doris\", \"adult_population\": 14300, \"adult_low_income\": 2995, \"adult_percent_low_income\": 14.9, \"income_quintile\": \"First quintile\", \"total_diabetes_count\": 2158, \"total_neighb_pop\": 25360, \"total_diabetes_prevalence\": 8.5}, {\"neighbourhood_ID\": 152.0, \"neighbourhood_name\": \"East Willowdale\", \"adult_population\": 10015, \"adult_low_income\": 1645, \"adult_percent_low_income\": 10.6, \"income_quintile\": \"First quintile\", \"total_diabetes_count\": 934, \"total_neighb_pop\": 9822, \"total_diabetes_prevalence\": 9.5}, {\"neighbourhood_ID\": 153.0, \"neighbourhood_name\": \"Avondale\", \"adult_population\": 10650, \"adult_low_income\": 1930, \"adult_percent_low_income\": 14.0, \"income_quintile\": \"First quintile\", \"total_diabetes_count\": 1048, \"total_neighb_pop\": 14979, \"total_diabetes_prevalence\": 7.0}, {\"neighbourhood_ID\": 154.0, \"neighbourhood_name\": \"Oakdale-Beverley Heights\", \"adult_population\": 13805, \"adult_low_income\": 1630, \"adult_percent_low_income\": 7.6, \"income_quintile\": \"Second quintile\", \"total_diabetes_count\": 2962, \"total_neighb_pop\": 18890, \"total_diabetes_prevalence\": 15.7}, {\"neighbourhood_ID\": 155.0, \"neighbourhood_name\": \"Downsview\", \"adult_population\": 12100, \"adult_low_income\": 1145, \"adult_percent_low_income\": 6.4, \"income_quintile\": \"Fourth quintile\", \"total_diabetes_count\": 2121, \"total_neighb_pop\": 15143, \"total_diabetes_prevalence\": 14.0}, {\"neighbourhood_ID\": 156.0, \"neighbourhood_name\": \"Bendale-Glen Andrew\", \"adult_population\": 12035, \"adult_low_income\": 1825, \"adult_percent_low_income\": 9.8, \"income_quintile\": \"First quintile\", \"total_diabetes_count\": 2574, \"total_neighb_pop\": 15864, \"total_diabetes_prevalence\": 16.2}, {\"neighbourhood_ID\": 157.0, \"neighbourhood_name\": \"Bendale South\", \"adult_population\": 6985, \"adult_low_income\": 565, \"adult_percent_low_income\": 5.3, \"income_quintile\": \"Fifth quintile\", \"total_diabetes_count\": 1413, \"total_neighb_pop\": 7917, \"total_diabetes_prevalence\": 17.8}, {\"neighbourhood_ID\": 158.0, \"neighbourhood_name\": \"Islington\", \"adult_population\": 14475, \"adult_low_income\": 1110, \"adult_percent_low_income\": 4.8, \"income_quintile\": \"Fifth quintile\", \"total_diabetes_count\": 2379, \"total_neighb_pop\": 20922, \"total_diabetes_prevalence\": 11.4}, {\"neighbourhood_ID\": 159.0, \"neighbourhood_name\": \"Etobicoke City Centre\", \"adult_population\": 17435, \"adult_low_income\": 1885, \"adult_percent_low_income\": 8.0, \"income_quintile\": \"Second quintile\", \"total_diabetes_count\": 2231, \"total_neighb_pop\": 23272, \"total_diabetes_prevalence\": 9.6}, {\"neighbourhood_ID\": 160.0, \"neighbourhood_name\": \"Mimico-Queensway\", \"adult_population\": 11615, \"adult_low_income\": 1155, \"adult_percent_low_income\": 6.8, \"income_quintile\": \"Third quintile\", \"total_diabetes_count\": 1579, \"total_neighb_pop\": 15962, \"total_diabetes_prevalence\": 9.9}, {\"neighbourhood_ID\": 161.0, \"neighbourhood_name\": \"Humber Bay Shores\", \"adult_population\": 17065, \"adult_low_income\": 2240, \"adult_percent_low_income\": 9.9, \"income_quintile\": \"First quintile\", \"total_diabetes_count\": 1576, \"total_neighb_pop\": 19672, \"total_diabetes_prevalence\": 8.0}, {\"neighbourhood_ID\": 162.0, \"neighbourhood_name\": \"West Queen West\", \"adult_population\": 10720, \"adult_low_income\": 1000, \"adult_percent_low_income\": 7.6, \"income_quintile\": \"Second quintile\", \"total_diabetes_count\": 702, \"total_neighb_pop\": 12392, \"total_diabetes_prevalence\": 5.7}, {\"neighbourhood_ID\": 163.0, \"neighbourhood_name\": \"Fort York-Liberty Village\", \"adult_population\": 17875, \"adult_low_income\": 1725, \"adult_percent_low_income\": 8.6, \"income_quintile\": \"Second quintile\", \"total_diabetes_count\": 743, \"total_neighb_pop\": 20388, \"total_diabetes_prevalence\": 3.6}, {\"neighbourhood_ID\": 164.0, \"neighbourhood_name\": \"Wellington Place\", \"adult_population\": 23565, \"adult_low_income\": 3210, \"adult_percent_low_income\": 12.6, \"income_quintile\": \"First quintile\", \"total_diabetes_count\": 537, \"total_neighb_pop\": 23676, \"total_diabetes_prevalence\": 2.3}, {\"neighbourhood_ID\": 165.0, \"neighbourhood_name\": \"Harbourfront-CityPlace\", \"adult_population\": 24410, \"adult_low_income\": 3355, \"adult_percent_low_income\": 11.9, \"income_quintile\": \"First quintile\", \"total_diabetes_count\": 1078, \"total_neighb_pop\": 28402, \"total_diabetes_prevalence\": 3.8}, {\"neighbourhood_ID\": 166.0, \"neighbourhood_name\": \"St Lawrence-East Bayfront-The Islands\", \"adult_population\": 24670, \"adult_low_income\": 3385, \"adult_percent_low_income\": 10.8, \"income_quintile\": \"First quintile\", \"total_diabetes_count\": 1996, \"total_neighb_pop\": 29907, \"total_diabetes_prevalence\": 6.7}, {\"neighbourhood_ID\": 167.0, \"neighbourhood_name\": \"Church-Wellesley\", \"adult_population\": 19015, \"adult_low_income\": 4555, \"adult_percent_low_income\": 20.5, \"income_quintile\": \"First quintile\", \"total_diabetes_count\": 1334, \"total_neighb_pop\": 22344, \"total_diabetes_prevalence\": 6.0}, {\"neighbourhood_ID\": 168.0, \"neighbourhood_name\": \"Downtown Yonge East\", \"adult_population\": 14750, \"adult_low_income\": 3090, \"adult_percent_low_income\": 17.4, \"income_quintile\": \"First quintile\", \"total_diabetes_count\": 1171, \"total_neighb_pop\": 17381, \"total_diabetes_prevalence\": 6.7}, {\"neighbourhood_ID\": 169.0, \"neighbourhood_name\": \"Bay-Cloverhill\", \"adult_population\": 13675, \"adult_low_income\": 4330, \"adult_percent_low_income\": 26.0, \"income_quintile\": \"First quintile\", \"total_diabetes_count\": 752, \"total_neighb_pop\": 15196, \"total_diabetes_prevalence\": 4.9}, {\"neighbourhood_ID\": 170.0, \"neighbourhood_name\": \"Yonge-Bay Corridor\", \"adult_population\": 10745, \"adult_low_income\": 2595, \"adult_percent_low_income\": 20.5, \"income_quintile\": \"First quintile\", \"total_diabetes_count\": 625, \"total_neighb_pop\": 14982, \"total_diabetes_prevalence\": 4.2}, {\"neighbourhood_ID\": 171.0, \"neighbourhood_name\": \"Junction-Wallace Emerson\", \"adult_population\": 16815, \"adult_low_income\": 1685, \"adult_percent_low_income\": 7.3, \"income_quintile\": \"Third quintile\", \"total_diabetes_count\": 2184, \"total_neighb_pop\": 21437, \"total_diabetes_prevalence\": 10.2}, {\"neighbourhood_ID\": 172.0, \"neighbourhood_name\": \"Dovercourt Village\", \"adult_population\": 8745, \"adult_low_income\": 825, \"adult_percent_low_income\": 6.7, \"income_quintile\": \"Third quintile\", \"total_diabetes_count\": 1042, \"total_neighb_pop\": 11631, \"total_diabetes_prevalence\": 9.0}, {\"neighbourhood_ID\": 173.0, \"neighbourhood_name\": \"North Toronto\", \"adult_population\": 12500, \"adult_low_income\": 2120, \"adult_percent_low_income\": 13.4, \"income_quintile\": \"First quintile\", \"total_diabetes_count\": 964, \"total_neighb_pop\": 14910, \"total_diabetes_prevalence\": 6.5}, {\"neighbourhood_ID\": 174.0, \"neighbourhood_name\": \"South Eglinton-Davisville\", \"adult_population\": 17170, \"adult_low_income\": 2455, \"adult_percent_low_income\": 10.8, \"income_quintile\": \"First quintile\", \"total_diabetes_count\": 1392, \"total_neighb_pop\": 21412, \"total_diabetes_prevalence\": 6.5}]}}, {\"mode\": \"vega-lite\"});\n",
       "</script>"
      ],
      "text/plain": [
       "alt.Chart(...)"
      ]
     },
     "execution_count": 46,
     "metadata": {},
     "output_type": "execute_result"
    }
   ],
   "source": [
    "q_diabetes_income_chart = alt.Chart(diabetes_income).mark_bar().encode(\n",
    "    alt.X('income_quintile:O', sort=qsort, title='Income quintile'),\n",
    "    alt.Y('mean(total_diabetes_prevalence):Q', title='Mean rate of diabetes'),\n",
    "    tooltip=[\n",
    "        alt.Tooltip('mean(total_diabetes_prevalence):Q', title='Mean diabetes prevalence', format='.2f'),\n",
    "        alt.Tooltip('mean(adult_percent_low_income):Q', title='Avg. % Low Income', format='.2f')\n",
    "    ]\n",
    ").properties(title= 'Mean diabetes prevalence by income quintile', height=400, width=500)\n",
    "\n",
    "q_diabetes_income_chart"
   ]
  },
  {
   "cell_type": "code",
   "execution_count": 47,
   "id": "749dcb45",
   "metadata": {
    "slideshow": {
     "slide_type": "skip"
    }
   },
   "outputs": [
    {
     "data": {
      "text/html": [
       "<div>\n",
       "<style scoped>\n",
       "    .dataframe tbody tr th:only-of-type {\n",
       "        vertical-align: middle;\n",
       "    }\n",
       "\n",
       "    .dataframe tbody tr th {\n",
       "        vertical-align: top;\n",
       "    }\n",
       "\n",
       "    .dataframe thead th {\n",
       "        text-align: right;\n",
       "    }\n",
       "</style>\n",
       "<table border=\"1\" class=\"dataframe\">\n",
       "  <thead>\n",
       "    <tr style=\"text-align: right;\">\n",
       "      <th></th>\n",
       "      <th>income_quintile</th>\n",
       "      <th>total_diabetes_prevalence</th>\n",
       "    </tr>\n",
       "  </thead>\n",
       "  <tbody>\n",
       "    <tr>\n",
       "      <th>0</th>\n",
       "      <td>First quintile</td>\n",
       "      <td>9.771875</td>\n",
       "    </tr>\n",
       "    <tr>\n",
       "      <th>1</th>\n",
       "      <td>Second quintile</td>\n",
       "      <td>13.125806</td>\n",
       "    </tr>\n",
       "    <tr>\n",
       "      <th>2</th>\n",
       "      <td>Third quintile</td>\n",
       "      <td>12.63125</td>\n",
       "    </tr>\n",
       "    <tr>\n",
       "      <th>3</th>\n",
       "      <td>Fourth quintile</td>\n",
       "      <td>12.662069</td>\n",
       "    </tr>\n",
       "    <tr>\n",
       "      <th>4</th>\n",
       "      <td>Fifth quintile</td>\n",
       "      <td>11.758824</td>\n",
       "    </tr>\n",
       "  </tbody>\n",
       "</table>\n",
       "</div>"
      ],
      "text/plain": [
       "   income_quintile total_diabetes_prevalence\n",
       "0   First quintile                  9.771875\n",
       "1  Second quintile                 13.125806\n",
       "2   Third quintile                  12.63125\n",
       "3  Fourth quintile                 12.662069\n",
       "4   Fifth quintile                 11.758824"
      ]
     },
     "execution_count": 47,
     "metadata": {},
     "output_type": "execute_result"
    }
   ],
   "source": [
    "mean_incidence = diabetes_income.groupby(by='income_quintile')['total_diabetes_prevalence'].mean()\n",
    "mean_incidence = pd.DataFrame(mean_incidence).reset_index()\n",
    "\n",
    "category_order = ['First quintile', 'Second quintile', 'Third quintile', 'Fourth quintile', 'Fifth quintile']\n",
    "\n",
    "mean_incidence['income_quintile'] = pd.Categorical(\n",
    "    mean_incidence['income_quintile'], \n",
    "    categories=category_order, \n",
    "    ordered=True\n",
    ")\n",
    "\n",
    "mean_incidence = mean_incidence.sort_values('income_quintile').reset_index(drop=True)\n",
    "mean_incidence"
   ]
  },
  {
   "cell_type": "code",
   "execution_count": 48,
   "id": "69269846",
   "metadata": {
    "slideshow": {
     "slide_type": "skip"
    }
   },
   "outputs": [],
   "source": [
    "q1 = diabetes_income['income_quintile'] == 'First quintile' #lowest neighbourhood SES\n",
    "q2 = diabetes_income['income_quintile'] == 'Second quintile'\n",
    "q3 = diabetes_income['income_quintile'] == 'Third quintile'\n",
    "q4 = diabetes_income['income_quintile'] == 'Fourth quintile'\n",
    "q5 = diabetes_income['income_quintile'] == 'Fifth quintile' #highest neighbourhood SES\n",
    "\n",
    "def bs_q5_q4():\n",
    "    bssample = diabetes_income.sample(frac = 1, replace=True)\n",
    "    \n",
    "    bs_mean_diff = (bssample.loc[q5, 'total_diabetes_prevalence'].mean() - \n",
    "                   bssample.loc[q4, 'total_diabetes_prevalence'].mean())\n",
    "    return bs_mean_diff\n",
    "\n",
    "def bs_q4_q3():\n",
    "    bssample = diabetes_income.sample(frac = 1, replace=True)\n",
    "    \n",
    "    bs_mean_diff = (bssample.loc[q4, 'total_diabetes_prevalence'].mean() - \n",
    "                   bssample.loc[q3, 'total_diabetes_prevalence'].mean())\n",
    "    return bs_mean_diff\n",
    "\n",
    "def bs_q3_q2():\n",
    "    bssample = diabetes_income.sample(frac = 1, replace=True)\n",
    "    \n",
    "    bs_mean_diff = (bssample.loc[q3, 'total_diabetes_prevalence'].mean() - \n",
    "                   bssample.loc[q2, 'total_diabetes_prevalence'].mean())\n",
    "    return bs_mean_diff\n",
    "\n",
    "def bs_q2_q1():\n",
    "    bssample = diabetes_income.sample(frac = 1, replace=True)\n",
    "    \n",
    "    bs_mean_diff = (bssample.loc[q2, 'total_diabetes_prevalence'].mean() - \n",
    "                   bssample.loc[q1, 'total_diabetes_prevalence'].mean())\n",
    "    return bs_mean_diff\n",
    "\n",
    "def bs_q5_q1():\n",
    "    bssample = diabetes_income.sample(frac = 1, replace=True)\n",
    "    \n",
    "    bs_mean_diff = (bssample.loc[q5, 'total_diabetes_prevalence'].mean() - \n",
    "                   bssample.loc[q1, 'total_diabetes_prevalence'].mean())\n",
    "    return bs_mean_diff\n",
    "\n",
    "def bs_q4_q2():\n",
    "    bssample = diabetes_income.sample(frac = 1, replace=True)\n",
    "    \n",
    "    bs_mean_diff = (bssample.loc[q4, 'total_diabetes_prevalence'].mean() - \n",
    "                   bssample.loc[q2, 'total_diabetes_prevalence'].mean())\n",
    "    return bs_mean_diff\n",
    "\n",
    "def bs_q4_q1():\n",
    "    bssample = diabetes_income.sample(frac = 1, replace=True)\n",
    "    \n",
    "    bs_mean_diff = (bssample.loc[q4, 'total_diabetes_prevalence'].mean() - \n",
    "                   bssample.loc[q1, 'total_diabetes_prevalence'].mean())\n",
    "    return bs_mean_diff\n",
    "\n",
    "def bs_q3_q1():\n",
    "    bssample = diabetes_income.sample(frac = 1, replace=True)\n",
    "    \n",
    "    bs_mean_diff = (bssample.loc[q3, 'total_diabetes_prevalence'].mean() - \n",
    "                   bssample.loc[q1, 'total_diabetes_prevalence'].mean())\n",
    "    return bs_mean_diff"
   ]
  },
  {
   "cell_type": "code",
   "execution_count": 49,
   "id": "aecc979d",
   "metadata": {
    "slideshow": {
     "slide_type": "skip"
    }
   },
   "outputs": [],
   "source": [
    "boots_q5_q4 = []\n",
    "\n",
    "for _ in range(5000):\n",
    "    boots_q5_q4.append(bs_q5_q4())\n",
    "    \n",
    "boots_q4_q3 = []\n",
    "\n",
    "for _ in range(5000):\n",
    "    boots_q4_q3.append(bs_q4_q3())\n",
    "\n",
    "boots_q3_q2 = []\n",
    "\n",
    "for _ in range(5000):\n",
    "    boots_q3_q2.append(bs_q3_q2())\n",
    "\n",
    "boots_q2_q1 = []\n",
    "\n",
    "for _ in range(5000):\n",
    "    boots_q2_q1.append(bs_q2_q1())\n",
    "\n",
    "boots_q5_q1 = []\n",
    "\n",
    "for _ in range(5000):\n",
    "    boots_q5_q1.append(bs_q5_q1())\n",
    "    \n",
    "boots_q4_q2 = []\n",
    "\n",
    "for _ in range(5000):\n",
    "    boots_q4_q2.append(bs_q4_q2())\n",
    "\n",
    "boots_q4_q1 = []\n",
    "\n",
    "for _ in range(5000):\n",
    "    boots_q4_q1.append(bs_q4_q1())\n",
    "    \n",
    "boots_q3_q1 = []\n",
    "\n",
    "for _ in range(5000):\n",
    "    boots_q3_q1.append(bs_q3_q1())"
   ]
  },
  {
   "cell_type": "code",
   "execution_count": 50,
   "id": "cffa7184",
   "metadata": {
    "slideshow": {
     "slide_type": "skip"
    }
   },
   "outputs": [],
   "source": [
    "ci_q5_q4 = np.percentile(boots_q5_q4, 2.5), np.percentile(boots_q5_q4, 97.5) "
   ]
  },
  {
   "cell_type": "code",
   "execution_count": 51,
   "id": "629ca83e",
   "metadata": {
    "slideshow": {
     "slide_type": "skip"
    }
   },
   "outputs": [],
   "source": [
    "ci_q4_q3 = np.percentile(boots_q4_q3, 2.5), np.percentile(boots_q4_q3, 97.5) "
   ]
  },
  {
   "cell_type": "code",
   "execution_count": 52,
   "id": "53ae4480",
   "metadata": {
    "slideshow": {
     "slide_type": "skip"
    }
   },
   "outputs": [],
   "source": [
    "ci_q3_q2 = np.percentile(boots_q3_q2, 2.5), np.percentile(boots_q3_q2, 97.5) "
   ]
  },
  {
   "cell_type": "code",
   "execution_count": 53,
   "id": "75fd811b",
   "metadata": {
    "slideshow": {
     "slide_type": "skip"
    }
   },
   "outputs": [],
   "source": [
    "ci_q2_q1 = np.percentile(boots_q2_q1, 2.5), np.percentile(boots_q2_q1, 97.5) "
   ]
  },
  {
   "cell_type": "code",
   "execution_count": 54,
   "id": "53006d95",
   "metadata": {
    "slideshow": {
     "slide_type": "skip"
    }
   },
   "outputs": [],
   "source": [
    "ci_q5_q1 = np.percentile(boots_q5_q1, 2.5), np.percentile(boots_q5_q1, 97.5) "
   ]
  },
  {
   "cell_type": "code",
   "execution_count": 55,
   "id": "b55345bb",
   "metadata": {
    "slideshow": {
     "slide_type": "skip"
    }
   },
   "outputs": [],
   "source": [
    "ci_q4_q2 = np.percentile(boots_q4_q2, 2.5), np.percentile(boots_q4_q2, 97.5) "
   ]
  },
  {
   "cell_type": "code",
   "execution_count": 56,
   "id": "62888eb5",
   "metadata": {
    "slideshow": {
     "slide_type": "skip"
    }
   },
   "outputs": [],
   "source": [
    "ci_q4_q1 = np.percentile(boots_q4_q1, 2.5), np.percentile(boots_q4_q1, 97.5) "
   ]
  },
  {
   "cell_type": "code",
   "execution_count": 57,
   "id": "b551bfc1",
   "metadata": {
    "slideshow": {
     "slide_type": "skip"
    }
   },
   "outputs": [],
   "source": [
    "ci_q3_q1 = np.percentile(boots_q3_q1, 2.5), np.percentile(boots_q3_q1, 97.5) "
   ]
  },
  {
   "cell_type": "code",
   "execution_count": 58,
   "id": "4333ba1d",
   "metadata": {
    "slideshow": {
     "slide_type": "slide"
    }
   },
   "outputs": [
    {
     "name": "stdout",
     "output_type": "stream",
     "text": [
      "95% CI: (-2.965961374832067, 1.2583758672699874)\n"
     ]
    },
    {
     "data": {
      "image/png": "[encoded data removed]",
      "text/plain": [
       "<Figure size 640x480 with 1 Axes>"
      ]
     },
     "metadata": {},
     "output_type": "display_data"
    }
   ],
   "source": [
    "import matplotlib.pyplot as plt \n",
    "\n",
    "print(f\"95% CI: {ci_q5_q4}\")\n",
    "\n",
    "plt.hist(boots_q5_q4, color = 'grey', edgecolor = 'black')\n",
    "plt.title('Distribution of bootstrapped mean difference in diabetes prevalence among quintile 5 and 4');"
   ]
  },
  {
   "cell_type": "code",
   "execution_count": 59,
   "id": "91188429",
   "metadata": {
    "slideshow": {
     "slide_type": "skip"
    }
   },
   "outputs": [
    {
     "name": "stdout",
     "output_type": "stream",
     "text": [
      "95% CI: (-2.054814516129036, 2.061820471001502)\n"
     ]
    },
    {
     "data": {
      "image/png": "[encoded data removed]",
      "text/plain": [
       "<Figure size 640x480 with 1 Axes>"
      ]
     },
     "metadata": {},
     "output_type": "display_data"
    }
   ],
   "source": [
    "print(f\"95% CI: {ci_q4_q3}\")\n",
    "\n",
    "plt.hist(boots_q4_q3, color = 'grey', edgecolor = 'black')\n",
    "plt.title('Distribution of bootstrapped mean difference in diabetes prevalence among quintile 4 and 3');"
   ]
  },
  {
   "cell_type": "code",
   "execution_count": 60,
   "id": "5ef71ba3",
   "metadata": {
    "slideshow": {
     "slide_type": "skip"
    }
   },
   "outputs": [
    {
     "name": "stdout",
     "output_type": "stream",
     "text": [
      "95% CI: (-2.5869006641366235, 1.628862978237977)\n"
     ]
    },
    {
     "data": {
      "image/png": "[encoded data removed]",
      "text/plain": [
       "<Figure size 640x480 with 1 Axes>"
      ]
     },
     "metadata": {},
     "output_type": "display_data"
    }
   ],
   "source": [
    "print(f\"95% CI: {ci_q3_q2}\")\n",
    "\n",
    "plt.hist(boots_q3_q2, color = 'grey', edgecolor = 'black')\n",
    "plt.title('Distribution of bootstrapped mean difference in diabetes prevalence among quintile 3 and 2');"
   ]
  },
  {
   "cell_type": "code",
   "execution_count": 61,
   "id": "b7a53ec7",
   "metadata": {
    "slideshow": {
     "slide_type": "skip"
    }
   },
   "outputs": [
    {
     "name": "stdout",
     "output_type": "stream",
     "text": [
      "95% CI: (1.199966931216934, 5.418997085320616)\n"
     ]
    },
    {
     "data": {
      "image/png": "[encoded data removed]",
      "text/plain": [
       "<Figure size 640x480 with 1 Axes>"
      ]
     },
     "metadata": {},
     "output_type": "display_data"
    }
   ],
   "source": [
    "print(f\"95% CI: {ci_q2_q1}\")\n",
    "\n",
    "plt.hist(boots_q2_q1, color = 'grey', edgecolor = 'black')\n",
    "plt.title('Distribution of bootstrapped mean difference in diabetes prevalence among quintile 2 and 1');"
   ]
  },
  {
   "cell_type": "code",
   "execution_count": 62,
   "id": "35c0dd9c",
   "metadata": {
    "slideshow": {
     "slide_type": "skip"
    }
   },
   "outputs": [
    {
     "name": "stdout",
     "output_type": "stream",
     "text": [
      "95% CI: (-0.20181318082788788, 4.200391079508727)\n"
     ]
    },
    {
     "data": {
      "image/png": "[encoded data removed]",
      "text/plain": [
       "<Figure size 640x480 with 1 Axes>"
      ]
     },
     "metadata": {},
     "output_type": "display_data"
    }
   ],
   "source": [
    "print(f\"95% CI: {ci_q5_q1}\")\n",
    "\n",
    "plt.hist(boots_q5_q1, color = 'grey', edgecolor = 'black')\n",
    "plt.title('Distribution of bootstrapped mean difference in diabetes prevalence among quintile 5 and 1');"
   ]
  },
  {
   "cell_type": "code",
   "execution_count": 63,
   "id": "f37d5c1c",
   "metadata": {
    "slideshow": {
     "slide_type": "skip"
    }
   },
   "outputs": [
    {
     "name": "stdout",
     "output_type": "stream",
     "text": [
      "95% CI: (0.8433674242424222, 4.933237730737731)\n"
     ]
    },
    {
     "data": {
      "image/png": "[encoded data removed]",
      "text/plain": [
       "<Figure size 640x480 with 1 Axes>"
      ]
     },
     "metadata": {},
     "output_type": "display_data"
    }
   ],
   "source": [
    "print(f\"95% CI: {ci_q4_q1}\")\n",
    "\n",
    "plt.hist(boots_q4_q1, color = 'grey', edgecolor = 'black')\n",
    "plt.title('Distribution of bootstrapped mean difference in diabetes prevalence among quintile 4 and 1');"
   ]
  },
  {
   "cell_type": "code",
   "execution_count": 64,
   "id": "f8a3583d",
   "metadata": {
    "slideshow": {
     "slide_type": "skip"
    }
   },
   "outputs": [
    {
     "name": "stdout",
     "output_type": "stream",
     "text": [
      "95% CI: (-2.5091205061366413, 1.6382242465951833)\n"
     ]
    },
    {
     "data": {
      "image/png": "[encoded data removed]",
      "text/plain": [
       "<Figure size 640x480 with 1 Axes>"
      ]
     },
     "metadata": {},
     "output_type": "display_data"
    }
   ],
   "source": [
    "print(f\"95% CI: {ci_q4_q2}\")\n",
    "\n",
    "plt.hist(boots_q4_q2, color = 'grey', edgecolor = 'black')\n",
    "plt.title('Distribution of bootstrapped mean difference in diabetes prevalence among quintile 4 and 2');"
   ]
  },
  {
   "cell_type": "code",
   "execution_count": 65,
   "id": "02443f66",
   "metadata": {
    "slideshow": {
     "slide_type": "skip"
    }
   },
   "outputs": [
    {
     "name": "stdout",
     "output_type": "stream",
     "text": [
      "95% CI: (0.7682473832528259, 4.939592513342516)\n"
     ]
    },
    {
     "data": {
      "image/png": "[encoded data removed]",
      "text/plain": [
       "<Figure size 640x480 with 1 Axes>"
      ]
     },
     "metadata": {},
     "output_type": "display_data"
    }
   ],
   "source": [
    "print(f\"95% CI: {ci_q3_q1}\")\n",
    "\n",
    "plt.hist(boots_q3_q1, color = 'grey', edgecolor = 'black')\n",
    "plt.title('Distribution of bootstrapped mean difference in diabetes prevalence among quintile 3 and 1');"
   ]
  },
  {
   "cell_type": "markdown",
   "id": "07d12558",
   "metadata": {
    "slideshow": {
     "slide_type": "slide"
    }
   },
   "source": [
    "## Results\n",
    "- Non-significant comparisons: \n",
    "<br>quintile 5 - quintile 4: 95% CI: (-2.93, 1.19)\n",
    "<br>quintile 4 - quintile 3: 95% CI: (-1.96, 1.96)\n",
    "<br>quintile 3 - quintile 2: 95% CI: (-2.61, 1.62)\n",
    "<br>quintile 5 - quintile 1: 95% CI: (-0.21, 4.16)\n",
    "<br>quintile 4 - quintile 2: 95% CI: (-2.56, 1.66)\n",
    "<br>\n",
    "- Positive significance: \n",
    "<br>quintile 4 - quintile 1: 95% CI: (0.80, 4.98)\n",
    "<br>quintile 3 - quintile 1: 95% CI: (0.78, 4.98)\n",
    "<br>quintile 2 - quintile 1: 95% CI: (1.20, 5.45)"
   ]
  },
  {
   "cell_type": "markdown",
   "id": "08a66fc7",
   "metadata": {
    "slideshow": {
     "slide_type": "slide"
    }
   },
   "source": [
    "## Conclusion\n",
    "\n",
    "- Theoretically, we expected distributions to fall left of zero. Higher quintile -> smaller percent low income adults -> lower diabetes prevalence. \n",
    "> Interestingly, we saw POSTIVE bootstrapped mean differences, meaning lower quintiles had lower diabetes prevalence. Quintile 4 - 1; Quintile 3 -1; Quintile 2 - 1\n",
    "- No other significant trend "
   ]
  },
  {
   "cell_type": "code",
   "execution_count": 66,
   "id": "177e0188",
   "metadata": {
    "slideshow": {
     "slide_type": "slide"
    }
   },
   "outputs": [
    {
     "data": {
      "text/html": [
       "\n",
       "<style>\n",
       "  #altair-viz-a5ab4a5df2044134adf36a20893e14f0.vega-embed {\n",
       "    width: 100%;\n",
       "    display: flex;\n",
       "  }\n",
       "\n",
       "  #altair-viz-a5ab4a5df2044134adf36a20893e14f0.vega-embed details,\n",
       "  #altair-viz-a5ab4a5df2044134adf36a20893e14f0.vega-embed details summary {\n",
       "    position: relative;\n",
       "  }\n",
       "</style>\n",
       "<div id=\"altair-viz-a5ab4a5df2044134adf36a20893e14f0\"></div>\n",
       "<script type=\"text/javascript\">\n",
       "  var VEGA_DEBUG = (typeof VEGA_DEBUG == \"undefined\") ? {} : VEGA_DEBUG;\n",
       "  (function(spec, embedOpt){\n",
       "    let outputDiv = document.currentScript.previousElementSibling;\n",
       "    if (outputDiv.id !== \"altair-viz-a5ab4a5df2044134adf36a20893e14f0\") {\n",
       "      outputDiv = document.getElementById(\"altair-viz-a5ab4a5df2044134adf36a20893e14f0\");\n",
       "    }\n",
       "    const paths = {\n",
       "      \"vega\": \"https://cdn.jsdelivr.net/npm/vega@5?noext\",\n",
       "      \"vega-lib\": \"https://cdn.jsdelivr.net/npm/vega-lib?noext\",\n",
       "      \"vega-lite\": \"https://cdn.jsdelivr.net/npm/vega-lite@5.16.3?noext\",\n",
       "      \"vega-embed\": \"https://cdn.jsdelivr.net/npm/vega-embed@6?noext\",\n",
       "    };\n",
       "\n",
       "    function maybeLoadScript(lib, version) {\n",
       "      var key = `${lib.replace(\"-\", \"\")}_version`;\n",
       "      return (VEGA_DEBUG[key] == version) ?\n",
       "        Promise.resolve(paths[lib]) :\n",
       "        new Promise(function(resolve, reject) {\n",
       "          var s = document.createElement('script');\n",
       "          document.getElementsByTagName(\"head\")[0].appendChild(s);\n",
       "          s.async = true;\n",
       "          s.onload = () => {\n",
       "            VEGA_DEBUG[key] = version;\n",
       "            return resolve(paths[lib]);\n",
       "          };\n",
       "          s.onerror = () => reject(`Error loading script: ${paths[lib]}`);\n",
       "          s.src = paths[lib];\n",
       "        });\n",
       "    }\n",
       "\n",
       "    function showError(err) {\n",
       "      outputDiv.innerHTML = `<div class=\"error\" style=\"color:red;\">${err}</div>`;\n",
       "      throw err;\n",
       "    }\n",
       "\n",
       "    function displayChart(vegaEmbed) {\n",
       "      vegaEmbed(outputDiv, spec, embedOpt)\n",
       "        .catch(err => showError(`Javascript Error: ${err.message}<br>This usually means there's a typo in your chart specification. See the javascript console for the full traceback.`));\n",
       "    }\n",
       "\n",
       "    if(typeof define === \"function\" && define.amd) {\n",
       "      requirejs.config({paths});\n",
       "      require([\"vega-embed\"], displayChart, err => showError(`Error loading script: ${err.message}`));\n",
       "    } else {\n",
       "      maybeLoadScript(\"vega\", \"5\")\n",
       "        .then(() => maybeLoadScript(\"vega-lite\", \"5.16.3\"))\n",
       "        .then(() => maybeLoadScript(\"vega-embed\", \"6\"))\n",
       "        .catch(showError)\n",
       "        .then(() => displayChart(vegaEmbed));\n",
       "    }\n",
       "  })({\"config\": {\"view\": {\"continuousWidth\": 300, \"continuousHeight\": 300}}, \"data\": {\"name\": \"data-f0be5d334ca077a34789f160c8ea7ab6\"}, \"mark\": {\"type\": \"bar\"}, \"encoding\": {\"tooltip\": [{\"aggregate\": \"mean\", \"field\": \"total_diabetes_prevalence\", \"format\": \".2f\", \"title\": \"Mean diabetes prevalence\", \"type\": \"quantitative\"}, {\"aggregate\": \"mean\", \"field\": \"adult_percent_low_income\", \"format\": \".2f\", \"title\": \"Avg. % Low Income\", \"type\": \"quantitative\"}], \"x\": {\"field\": \"income_quintile\", \"sort\": [\"First quintile\", \"Second quintile\", \"Third quintile\", \"Fourth quintile\", \"Fifth quintile\"], \"title\": \"Income quintile\", \"type\": \"ordinal\"}, \"y\": {\"aggregate\": \"mean\", \"field\": \"total_diabetes_prevalence\", \"title\": \"Mean rate of diabetes\", \"type\": \"quantitative\"}}, \"height\": 400, \"title\": \"Mean diabetes prevalence by income quintile\", \"width\": 500, \"$schema\": \"https://vega.github.io/schema/vega-lite/v5.16.3.json\", \"datasets\": {\"data-f0be5d334ca077a34789f160c8ea7ab6\": [{\"neighbourhood_ID\": 1.0, \"neighbourhood_name\": \"West Humber-Clairville\", \"adult_population\": 22305, \"adult_low_income\": 1720, \"adult_percent_low_income\": 5.2, \"income_quintile\": \"Fifth quintile\", \"total_diabetes_count\": 5365, \"total_neighb_pop\": 31085, \"total_diabetes_prevalence\": 17.3}, {\"neighbourhood_ID\": 2.0, \"neighbourhood_name\": \"Mount Olive-Silverstone-Jamestown\", \"adult_population\": 19995, \"adult_low_income\": 2560, \"adult_percent_low_income\": 8.2, \"income_quintile\": \"Second quintile\", \"total_diabetes_count\": 4732, \"total_neighb_pop\": 26164, \"total_diabetes_prevalence\": 18.1}, {\"neighbourhood_ID\": 3.0, \"neighbourhood_name\": \"Thistletown-Beaumond Heights\", \"adult_population\": 6280, \"adult_low_income\": 635, \"adult_percent_low_income\": 6.4, \"income_quintile\": \"Fourth quintile\", \"total_diabetes_count\": 1546, \"total_neighb_pop\": 9095, \"total_diabetes_prevalence\": 17.0}, {\"neighbourhood_ID\": 4.0, \"neighbourhood_name\": \"Rexdale-Kipling\", \"adult_population\": 6630, \"adult_low_income\": 705, \"adult_percent_low_income\": 6.8, \"income_quintile\": \"Third quintile\", \"total_diabetes_count\": 1504, \"total_neighb_pop\": 9290, \"total_diabetes_prevalence\": 16.2}, {\"neighbourhood_ID\": 5.0, \"neighbourhood_name\": \"Elms-Old Rexdale\", \"adult_population\": 5980, \"adult_low_income\": 595, \"adult_percent_low_income\": 6.4, \"income_quintile\": \"Fourth quintile\", \"total_diabetes_count\": 1298, \"total_neighb_pop\": 7897, \"total_diabetes_prevalence\": 16.4}, {\"neighbourhood_ID\": 6.0, \"neighbourhood_name\": \"Kingsview Village-The Westway\", \"adult_population\": 13620, \"adult_low_income\": 1650, \"adult_percent_low_income\": 7.5, \"income_quintile\": \"Second quintile\", \"total_diabetes_count\": 3013, \"total_neighb_pop\": 19798, \"total_diabetes_prevalence\": 15.2}, {\"neighbourhood_ID\": 7.0, \"neighbourhood_name\": \"Willowridge-Martingrove-Richview\", \"adult_population\": 12985, \"adult_low_income\": 970, \"adult_percent_low_income\": 4.4, \"income_quintile\": \"Fifth quintile\", \"total_diabetes_count\": 2812, \"total_neighb_pop\": 19043, \"total_diabetes_prevalence\": 14.8}, {\"neighbourhood_ID\": 8.0, \"neighbourhood_name\": \"Humber Heights-Westmount\", \"adult_population\": 5915, \"adult_low_income\": 500, \"adult_percent_low_income\": 5.0, \"income_quintile\": \"Fifth quintile\", \"total_diabetes_count\": 1289, \"total_neighb_pop\": 9172, \"total_diabetes_prevalence\": 14.1}, {\"neighbourhood_ID\": 9.0, \"neighbourhood_name\": \"Edenbridge-Humber Valley\", \"adult_population\": 9135, \"adult_low_income\": 675, \"adult_percent_low_income\": 4.4, \"income_quintile\": \"Fifth quintile\", \"total_diabetes_count\": 1539, \"total_neighb_pop\": 13821, \"total_diabetes_prevalence\": 11.1}, {\"neighbourhood_ID\": 10.0, \"neighbourhood_name\": \"Princess-Rosethorn\", \"adult_population\": 6665, \"adult_low_income\": 305, \"adult_percent_low_income\": 2.7, \"income_quintile\": \"Fifth quintile\", \"total_diabetes_count\": 875, \"total_neighb_pop\": 9684, \"total_diabetes_prevalence\": 9.0}, {\"neighbourhood_ID\": 11.0, \"neighbourhood_name\": \"Eringate-Centennial-West Deane\", \"adult_population\": 11240, \"adult_low_income\": 615, \"adult_percent_low_income\": 3.3, \"income_quintile\": \"Fifth quintile\", \"total_diabetes_count\": 2106, \"total_neighb_pop\": 16489, \"total_diabetes_prevalence\": 12.8}, {\"neighbourhood_ID\": 12.0, \"neighbourhood_name\": \"Markland Wood\", \"adult_population\": 5950, \"adult_low_income\": 305, \"adult_percent_low_income\": 2.9, \"income_quintile\": \"Fifth quintile\", \"total_diabetes_count\": 1042, \"total_neighb_pop\": 9271, \"total_diabetes_prevalence\": 11.2}, {\"neighbourhood_ID\": 13.0, \"neighbourhood_name\": \"Etobicoke West Mall\", \"adult_population\": 7800, \"adult_low_income\": 730, \"adult_percent_low_income\": 6.2, \"income_quintile\": \"Fourth quintile\", \"total_diabetes_count\": 1387, \"total_neighb_pop\": 10354, \"total_diabetes_prevalence\": 13.4}, {\"neighbourhood_ID\": 15.0, \"neighbourhood_name\": \"Kingsway South\", \"adult_population\": 4995, \"adult_low_income\": 240, \"adult_percent_low_income\": 2.7, \"income_quintile\": \"Fifth quintile\", \"total_diabetes_count\": 547, \"total_neighb_pop\": 8009, \"total_diabetes_prevalence\": 6.8}, {\"neighbourhood_ID\": 16.0, \"neighbourhood_name\": \"Stonegate-Queensway\", \"adult_population\": 16045, \"adult_low_income\": 1325, \"adult_percent_low_income\": 5.2, \"income_quintile\": \"Fifth quintile\", \"total_diabetes_count\": 1838, \"total_neighb_pop\": 21683, \"total_diabetes_prevalence\": 8.5}, {\"neighbourhood_ID\": 18.0, \"neighbourhood_name\": \"New Toronto\", \"adult_population\": 7625, \"adult_low_income\": 1015, \"adult_percent_low_income\": 9.0, \"income_quintile\": \"Second quintile\", \"total_diabetes_count\": 1107, \"total_neighb_pop\": 10473, \"total_diabetes_prevalence\": 10.6}, {\"neighbourhood_ID\": 19.0, \"neighbourhood_name\": \"Long Branch\", \"adult_population\": 7860, \"adult_low_income\": 800, \"adult_percent_low_income\": 7.0, \"income_quintile\": \"Third quintile\", \"total_diabetes_count\": 919, \"total_neighb_pop\": 9621, \"total_diabetes_prevalence\": 9.6}, {\"neighbourhood_ID\": 20.0, \"neighbourhood_name\": \"Alderwood\", \"adult_population\": 7970, \"adult_low_income\": 445, \"adult_percent_low_income\": 3.5, \"income_quintile\": \"Fifth quintile\", \"total_diabetes_count\": 1295, \"total_neighb_pop\": 10977, \"total_diabetes_prevalence\": 11.8}, {\"neighbourhood_ID\": 21.0, \"neighbourhood_name\": \"Humber Summit\", \"adult_population\": 7335, \"adult_low_income\": 735, \"adult_percent_low_income\": 6.1, \"income_quintile\": \"Fourth quintile\", \"total_diabetes_count\": 1942, \"total_neighb_pop\": 10146, \"total_diabetes_prevalence\": 19.1}, {\"neighbourhood_ID\": 22.0, \"neighbourhood_name\": \"Humbermede\", \"adult_population\": 10930, \"adult_low_income\": 1195, \"adult_percent_low_income\": 7.1, \"income_quintile\": \"Third quintile\", \"total_diabetes_count\": 2239, \"total_neighb_pop\": 13557, \"total_diabetes_prevalence\": 16.5}, {\"neighbourhood_ID\": 23.0, \"neighbourhood_name\": \"Pelmo Park-Humberlea\", \"adult_population\": 7420, \"adult_low_income\": 460, \"adult_percent_low_income\": 4.1, \"income_quintile\": \"Fifth quintile\", \"total_diabetes_count\": 1388, \"total_neighb_pop\": 9692, \"total_diabetes_prevalence\": 14.3}, {\"neighbourhood_ID\": 24.0, \"neighbourhood_name\": \"Black Creek\", \"adult_population\": 13290, \"adult_low_income\": 2090, \"adult_percent_low_income\": 9.9, \"income_quintile\": \"First quintile\", \"total_diabetes_count\": 3150, \"total_neighb_pop\": 17335, \"total_diabetes_prevalence\": 18.2}, {\"neighbourhood_ID\": 25.0, \"neighbourhood_name\": \"Glenfield-Jane Heights\", \"adult_population\": 18715, \"adult_low_income\": 2165, \"adult_percent_low_income\": 7.2, \"income_quintile\": \"Third quintile\", \"total_diabetes_count\": 4392, \"total_neighb_pop\": 24216, \"total_diabetes_prevalence\": 18.1}, {\"neighbourhood_ID\": 27.0, \"neighbourhood_name\": \"York University Heights\", \"adult_population\": 19855, \"adult_low_income\": 2515, \"adult_percent_low_income\": 8.9, \"income_quintile\": \"Second quintile\", \"total_diabetes_count\": 3523, \"total_neighb_pop\": 25571, \"total_diabetes_prevalence\": 13.8}, {\"neighbourhood_ID\": 28.0, \"neighbourhood_name\": \"Rustic\", \"adult_population\": 5685, \"adult_low_income\": 875, \"adult_percent_low_income\": 9.3, \"income_quintile\": \"Second quintile\", \"total_diabetes_count\": 967, \"total_neighb_pop\": 5530, \"total_diabetes_prevalence\": 17.5}, {\"neighbourhood_ID\": 29.0, \"neighbourhood_name\": \"Maple Leaf\", \"adult_population\": 6155, \"adult_low_income\": 475, \"adult_percent_low_income\": 4.9, \"income_quintile\": \"Fifth quintile\", \"total_diabetes_count\": 1916, \"total_neighb_pop\": 11250, \"total_diabetes_prevalence\": 17.0}, {\"neighbourhood_ID\": 30.0, \"neighbourhood_name\": \"Brookhaven-Amesbury\", \"adult_population\": 11310, \"adult_low_income\": 1320, \"adult_percent_low_income\": 7.6, \"income_quintile\": \"Second quintile\", \"total_diabetes_count\": 2132, \"total_neighb_pop\": 13530, \"total_diabetes_prevalence\": 15.8}, {\"neighbourhood_ID\": 31.0, \"neighbourhood_name\": \"Yorkdale-Glen Park\", \"adult_population\": 11100, \"adult_low_income\": 1190, \"adult_percent_low_income\": 7.2, \"income_quintile\": \"Third quintile\", \"total_diabetes_count\": 2176, \"total_neighb_pop\": 14288, \"total_diabetes_prevalence\": 15.2}, {\"neighbourhood_ID\": 32.0, \"neighbourhood_name\": \"Englemount-Lawrence\", \"adult_population\": 12315, \"adult_low_income\": 1310, \"adult_percent_low_income\": 6.2, \"income_quintile\": \"Fourth quintile\", \"total_diabetes_count\": 2389, \"total_neighb_pop\": 18775, \"total_diabetes_prevalence\": 12.7}, {\"neighbourhood_ID\": 33.0, \"neighbourhood_name\": \"Clanton Park\", \"adult_population\": 11680, \"adult_low_income\": 1145, \"adult_percent_low_income\": 6.5, \"income_quintile\": \"Fourth quintile\", \"total_diabetes_count\": 1188, \"total_neighb_pop\": 11611, \"total_diabetes_prevalence\": 10.2}, {\"neighbourhood_ID\": 34.0, \"neighbourhood_name\": \"Bathurst Manor\", \"adult_population\": 10320, \"adult_low_income\": 950, \"adult_percent_low_income\": 6.0, \"income_quintile\": \"Fourth quintile\", \"total_diabetes_count\": 2473, \"total_neighb_pop\": 19230, \"total_diabetes_prevalence\": 12.9}, {\"neighbourhood_ID\": 35.0, \"neighbourhood_name\": \"Westminster-Branson\", \"adult_population\": 16465, \"adult_low_income\": 1640, \"adult_percent_low_income\": 6.4, \"income_quintile\": \"Fourth quintile\", \"total_diabetes_count\": 3389, \"total_neighb_pop\": 24476, \"total_diabetes_prevalence\": 13.8}, {\"neighbourhood_ID\": 36.0, \"neighbourhood_name\": \"Newtonbrook West\", \"adult_population\": 16245, \"adult_low_income\": 2235, \"adult_percent_low_income\": 9.4, \"income_quintile\": \"Second quintile\", \"total_diabetes_count\": 2962, \"total_neighb_pop\": 24720, \"total_diabetes_prevalence\": 12.0}, {\"neighbourhood_ID\": 37.0, \"neighbourhood_name\": \"Willowdale West\", \"adult_population\": 11365, \"adult_low_income\": 1950, \"adult_percent_low_income\": 11.5, \"income_quintile\": \"First quintile\", \"total_diabetes_count\": 1547, \"total_neighb_pop\": 15214, \"total_diabetes_prevalence\": 10.2}, {\"neighbourhood_ID\": 38.0, \"neighbourhood_name\": \"Lansing-Westgate\", \"adult_population\": 10545, \"adult_low_income\": 1300, \"adult_percent_low_income\": 8.3, \"income_quintile\": \"Second quintile\", \"total_diabetes_count\": 1101, \"total_neighb_pop\": 13364, \"total_diabetes_prevalence\": 8.2}, {\"neighbourhood_ID\": 39.0, \"neighbourhood_name\": \"Bedford Park-Nortown\", \"adult_population\": 12775, \"adult_low_income\": 870, \"adult_percent_low_income\": 3.9, \"income_quintile\": \"Fifth quintile\", \"total_diabetes_count\": 1611, \"total_neighb_pop\": 19721, \"total_diabetes_prevalence\": 8.2}, {\"neighbourhood_ID\": 40.0, \"neighbourhood_name\": \"St.Andrew-Windfields\", \"adult_population\": 10130, \"adult_low_income\": 1275, \"adult_percent_low_income\": 7.6, \"income_quintile\": \"Second quintile\", \"total_diabetes_count\": 1442, \"total_neighb_pop\": 15138, \"total_diabetes_prevalence\": 9.5}, {\"neighbourhood_ID\": 41.0, \"neighbourhood_name\": \"Bridle Path-Sunnybrook-York Mills\", \"adult_population\": 5015, \"adult_low_income\": 495, \"adult_percent_low_income\": 5.5, \"income_quintile\": \"Fourth quintile\", \"total_diabetes_count\": 573, \"total_neighb_pop\": 8271, \"total_diabetes_prevalence\": 6.9}, {\"neighbourhood_ID\": 42.0, \"neighbourhood_name\": \"Banbury-Don Mills\", \"adult_population\": 15955, \"adult_low_income\": 1680, \"adult_percent_low_income\": 6.2, \"income_quintile\": \"Fourth quintile\", \"total_diabetes_count\": 3203, \"total_neighb_pop\": 25727, \"total_diabetes_prevalence\": 12.4}, {\"neighbourhood_ID\": 43.0, \"neighbourhood_name\": \"Victoria Village\", \"adult_population\": 10775, \"adult_low_income\": 1540, \"adult_percent_low_income\": 8.9, \"income_quintile\": \"Second quintile\", \"total_diabetes_count\": 2373, \"total_neighb_pop\": 15194, \"total_diabetes_prevalence\": 15.6}, {\"neighbourhood_ID\": 44.0, \"neighbourhood_name\": \"Flemingdon Park\", \"adult_population\": 14290, \"adult_low_income\": 2310, \"adult_percent_low_income\": 10.2, \"income_quintile\": \"First quintile\", \"total_diabetes_count\": 2752, \"total_neighb_pop\": 18415, \"total_diabetes_prevalence\": 14.9}, {\"neighbourhood_ID\": 46.0, \"neighbourhood_name\": \"Pleasant View\", \"adult_population\": 9585, \"adult_low_income\": 835, \"adult_percent_low_income\": 5.5, \"income_quintile\": \"Fourth quintile\", \"total_diabetes_count\": 1992, \"total_neighb_pop\": 15007, \"total_diabetes_prevalence\": 13.3}, {\"neighbourhood_ID\": 47.0, \"neighbourhood_name\": \"Don Valley Village\", \"adult_population\": 17070, \"adult_low_income\": 2090, \"adult_percent_low_income\": 7.9, \"income_quintile\": \"Second quintile\", \"total_diabetes_count\": 2662, \"total_neighb_pop\": 21502, \"total_diabetes_prevalence\": 12.4}, {\"neighbourhood_ID\": 48.0, \"neighbourhood_name\": \"Hillcrest Village\", \"adult_population\": 9210, \"adult_low_income\": 1075, \"adult_percent_low_income\": 6.6, \"income_quintile\": \"Third quintile\", \"total_diabetes_count\": 2312, \"total_neighb_pop\": 15376, \"total_diabetes_prevalence\": 15.0}, {\"neighbourhood_ID\": 49.0, \"neighbourhood_name\": \"Bayview Woods-Steeles\", \"adult_population\": 6990, \"adult_low_income\": 835, \"adult_percent_low_income\": 6.9, \"income_quintile\": \"Third quintile\", \"total_diabetes_count\": 1753, \"total_neighb_pop\": 13506, \"total_diabetes_prevalence\": 13.0}, {\"neighbourhood_ID\": 50.0, \"neighbourhood_name\": \"Newtonbrook East\", \"adult_population\": 10315, \"adult_low_income\": 1675, \"adult_percent_low_income\": 10.9, \"income_quintile\": \"First quintile\", \"total_diabetes_count\": 1429, \"total_neighb_pop\": 12157, \"total_diabetes_prevalence\": 11.8}, {\"neighbourhood_ID\": 52.0, \"neighbourhood_name\": \"Bayview Village\", \"adult_population\": 15460, \"adult_low_income\": 2495, \"adult_percent_low_income\": 11.2, \"income_quintile\": \"First quintile\", \"total_diabetes_count\": 1702, \"total_neighb_pop\": 19558, \"total_diabetes_prevalence\": 8.7}, {\"neighbourhood_ID\": 53.0, \"neighbourhood_name\": \"Henry Farm\", \"adult_population\": 14675, \"adult_low_income\": 2360, \"adult_percent_low_income\": 11.9, \"income_quintile\": \"First quintile\", \"total_diabetes_count\": 1746, \"total_neighb_pop\": 19764, \"total_diabetes_prevalence\": 8.8}, {\"neighbourhood_ID\": 54.0, \"neighbourhood_name\": \"O'Connor-Parkview\", \"adult_population\": 11790, \"adult_low_income\": 1415, \"adult_percent_low_income\": 7.7, \"income_quintile\": \"Second quintile\", \"total_diabetes_count\": 2035, \"total_neighb_pop\": 16378, \"total_diabetes_prevalence\": 12.4}, {\"neighbourhood_ID\": 55.0, \"neighbourhood_name\": \"Thorncliffe Park\", \"adult_population\": 12320, \"adult_low_income\": 2480, \"adult_percent_low_income\": 12.2, \"income_quintile\": \"First quintile\", \"total_diabetes_count\": 2586, \"total_neighb_pop\": 16755, \"total_diabetes_prevalence\": 15.4}, {\"neighbourhood_ID\": 56.0, \"neighbourhood_name\": \"Leaside-Bennington\", \"adult_population\": 10060, \"adult_low_income\": 565, \"adult_percent_low_income\": 3.4, \"income_quintile\": \"Fifth quintile\", \"total_diabetes_count\": 935, \"total_neighb_pop\": 14605, \"total_diabetes_prevalence\": 6.4}, {\"neighbourhood_ID\": 57.0, \"neighbourhood_name\": \"Broadview North\", \"adult_population\": 7365, \"adult_low_income\": 985, \"adult_percent_low_income\": 9.0, \"income_quintile\": \"Second quintile\", \"total_diabetes_count\": 1045, \"total_neighb_pop\": 9968, \"total_diabetes_prevalence\": 10.5}, {\"neighbourhood_ID\": 58.0, \"neighbourhood_name\": \"Old East York\", \"adult_population\": 5760, \"adult_low_income\": 465, \"adult_percent_low_income\": 5.1, \"income_quintile\": \"Fifth quintile\", \"total_diabetes_count\": 827, \"total_neighb_pop\": 7888, \"total_diabetes_prevalence\": 10.5}, {\"neighbourhood_ID\": 59.0, \"neighbourhood_name\": \"Danforth-East York\", \"adult_population\": 10705, \"adult_low_income\": 845, \"adult_percent_low_income\": 5.0, \"income_quintile\": \"Fifth quintile\", \"total_diabetes_count\": 1454, \"total_neighb_pop\": 14538, \"total_diabetes_prevalence\": 10.0}, {\"neighbourhood_ID\": 60.0, \"neighbourhood_name\": \"Woodbine-Lumsden\", \"adult_population\": 5180, \"adult_low_income\": 390, \"adult_percent_low_income\": 4.9, \"income_quintile\": \"Fifth quintile\", \"total_diabetes_count\": 711, \"total_neighb_pop\": 6928, \"total_diabetes_prevalence\": 10.3}, {\"neighbourhood_ID\": 61.0, \"neighbourhood_name\": \"Taylor-Massey\", \"adult_population\": 10065, \"adult_low_income\": 1615, \"adult_percent_low_income\": 10.8, \"income_quintile\": \"First quintile\", \"total_diabetes_count\": 2069, \"total_neighb_pop\": 14894, \"total_diabetes_prevalence\": 13.9}, {\"neighbourhood_ID\": 62.0, \"neighbourhood_name\": \"East End-Danforth\", \"adult_population\": 14450, \"adult_low_income\": 1555, \"adult_percent_low_income\": 7.1, \"income_quintile\": \"Third quintile\", \"total_diabetes_count\": 1764, \"total_neighb_pop\": 19330, \"total_diabetes_prevalence\": 9.1}, {\"neighbourhood_ID\": 63.0, \"neighbourhood_name\": \"The Beaches\", \"adult_population\": 13450, \"adult_low_income\": 1105, \"adult_percent_low_income\": 5.1, \"income_quintile\": \"Fifth quintile\", \"total_diabetes_count\": 1085, \"total_neighb_pop\": 18890, \"total_diabetes_prevalence\": 5.7}, {\"neighbourhood_ID\": 64.0, \"neighbourhood_name\": \"Woodbine Corridor\", \"adult_population\": 8010, \"adult_low_income\": 845, \"adult_percent_low_income\": 6.9, \"income_quintile\": \"Third quintile\", \"total_diabetes_count\": 900, \"total_neighb_pop\": 10641, \"total_diabetes_prevalence\": 8.5}, {\"neighbourhood_ID\": 65.0, \"neighbourhood_name\": \"Greenwood-Coxwell\", \"adult_population\": 9020, \"adult_low_income\": 945, \"adult_percent_low_income\": 6.9, \"income_quintile\": \"Third quintile\", \"total_diabetes_count\": 1116, \"total_neighb_pop\": 12042, \"total_diabetes_prevalence\": 9.3}, {\"neighbourhood_ID\": 66.0, \"neighbourhood_name\": \"Danforth\", \"adult_population\": 5870, \"adult_low_income\": 450, \"adult_percent_low_income\": 4.8, \"income_quintile\": \"Fifth quintile\", \"total_diabetes_count\": 766, \"total_neighb_pop\": 8100, \"total_diabetes_prevalence\": 9.5}, {\"neighbourhood_ID\": 67.0, \"neighbourhood_name\": \"Playter Estates-Danforth\", \"adult_population\": 4880, \"adult_low_income\": 455, \"adult_percent_low_income\": 5.9, \"income_quintile\": \"Fourth quintile\", \"total_diabetes_count\": 564, \"total_neighb_pop\": 6983, \"total_diabetes_prevalence\": 8.1}, {\"neighbourhood_ID\": 68.0, \"neighbourhood_name\": \"North Riverdale\", \"adult_population\": 7230, \"adult_low_income\": 565, \"adult_percent_low_income\": 5.0, \"income_quintile\": \"Fifth quintile\", \"total_diabetes_count\": 798, \"total_neighb_pop\": 10355, \"total_diabetes_prevalence\": 7.7}, {\"neighbourhood_ID\": 69.0, \"neighbourhood_name\": \"Blake-Jones\", \"adult_population\": 4915, \"adult_low_income\": 615, \"adult_percent_low_income\": 8.2, \"income_quintile\": \"Second quintile\", \"total_diabetes_count\": 586, \"total_neighb_pop\": 6650, \"total_diabetes_prevalence\": 8.8}, {\"neighbourhood_ID\": 70.0, \"neighbourhood_name\": \"South Riverdale\", \"adult_population\": 19945, \"adult_low_income\": 1985, \"adult_percent_low_income\": 7.1, \"income_quintile\": \"Third quintile\", \"total_diabetes_count\": 2177, \"total_neighb_pop\": 24849, \"total_diabetes_prevalence\": 8.8}, {\"neighbourhood_ID\": 71.0, \"neighbourhood_name\": \"Cabbagetown-South St.James Town\", \"adult_population\": 7860, \"adult_low_income\": 960, \"adult_percent_low_income\": 8.7, \"income_quintile\": \"Second quintile\", \"total_diabetes_count\": 1113, \"total_neighb_pop\": 11624, \"total_diabetes_prevalence\": 9.6}, {\"neighbourhood_ID\": 72.0, \"neighbourhood_name\": \"Regent Park\", \"adult_population\": 9025, \"adult_low_income\": 1795, \"adult_percent_low_income\": 14.6, \"income_quintile\": \"First quintile\", \"total_diabetes_count\": 1380, \"total_neighb_pop\": 11562, \"total_diabetes_prevalence\": 11.9}, {\"neighbourhood_ID\": 73.0, \"neighbourhood_name\": \"Moss Park\", \"adult_population\": 17330, \"adult_low_income\": 3610, \"adult_percent_low_income\": 16.9, \"income_quintile\": \"First quintile\", \"total_diabetes_count\": 1753, \"total_neighb_pop\": 21837, \"total_diabetes_prevalence\": 8.0}, {\"neighbourhood_ID\": 74.0, \"neighbourhood_name\": \"North St.James Town\", \"adult_population\": 14100, \"adult_low_income\": 2745, \"adult_percent_low_income\": 14.8, \"income_quintile\": \"First quintile\", \"total_diabetes_count\": 2048, \"total_neighb_pop\": 17009, \"total_diabetes_prevalence\": 12.0}, {\"neighbourhood_ID\": 78.0, \"neighbourhood_name\": \"Kensington-Chinatown\", \"adult_population\": 13835, \"adult_low_income\": 2735, \"adult_percent_low_income\": 15.1, \"income_quintile\": \"First quintile\", \"total_diabetes_count\": 1786, \"total_neighb_pop\": 17928, \"total_diabetes_prevalence\": 10.0}, {\"neighbourhood_ID\": 79.0, \"neighbourhood_name\": \"University\", \"adult_population\": 4610, \"adult_low_income\": 695, \"adult_percent_low_income\": 11.2, \"income_quintile\": \"First quintile\", \"total_diabetes_count\": 539, \"total_neighb_pop\": 8951, \"total_diabetes_prevalence\": 6.0}, {\"neighbourhood_ID\": 80.0, \"neighbourhood_name\": \"Palmerston-Little Italy\", \"adult_population\": 9425, \"adult_low_income\": 940, \"adult_percent_low_income\": 7.3, \"income_quintile\": \"Third quintile\", \"total_diabetes_count\": 924, \"total_neighb_pop\": 12789, \"total_diabetes_prevalence\": 7.2}, {\"neighbourhood_ID\": 81.0, \"neighbourhood_name\": \"Trinity-Bellwoods\", \"adult_population\": 11160, \"adult_low_income\": 1120, \"adult_percent_low_income\": 7.3, \"income_quintile\": \"Third quintile\", \"total_diabetes_count\": 1258, \"total_neighb_pop\": 14279, \"total_diabetes_prevalence\": 8.8}, {\"neighbourhood_ID\": 83.0, \"neighbourhood_name\": \"Dufferin Grove\", \"adult_population\": 7815, \"adult_low_income\": 790, \"adult_percent_low_income\": 7.3, \"income_quintile\": \"Third quintile\", \"total_diabetes_count\": 1043, \"total_neighb_pop\": 11541, \"total_diabetes_prevalence\": 9.0}, {\"neighbourhood_ID\": 84.0, \"neighbourhood_name\": \"Little Portugal\", \"adult_population\": 11980, \"adult_low_income\": 1155, \"adult_percent_low_income\": 7.5, \"income_quintile\": \"Second quintile\", \"total_diabetes_count\": 1194, \"total_neighb_pop\": 15858, \"total_diabetes_prevalence\": 7.5}, {\"neighbourhood_ID\": 85.0, \"neighbourhood_name\": \"South Parkdale\", \"adult_population\": 15785, \"adult_low_income\": 2805, \"adult_percent_low_income\": 13.7, \"income_quintile\": \"First quintile\", \"total_diabetes_count\": 2205, \"total_neighb_pop\": 20912, \"total_diabetes_prevalence\": 10.5}, {\"neighbourhood_ID\": 86.0, \"neighbourhood_name\": \"Roncesvalles\", \"adult_population\": 10190, \"adult_low_income\": 1075, \"adult_percent_low_income\": 7.4, \"income_quintile\": \"Third quintile\", \"total_diabetes_count\": 997, \"total_neighb_pop\": 13339, \"total_diabetes_prevalence\": 7.5}, {\"neighbourhood_ID\": 87.0, \"neighbourhood_name\": \"High Park-Swansea\", \"adult_population\": 14730, \"adult_low_income\": 1215, \"adult_percent_low_income\": 5.4, \"income_quintile\": \"Fifth quintile\", \"total_diabetes_count\": 1435, \"total_neighb_pop\": 20827, \"total_diabetes_prevalence\": 6.9}, {\"neighbourhood_ID\": 88.0, \"neighbourhood_name\": \"High Park North\", \"adult_population\": 15240, \"adult_low_income\": 1715, \"adult_percent_low_income\": 7.8, \"income_quintile\": \"Second quintile\", \"total_diabetes_count\": 1366, \"total_neighb_pop\": 20940, \"total_diabetes_prevalence\": 6.5}, {\"neighbourhood_ID\": 89.0, \"neighbourhood_name\": \"Runnymede-Bloor West Village\", \"adult_population\": 6335, \"adult_low_income\": 295, \"adult_percent_low_income\": 2.9, \"income_quintile\": \"Fifth quintile\", \"total_diabetes_count\": 587, \"total_neighb_pop\": 8367, \"total_diabetes_prevalence\": 7.0}, {\"neighbourhood_ID\": 90.0, \"neighbourhood_name\": \"Junction Area\", \"adult_population\": 9840, \"adult_low_income\": 865, \"adult_percent_low_income\": 6.2, \"income_quintile\": \"Fourth quintile\", \"total_diabetes_count\": 1172, \"total_neighb_pop\": 13237, \"total_diabetes_prevalence\": 8.9}, {\"neighbourhood_ID\": 91.0, \"neighbourhood_name\": \"Weston-Pelham Park\", \"adult_population\": 6870, \"adult_low_income\": 760, \"adult_percent_low_income\": 7.6, \"income_quintile\": \"Second quintile\", \"total_diabetes_count\": 1209, \"total_neighb_pop\": 9839, \"total_diabetes_prevalence\": 12.3}, {\"neighbourhood_ID\": 92.0, \"neighbourhood_name\": \"Corso Italia-Davenport\", \"adult_population\": 8930, \"adult_low_income\": 715, \"adult_percent_low_income\": 5.4, \"income_quintile\": \"Fifth quintile\", \"total_diabetes_count\": 1247, \"total_neighb_pop\": 11810, \"total_diabetes_prevalence\": 10.6}, {\"neighbourhood_ID\": 94.0, \"neighbourhood_name\": \"Wychwood\", \"adult_population\": 8345, \"adult_low_income\": 795, \"adult_percent_low_income\": 6.2, \"income_quintile\": \"Fourth quintile\", \"total_diabetes_count\": 1449, \"total_neighb_pop\": 13441, \"total_diabetes_prevalence\": 10.8}, {\"neighbourhood_ID\": 95.0, \"neighbourhood_name\": \"Annex\", \"adult_population\": 20490, \"adult_low_income\": 3095, \"adult_percent_low_income\": 10.6, \"income_quintile\": \"First quintile\", \"total_diabetes_count\": 1815, \"total_neighb_pop\": 28120, \"total_diabetes_prevalence\": 6.5}, {\"neighbourhood_ID\": 96.0, \"neighbourhood_name\": \"Casa Loma\", \"adult_population\": 6865, \"adult_low_income\": 730, \"adult_percent_low_income\": 6.5, \"income_quintile\": \"Fourth quintile\", \"total_diabetes_count\": 793, \"total_neighb_pop\": 11074, \"total_diabetes_prevalence\": 7.2}, {\"neighbourhood_ID\": 97.0, \"neighbourhood_name\": \"Yonge-St.Clair\", \"adult_population\": 8190, \"adult_low_income\": 880, \"adult_percent_low_income\": 6.8, \"income_quintile\": \"Third quintile\", \"total_diabetes_count\": 763, \"total_neighb_pop\": 11514, \"total_diabetes_prevalence\": 6.6}, {\"neighbourhood_ID\": 98.0, \"neighbourhood_name\": \"Rosedale-Moore Park\", \"adult_population\": 11500, \"adult_low_income\": 1100, \"adult_percent_low_income\": 5.5, \"income_quintile\": \"Fourth quintile\", \"total_diabetes_count\": 1367, \"total_neighb_pop\": 20582, \"total_diabetes_prevalence\": 6.6}, {\"neighbourhood_ID\": 99.0, \"neighbourhood_name\": \"Mount Pleasant East\", \"adult_population\": 10265, \"adult_low_income\": 740, \"adult_percent_low_income\": 4.5, \"income_quintile\": \"Fifth quintile\", \"total_diabetes_count\": 973, \"total_neighb_pop\": 14659, \"total_diabetes_prevalence\": 6.6}, {\"neighbourhood_ID\": 100.0, \"neighbourhood_name\": \"Yonge-Eglinton\", \"adult_population\": 8325, \"adult_low_income\": 905, \"adult_percent_low_income\": 7.3, \"income_quintile\": \"Third quintile\", \"total_diabetes_count\": 615, \"total_neighb_pop\": 10894, \"total_diabetes_prevalence\": 5.6}, {\"neighbourhood_ID\": 101.0, \"neighbourhood_name\": \"Forest Hill South\", \"adult_population\": 6470, \"adult_low_income\": 650, \"adult_percent_low_income\": 6.0, \"income_quintile\": \"Fourth quintile\", \"total_diabetes_count\": 725, \"total_neighb_pop\": 9787, \"total_diabetes_prevalence\": 7.4}, {\"neighbourhood_ID\": 102.0, \"neighbourhood_name\": \"Forest Hill North\", \"adult_population\": 7650, \"adult_low_income\": 765, \"adult_percent_low_income\": 6.2, \"income_quintile\": \"Fourth quintile\", \"total_diabetes_count\": 1044, \"total_neighb_pop\": 11004, \"total_diabetes_prevalence\": 9.5}, {\"neighbourhood_ID\": 103.0, \"neighbourhood_name\": \"Lawrence Park South\", \"adult_population\": 9140, \"adult_low_income\": 675, \"adult_percent_low_income\": 4.5, \"income_quintile\": \"Fifth quintile\", \"total_diabetes_count\": 674, \"total_neighb_pop\": 12802, \"total_diabetes_prevalence\": 5.3}, {\"neighbourhood_ID\": 105.0, \"neighbourhood_name\": \"Lawrence Park North\", \"adult_population\": 8865, \"adult_low_income\": 485, \"adult_percent_low_income\": 3.3, \"income_quintile\": \"Fifth quintile\", \"total_diabetes_count\": 747, \"total_neighb_pop\": 12097, \"total_diabetes_prevalence\": 6.2}, {\"neighbourhood_ID\": 106.0, \"neighbourhood_name\": \"Humewood-Cedarvale\", \"adult_population\": 9150, \"adult_low_income\": 940, \"adult_percent_low_income\": 6.8, \"income_quintile\": \"Third quintile\", \"total_diabetes_count\": 1057, \"total_neighb_pop\": 11471, \"total_diabetes_prevalence\": 9.2}, {\"neighbourhood_ID\": 107.0, \"neighbourhood_name\": \"Oakwood Village\", \"adult_population\": 13410, \"adult_low_income\": 1325, \"adult_percent_low_income\": 6.4, \"income_quintile\": \"Fourth quintile\", \"total_diabetes_count\": 2263, \"total_neighb_pop\": 18012, \"total_diabetes_prevalence\": 12.6}, {\"neighbourhood_ID\": 108.0, \"neighbourhood_name\": \"Briar Hill-Belgravia\", \"adult_population\": 9915, \"adult_low_income\": 1010, \"adult_percent_low_income\": 6.9, \"income_quintile\": \"Third quintile\", \"total_diabetes_count\": 1733, \"total_neighb_pop\": 12799, \"total_diabetes_prevalence\": 13.5}, {\"neighbourhood_ID\": 109.0, \"neighbourhood_name\": \"Caledonia-Fairbank\", \"adult_population\": 6755, \"adult_low_income\": 590, \"adult_percent_low_income\": 5.9, \"income_quintile\": \"Fourth quintile\", \"total_diabetes_count\": 1155, \"total_neighb_pop\": 8635, \"total_diabetes_prevalence\": 13.4}, {\"neighbourhood_ID\": 110.0, \"neighbourhood_name\": \"Keelesdale-Eglinton West\", \"adult_population\": 7515, \"adult_low_income\": 760, \"adult_percent_low_income\": 6.7, \"income_quintile\": \"Third quintile\", \"total_diabetes_count\": 1350, \"total_neighb_pop\": 9090, \"total_diabetes_prevalence\": 14.9}, {\"neighbourhood_ID\": 111.0, \"neighbourhood_name\": \"Rockcliffe-Smythe\", \"adult_population\": 14190, \"adult_low_income\": 1815, \"adult_percent_low_income\": 8.2, \"income_quintile\": \"Second quintile\", \"total_diabetes_count\": 2940, \"total_neighb_pop\": 19264, \"total_diabetes_prevalence\": 15.3}, {\"neighbourhood_ID\": 112.0, \"neighbourhood_name\": \"Beechborough-Greenbrook\", \"adult_population\": 3970, \"adult_low_income\": 645, \"adult_percent_low_income\": 10.6, \"income_quintile\": \"First quintile\", \"total_diabetes_count\": 922, \"total_neighb_pop\": 5432, \"total_diabetes_prevalence\": 17.0}, {\"neighbourhood_ID\": 113.0, \"neighbourhood_name\": \"Weston\", \"adult_population\": 12190, \"adult_low_income\": 1990, \"adult_percent_low_income\": 10.8, \"income_quintile\": \"First quintile\", \"total_diabetes_count\": 2669, \"total_neighb_pop\": 18080, \"total_diabetes_prevalence\": 14.8}, {\"neighbourhood_ID\": 114.0, \"neighbourhood_name\": \"Lambton Baby Point\", \"adult_population\": 4900, \"adult_low_income\": 520, \"adult_percent_low_income\": 6.5, \"income_quintile\": \"Fourth quintile\", \"total_diabetes_count\": 526, \"total_neighb_pop\": 6484, \"total_diabetes_prevalence\": 8.1}, {\"neighbourhood_ID\": 115.0, \"neighbourhood_name\": \"Mount Dennis\", \"adult_population\": 8695, \"adult_low_income\": 1105, \"adult_percent_low_income\": 8.5, \"income_quintile\": \"Second quintile\", \"total_diabetes_count\": 1785, \"total_neighb_pop\": 11054, \"total_diabetes_prevalence\": 16.1}, {\"neighbourhood_ID\": 116.0, \"neighbourhood_name\": \"Steeles\", \"adult_population\": 12900, \"adult_low_income\": 1495, \"adult_percent_low_income\": 6.7, \"income_quintile\": \"Third quintile\", \"total_diabetes_count\": 3477, \"total_neighb_pop\": 21319, \"total_diabetes_prevalence\": 16.3}, {\"neighbourhood_ID\": 118.0, \"neighbourhood_name\": \"Tam O'Shanter-Sullivan\", \"adult_population\": 16570, \"adult_low_income\": 1820, \"adult_percent_low_income\": 6.7, \"income_quintile\": \"Third quintile\", \"total_diabetes_count\": 4124, \"total_neighb_pop\": 24461, \"total_diabetes_prevalence\": 16.9}, {\"neighbourhood_ID\": 119.0, \"neighbourhood_name\": \"Wexford/Maryvale\", \"adult_population\": 18525, \"adult_low_income\": 1870, \"adult_percent_low_income\": 6.6, \"income_quintile\": \"Third quintile\", \"total_diabetes_count\": 3965, \"total_neighb_pop\": 25478, \"total_diabetes_prevalence\": 15.6}, {\"neighbourhood_ID\": 120.0, \"neighbourhood_name\": \"Clairlea-Birchmount\", \"adult_population\": 17735, \"adult_low_income\": 1730, \"adult_percent_low_income\": 6.4, \"income_quintile\": \"Fourth quintile\", \"total_diabetes_count\": 4493, \"total_neighb_pop\": 28432, \"total_diabetes_prevalence\": 15.8}, {\"neighbourhood_ID\": 121.0, \"neighbourhood_name\": \"Oakridge\", \"adult_population\": 8920, \"adult_low_income\": 1730, \"adult_percent_low_income\": 12.6, \"income_quintile\": \"First quintile\", \"total_diabetes_count\": 2014, \"total_neighb_pop\": 11661, \"total_diabetes_prevalence\": 17.3}, {\"neighbourhood_ID\": 122.0, \"neighbourhood_name\": \"Birchcliffe-Cliffside\", \"adult_population\": 14365, \"adult_low_income\": 1395, \"adult_percent_low_income\": 6.2, \"income_quintile\": \"Fourth quintile\", \"total_diabetes_count\": 2449, \"total_neighb_pop\": 20124, \"total_diabetes_prevalence\": 12.2}, {\"neighbourhood_ID\": 123.0, \"neighbourhood_name\": \"Cliffcrest\", \"adult_population\": 9985, \"adult_low_income\": 905, \"adult_percent_low_income\": 5.6, \"income_quintile\": \"Fourth quintile\", \"total_diabetes_count\": 2122, \"total_neighb_pop\": 14031, \"total_diabetes_prevalence\": 15.1}, {\"neighbourhood_ID\": 124.0, \"neighbourhood_name\": \"Kennedy Park\", \"adult_population\": 11070, \"adult_low_income\": 1610, \"adult_percent_low_income\": 9.4, \"income_quintile\": \"Second quintile\", \"total_diabetes_count\": 2957, \"total_neighb_pop\": 15339, \"total_diabetes_prevalence\": 19.3}, {\"neighbourhood_ID\": 125.0, \"neighbourhood_name\": \"Ionview\", \"adult_population\": 8615, \"adult_low_income\": 990, \"adult_percent_low_income\": 7.4, \"income_quintile\": \"Third quintile\", \"total_diabetes_count\": 1394, \"total_neighb_pop\": 8419, \"total_diabetes_prevalence\": 16.6}, {\"neighbourhood_ID\": 126.0, \"neighbourhood_name\": \"Dorset Park\", \"adult_population\": 15880, \"adult_low_income\": 1640, \"adult_percent_low_income\": 6.8, \"income_quintile\": \"Third quintile\", \"total_diabetes_count\": 4187, \"total_neighb_pop\": 22379, \"total_diabetes_prevalence\": 18.7}, {\"neighbourhood_ID\": 128.0, \"neighbourhood_name\": \"Agincourt South-Malvern West\", \"adult_population\": 16060, \"adult_low_income\": 1945, \"adult_percent_low_income\": 8.0, \"income_quintile\": \"Second quintile\", \"total_diabetes_count\": 3349, \"total_neighb_pop\": 21714, \"total_diabetes_prevalence\": 15.4}, {\"neighbourhood_ID\": 129.0, \"neighbourhood_name\": \"Agincourt North\", \"adult_population\": 16295, \"adult_low_income\": 1510, \"adult_percent_low_income\": 5.7, \"income_quintile\": \"Fourth quintile\", \"total_diabetes_count\": 4621, \"total_neighb_pop\": 25080, \"total_diabetes_prevalence\": 18.4}, {\"neighbourhood_ID\": 130.0, \"neighbourhood_name\": \"Milliken\", \"adult_population\": 14455, \"adult_low_income\": 1745, \"adult_percent_low_income\": 7.3, \"income_quintile\": \"Third quintile\", \"total_diabetes_count\": 3864, \"total_neighb_pop\": 21826, \"total_diabetes_prevalence\": 17.7}, {\"neighbourhood_ID\": 133.0, \"neighbourhood_name\": \"Centennial Scarborough\", \"adult_population\": 8015, \"adult_low_income\": 280, \"adult_percent_low_income\": 2.1, \"income_quintile\": \"Fifth quintile\", \"total_diabetes_count\": 1753, \"total_neighb_pop\": 12003, \"total_diabetes_prevalence\": 14.6}, {\"neighbourhood_ID\": 134.0, \"neighbourhood_name\": \"Highland Creek\", \"adult_population\": 7920, \"adult_low_income\": 515, \"adult_percent_low_income\": 4.1, \"income_quintile\": \"Fifth quintile\", \"total_diabetes_count\": 2357, \"total_neighb_pop\": 11897, \"total_diabetes_prevalence\": 19.8}, {\"neighbourhood_ID\": 135.0, \"neighbourhood_name\": \"Morningside\", \"adult_population\": 11260, \"adult_low_income\": 1190, \"adult_percent_low_income\": 6.7, \"income_quintile\": \"Third quintile\", \"total_diabetes_count\": 2793, \"total_neighb_pop\": 14844, \"total_diabetes_prevalence\": 18.8}, {\"neighbourhood_ID\": 136.0, \"neighbourhood_name\": \"West Hill\", \"adult_population\": 18115, \"adult_low_income\": 2410, \"adult_percent_low_income\": 8.6, \"income_quintile\": \"Second quintile\", \"total_diabetes_count\": 4120, \"total_neighb_pop\": 22944, \"total_diabetes_prevalence\": 18.0}, {\"neighbourhood_ID\": 138.0, \"neighbourhood_name\": \"Eglinton East\", \"adult_population\": 14235, \"adult_low_income\": 1600, \"adult_percent_low_income\": 7.2, \"income_quintile\": \"Third quintile\", \"total_diabetes_count\": 3625, \"total_neighb_pop\": 18349, \"total_diabetes_prevalence\": 19.8}, {\"neighbourhood_ID\": 139.0, \"neighbourhood_name\": \"Scarborough Village\", \"adult_population\": 10325, \"adult_low_income\": 1540, \"adult_percent_low_income\": 9.4, \"income_quintile\": \"Second quintile\", \"total_diabetes_count\": 3108, \"total_neighb_pop\": 16531, \"total_diabetes_prevalence\": 18.8}, {\"neighbourhood_ID\": 140.0, \"neighbourhood_name\": \"Guildwood\", \"adult_population\": 5395, \"adult_low_income\": 290, \"adult_percent_low_income\": 3.0, \"income_quintile\": \"Fifth quintile\", \"total_diabetes_count\": 1427, \"total_neighb_pop\": 9481, \"total_diabetes_prevalence\": 15.1}, {\"neighbourhood_ID\": 141.0, \"neighbourhood_name\": \"Golfdale-Cedarbrae-Woburn\", \"adult_population\": 16920, \"adult_low_income\": 2160, \"adult_percent_low_income\": 8.0, \"income_quintile\": \"Second quintile\", \"total_diabetes_count\": 4128, \"total_neighb_pop\": 21126, \"total_diabetes_prevalence\": 19.5}, {\"neighbourhood_ID\": 142.0, \"neighbourhood_name\": \"Woburn North\", \"adult_population\": 17645, \"adult_low_income\": 2420, \"adult_percent_low_income\": 9.1, \"income_quintile\": \"Second quintile\", \"total_diabetes_count\": 3960, \"total_neighb_pop\": 23324, \"total_diabetes_prevalence\": 17.0}, {\"neighbourhood_ID\": 143.0, \"neighbourhood_name\": \"West Rouge\", \"adult_population\": 12630, \"adult_low_income\": 655, \"adult_percent_low_income\": 3.2, \"income_quintile\": \"Fifth quintile\", \"total_diabetes_count\": 3082, \"total_neighb_pop\": 17162, \"total_diabetes_prevalence\": 18.0}, {\"neighbourhood_ID\": 144.0, \"neighbourhood_name\": \"Morningside Heights\", \"adult_population\": 16280, \"adult_low_income\": 775, \"adult_percent_low_income\": 3.1, \"income_quintile\": \"Fifth quintile\", \"total_diabetes_count\": 5156, \"total_neighb_pop\": 22701, \"total_diabetes_prevalence\": 22.7}, {\"neighbourhood_ID\": 145.0, \"neighbourhood_name\": \"Malvern West\", \"adult_population\": 10900, \"adult_low_income\": 915, \"adult_percent_low_income\": 5.4, \"income_quintile\": \"Fifth quintile\", \"total_diabetes_count\": 3457, \"total_neighb_pop\": 16616, \"total_diabetes_prevalence\": 20.8}, {\"neighbourhood_ID\": 146.0, \"neighbourhood_name\": \"Malvern East\", \"adult_population\": 16605, \"adult_low_income\": 1410, \"adult_percent_low_income\": 5.5, \"income_quintile\": \"Fourth quintile\", \"total_diabetes_count\": 4306, \"total_neighb_pop\": 21049, \"total_diabetes_prevalence\": 20.5}, {\"neighbourhood_ID\": 147.0, \"neighbourhood_name\": \"L'Amoreaux West\", \"adult_population\": 12460, \"adult_low_income\": 1365, \"adult_percent_low_income\": 6.5, \"income_quintile\": \"Fourth quintile\", \"total_diabetes_count\": 3651, \"total_neighb_pop\": 20786, \"total_diabetes_prevalence\": 17.6}, {\"neighbourhood_ID\": 148.0, \"neighbourhood_name\": \"East L'Amoreaux\", \"adult_population\": 13385, \"adult_low_income\": 1595, \"adult_percent_low_income\": 7.5, \"income_quintile\": \"Second quintile\", \"total_diabetes_count\": 2836, \"total_neighb_pop\": 17070, \"total_diabetes_prevalence\": 16.6}, {\"neighbourhood_ID\": 149.0, \"neighbourhood_name\": \"Parkwoods-O'Connor Hills\", \"adult_population\": 8655, \"adult_low_income\": 870, \"adult_percent_low_income\": 6.2, \"income_quintile\": \"Fourth quintile\", \"total_diabetes_count\": 1547, \"total_neighb_pop\": 12007, \"total_diabetes_prevalence\": 12.9}, {\"neighbourhood_ID\": 150.0, \"neighbourhood_name\": \"Fenside-Parkwoods\", \"adult_population\": 13710, \"adult_low_income\": 1500, \"adult_percent_low_income\": 7.3, \"income_quintile\": \"Third quintile\", \"total_diabetes_count\": 2354, \"total_neighb_pop\": 18002, \"total_diabetes_prevalence\": 13.1}, {\"neighbourhood_ID\": 151.0, \"neighbourhood_name\": \"Yonge-Doris\", \"adult_population\": 14300, \"adult_low_income\": 2995, \"adult_percent_low_income\": 14.9, \"income_quintile\": \"First quintile\", \"total_diabetes_count\": 2158, \"total_neighb_pop\": 25360, \"total_diabetes_prevalence\": 8.5}, {\"neighbourhood_ID\": 152.0, \"neighbourhood_name\": \"East Willowdale\", \"adult_population\": 10015, \"adult_low_income\": 1645, \"adult_percent_low_income\": 10.6, \"income_quintile\": \"First quintile\", \"total_diabetes_count\": 934, \"total_neighb_pop\": 9822, \"total_diabetes_prevalence\": 9.5}, {\"neighbourhood_ID\": 153.0, \"neighbourhood_name\": \"Avondale\", \"adult_population\": 10650, \"adult_low_income\": 1930, \"adult_percent_low_income\": 14.0, \"income_quintile\": \"First quintile\", \"total_diabetes_count\": 1048, \"total_neighb_pop\": 14979, \"total_diabetes_prevalence\": 7.0}, {\"neighbourhood_ID\": 154.0, \"neighbourhood_name\": \"Oakdale-Beverley Heights\", \"adult_population\": 13805, \"adult_low_income\": 1630, \"adult_percent_low_income\": 7.6, \"income_quintile\": \"Second quintile\", \"total_diabetes_count\": 2962, \"total_neighb_pop\": 18890, \"total_diabetes_prevalence\": 15.7}, {\"neighbourhood_ID\": 155.0, \"neighbourhood_name\": \"Downsview\", \"adult_population\": 12100, \"adult_low_income\": 1145, \"adult_percent_low_income\": 6.4, \"income_quintile\": \"Fourth quintile\", \"total_diabetes_count\": 2121, \"total_neighb_pop\": 15143, \"total_diabetes_prevalence\": 14.0}, {\"neighbourhood_ID\": 156.0, \"neighbourhood_name\": \"Bendale-Glen Andrew\", \"adult_population\": 12035, \"adult_low_income\": 1825, \"adult_percent_low_income\": 9.8, \"income_quintile\": \"First quintile\", \"total_diabetes_count\": 2574, \"total_neighb_pop\": 15864, \"total_diabetes_prevalence\": 16.2}, {\"neighbourhood_ID\": 157.0, \"neighbourhood_name\": \"Bendale South\", \"adult_population\": 6985, \"adult_low_income\": 565, \"adult_percent_low_income\": 5.3, \"income_quintile\": \"Fifth quintile\", \"total_diabetes_count\": 1413, \"total_neighb_pop\": 7917, \"total_diabetes_prevalence\": 17.8}, {\"neighbourhood_ID\": 158.0, \"neighbourhood_name\": \"Islington\", \"adult_population\": 14475, \"adult_low_income\": 1110, \"adult_percent_low_income\": 4.8, \"income_quintile\": \"Fifth quintile\", \"total_diabetes_count\": 2379, \"total_neighb_pop\": 20922, \"total_diabetes_prevalence\": 11.4}, {\"neighbourhood_ID\": 159.0, \"neighbourhood_name\": \"Etobicoke City Centre\", \"adult_population\": 17435, \"adult_low_income\": 1885, \"adult_percent_low_income\": 8.0, \"income_quintile\": \"Second quintile\", \"total_diabetes_count\": 2231, \"total_neighb_pop\": 23272, \"total_diabetes_prevalence\": 9.6}, {\"neighbourhood_ID\": 160.0, \"neighbourhood_name\": \"Mimico-Queensway\", \"adult_population\": 11615, \"adult_low_income\": 1155, \"adult_percent_low_income\": 6.8, \"income_quintile\": \"Third quintile\", \"total_diabetes_count\": 1579, \"total_neighb_pop\": 15962, \"total_diabetes_prevalence\": 9.9}, {\"neighbourhood_ID\": 161.0, \"neighbourhood_name\": \"Humber Bay Shores\", \"adult_population\": 17065, \"adult_low_income\": 2240, \"adult_percent_low_income\": 9.9, \"income_quintile\": \"First quintile\", \"total_diabetes_count\": 1576, \"total_neighb_pop\": 19672, \"total_diabetes_prevalence\": 8.0}, {\"neighbourhood_ID\": 162.0, \"neighbourhood_name\": \"West Queen West\", \"adult_population\": 10720, \"adult_low_income\": 1000, \"adult_percent_low_income\": 7.6, \"income_quintile\": \"Second quintile\", \"total_diabetes_count\": 702, \"total_neighb_pop\": 12392, \"total_diabetes_prevalence\": 5.7}, {\"neighbourhood_ID\": 163.0, \"neighbourhood_name\": \"Fort York-Liberty Village\", \"adult_population\": 17875, \"adult_low_income\": 1725, \"adult_percent_low_income\": 8.6, \"income_quintile\": \"Second quintile\", \"total_diabetes_count\": 743, \"total_neighb_pop\": 20388, \"total_diabetes_prevalence\": 3.6}, {\"neighbourhood_ID\": 164.0, \"neighbourhood_name\": \"Wellington Place\", \"adult_population\": 23565, \"adult_low_income\": 3210, \"adult_percent_low_income\": 12.6, \"income_quintile\": \"First quintile\", \"total_diabetes_count\": 537, \"total_neighb_pop\": 23676, \"total_diabetes_prevalence\": 2.3}, {\"neighbourhood_ID\": 165.0, \"neighbourhood_name\": \"Harbourfront-CityPlace\", \"adult_population\": 24410, \"adult_low_income\": 3355, \"adult_percent_low_income\": 11.9, \"income_quintile\": \"First quintile\", \"total_diabetes_count\": 1078, \"total_neighb_pop\": 28402, \"total_diabetes_prevalence\": 3.8}, {\"neighbourhood_ID\": 166.0, \"neighbourhood_name\": \"St Lawrence-East Bayfront-The Islands\", \"adult_population\": 24670, \"adult_low_income\": 3385, \"adult_percent_low_income\": 10.8, \"income_quintile\": \"First quintile\", \"total_diabetes_count\": 1996, \"total_neighb_pop\": 29907, \"total_diabetes_prevalence\": 6.7}, {\"neighbourhood_ID\": 167.0, \"neighbourhood_name\": \"Church-Wellesley\", \"adult_population\": 19015, \"adult_low_income\": 4555, \"adult_percent_low_income\": 20.5, \"income_quintile\": \"First quintile\", \"total_diabetes_count\": 1334, \"total_neighb_pop\": 22344, \"total_diabetes_prevalence\": 6.0}, {\"neighbourhood_ID\": 168.0, \"neighbourhood_name\": \"Downtown Yonge East\", \"adult_population\": 14750, \"adult_low_income\": 3090, \"adult_percent_low_income\": 17.4, \"income_quintile\": \"First quintile\", \"total_diabetes_count\": 1171, \"total_neighb_pop\": 17381, \"total_diabetes_prevalence\": 6.7}, {\"neighbourhood_ID\": 169.0, \"neighbourhood_name\": \"Bay-Cloverhill\", \"adult_population\": 13675, \"adult_low_income\": 4330, \"adult_percent_low_income\": 26.0, \"income_quintile\": \"First quintile\", \"total_diabetes_count\": 752, \"total_neighb_pop\": 15196, \"total_diabetes_prevalence\": 4.9}, {\"neighbourhood_ID\": 170.0, \"neighbourhood_name\": \"Yonge-Bay Corridor\", \"adult_population\": 10745, \"adult_low_income\": 2595, \"adult_percent_low_income\": 20.5, \"income_quintile\": \"First quintile\", \"total_diabetes_count\": 625, \"total_neighb_pop\": 14982, \"total_diabetes_prevalence\": 4.2}, {\"neighbourhood_ID\": 171.0, \"neighbourhood_name\": \"Junction-Wallace Emerson\", \"adult_population\": 16815, \"adult_low_income\": 1685, \"adult_percent_low_income\": 7.3, \"income_quintile\": \"Third quintile\", \"total_diabetes_count\": 2184, \"total_neighb_pop\": 21437, \"total_diabetes_prevalence\": 10.2}, {\"neighbourhood_ID\": 172.0, \"neighbourhood_name\": \"Dovercourt Village\", \"adult_population\": 8745, \"adult_low_income\": 825, \"adult_percent_low_income\": 6.7, \"income_quintile\": \"Third quintile\", \"total_diabetes_count\": 1042, \"total_neighb_pop\": 11631, \"total_diabetes_prevalence\": 9.0}, {\"neighbourhood_ID\": 173.0, \"neighbourhood_name\": \"North Toronto\", \"adult_population\": 12500, \"adult_low_income\": 2120, \"adult_percent_low_income\": 13.4, \"income_quintile\": \"First quintile\", \"total_diabetes_count\": 964, \"total_neighb_pop\": 14910, \"total_diabetes_prevalence\": 6.5}, {\"neighbourhood_ID\": 174.0, \"neighbourhood_name\": \"South Eglinton-Davisville\", \"adult_population\": 17170, \"adult_low_income\": 2455, \"adult_percent_low_income\": 10.8, \"income_quintile\": \"First quintile\", \"total_diabetes_count\": 1392, \"total_neighb_pop\": 21412, \"total_diabetes_prevalence\": 6.5}]}}, {\"mode\": \"vega-lite\"});\n",
       "</script>"
      ],
      "text/plain": [
       "alt.Chart(...)"
      ]
     },
     "execution_count": 66,
     "metadata": {},
     "output_type": "execute_result"
    }
   ],
   "source": [
    "# All our positive significant results involved the first quintile\n",
    "q_diabetes_income_chart"
   ]
  },
  {
   "cell_type": "code",
   "execution_count": 67,
   "id": "8b30acea",
   "metadata": {
    "slideshow": {
     "slide_type": "skip"
    }
   },
   "outputs": [],
   "source": [
    "diabetes_income_chart = alt.Chart(diabetes_income).mark_circle().encode(\n",
    "    alt.X('adult_percent_low_income:Q', title='Neighbourhood percent of low income adults'),\n",
    "    alt.Y('total_diabetes_prevalence:Q', title='Neighbourhood prevalence of diabetes'),\n",
    "    tooltip=[\n",
    "        alt.Tooltip('neighbourhood_name:N', title='Neighbourhood')\n",
    "    ]\n",
    ").properties(title='Neighbourhood prevalence of diabetes and neighbourhood percent of low income adults', width=400)"
   ]
  },
  {
   "cell_type": "code",
   "execution_count": 68,
   "id": "2475b1fb",
   "metadata": {
    "slideshow": {
     "slide_type": "skip"
    }
   },
   "outputs": [
    {
     "data": {
      "text/html": [
       "\n",
       "<style>\n",
       "  #altair-viz-b4bf8c946dc14ed7867b7a6337b1dcc4.vega-embed {\n",
       "    width: 100%;\n",
       "    display: flex;\n",
       "  }\n",
       "\n",
       "  #altair-viz-b4bf8c946dc14ed7867b7a6337b1dcc4.vega-embed details,\n",
       "  #altair-viz-b4bf8c946dc14ed7867b7a6337b1dcc4.vega-embed details summary {\n",
       "    position: relative;\n",
       "  }\n",
       "</style>\n",
       "<div id=\"altair-viz-b4bf8c946dc14ed7867b7a6337b1dcc4\"></div>\n",
       "<script type=\"text/javascript\">\n",
       "  var VEGA_DEBUG = (typeof VEGA_DEBUG == \"undefined\") ? {} : VEGA_DEBUG;\n",
       "  (function(spec, embedOpt){\n",
       "    let outputDiv = document.currentScript.previousElementSibling;\n",
       "    if (outputDiv.id !== \"altair-viz-b4bf8c946dc14ed7867b7a6337b1dcc4\") {\n",
       "      outputDiv = document.getElementById(\"altair-viz-b4bf8c946dc14ed7867b7a6337b1dcc4\");\n",
       "    }\n",
       "    const paths = {\n",
       "      \"vega\": \"https://cdn.jsdelivr.net/npm/vega@5?noext\",\n",
       "      \"vega-lib\": \"https://cdn.jsdelivr.net/npm/vega-lib?noext\",\n",
       "      \"vega-lite\": \"https://cdn.jsdelivr.net/npm/vega-lite@5.16.3?noext\",\n",
       "      \"vega-embed\": \"https://cdn.jsdelivr.net/npm/vega-embed@6?noext\",\n",
       "    };\n",
       "\n",
       "    function maybeLoadScript(lib, version) {\n",
       "      var key = `${lib.replace(\"-\", \"\")}_version`;\n",
       "      return (VEGA_DEBUG[key] == version) ?\n",
       "        Promise.resolve(paths[lib]) :\n",
       "        new Promise(function(resolve, reject) {\n",
       "          var s = document.createElement('script');\n",
       "          document.getElementsByTagName(\"head\")[0].appendChild(s);\n",
       "          s.async = true;\n",
       "          s.onload = () => {\n",
       "            VEGA_DEBUG[key] = version;\n",
       "            return resolve(paths[lib]);\n",
       "          };\n",
       "          s.onerror = () => reject(`Error loading script: ${paths[lib]}`);\n",
       "          s.src = paths[lib];\n",
       "        });\n",
       "    }\n",
       "\n",
       "    function showError(err) {\n",
       "      outputDiv.innerHTML = `<div class=\"error\" style=\"color:red;\">${err}</div>`;\n",
       "      throw err;\n",
       "    }\n",
       "\n",
       "    function displayChart(vegaEmbed) {\n",
       "      vegaEmbed(outputDiv, spec, embedOpt)\n",
       "        .catch(err => showError(`Javascript Error: ${err.message}<br>This usually means there's a typo in your chart specification. See the javascript console for the full traceback.`));\n",
       "    }\n",
       "\n",
       "    if(typeof define === \"function\" && define.amd) {\n",
       "      requirejs.config({paths});\n",
       "      require([\"vega-embed\"], displayChart, err => showError(`Error loading script: ${err.message}`));\n",
       "    } else {\n",
       "      maybeLoadScript(\"vega\", \"5\")\n",
       "        .then(() => maybeLoadScript(\"vega-lite\", \"5.16.3\"))\n",
       "        .then(() => maybeLoadScript(\"vega-embed\", \"6\"))\n",
       "        .catch(showError)\n",
       "        .then(() => displayChart(vegaEmbed));\n",
       "    }\n",
       "  })({\"config\": {\"view\": {\"continuousWidth\": 300, \"continuousHeight\": 300}}, \"data\": {\"name\": \"data-f0be5d334ca077a34789f160c8ea7ab6\"}, \"mark\": {\"type\": \"circle\"}, \"encoding\": {\"tooltip\": [{\"field\": \"neighbourhood_name\", \"title\": \"Neighbourhood\", \"type\": \"nominal\"}], \"x\": {\"field\": \"adult_percent_low_income\", \"title\": \"Neighbourhood percent of low income adults\", \"type\": \"quantitative\"}, \"y\": {\"field\": \"total_diabetes_prevalence\", \"title\": \"Neighbourhood prevalence of diabetes\", \"type\": \"quantitative\"}}, \"title\": \"Neighbourhood prevalence of diabetes and neighbourhood percent of low income adults\", \"width\": 400, \"$schema\": \"https://vega.github.io/schema/vega-lite/v5.16.3.json\", \"datasets\": {\"data-f0be5d334ca077a34789f160c8ea7ab6\": [{\"neighbourhood_ID\": 1.0, \"neighbourhood_name\": \"West Humber-Clairville\", \"adult_population\": 22305, \"adult_low_income\": 1720, \"adult_percent_low_income\": 5.2, \"income_quintile\": \"Fifth quintile\", \"total_diabetes_count\": 5365, \"total_neighb_pop\": 31085, \"total_diabetes_prevalence\": 17.3}, {\"neighbourhood_ID\": 2.0, \"neighbourhood_name\": \"Mount Olive-Silverstone-Jamestown\", \"adult_population\": 19995, \"adult_low_income\": 2560, \"adult_percent_low_income\": 8.2, \"income_quintile\": \"Second quintile\", \"total_diabetes_count\": 4732, \"total_neighb_pop\": 26164, \"total_diabetes_prevalence\": 18.1}, {\"neighbourhood_ID\": 3.0, \"neighbourhood_name\": \"Thistletown-Beaumond Heights\", \"adult_population\": 6280, \"adult_low_income\": 635, \"adult_percent_low_income\": 6.4, \"income_quintile\": \"Fourth quintile\", \"total_diabetes_count\": 1546, \"total_neighb_pop\": 9095, \"total_diabetes_prevalence\": 17.0}, {\"neighbourhood_ID\": 4.0, \"neighbourhood_name\": \"Rexdale-Kipling\", \"adult_population\": 6630, \"adult_low_income\": 705, \"adult_percent_low_income\": 6.8, \"income_quintile\": \"Third quintile\", \"total_diabetes_count\": 1504, \"total_neighb_pop\": 9290, \"total_diabetes_prevalence\": 16.2}, {\"neighbourhood_ID\": 5.0, \"neighbourhood_name\": \"Elms-Old Rexdale\", \"adult_population\": 5980, \"adult_low_income\": 595, \"adult_percent_low_income\": 6.4, \"income_quintile\": \"Fourth quintile\", \"total_diabetes_count\": 1298, \"total_neighb_pop\": 7897, \"total_diabetes_prevalence\": 16.4}, {\"neighbourhood_ID\": 6.0, \"neighbourhood_name\": \"Kingsview Village-The Westway\", \"adult_population\": 13620, \"adult_low_income\": 1650, \"adult_percent_low_income\": 7.5, \"income_quintile\": \"Second quintile\", \"total_diabetes_count\": 3013, \"total_neighb_pop\": 19798, \"total_diabetes_prevalence\": 15.2}, {\"neighbourhood_ID\": 7.0, \"neighbourhood_name\": \"Willowridge-Martingrove-Richview\", \"adult_population\": 12985, \"adult_low_income\": 970, \"adult_percent_low_income\": 4.4, \"income_quintile\": \"Fifth quintile\", \"total_diabetes_count\": 2812, \"total_neighb_pop\": 19043, \"total_diabetes_prevalence\": 14.8}, {\"neighbourhood_ID\": 8.0, \"neighbourhood_name\": \"Humber Heights-Westmount\", \"adult_population\": 5915, \"adult_low_income\": 500, \"adult_percent_low_income\": 5.0, \"income_quintile\": \"Fifth quintile\", \"total_diabetes_count\": 1289, \"total_neighb_pop\": 9172, \"total_diabetes_prevalence\": 14.1}, {\"neighbourhood_ID\": 9.0, \"neighbourhood_name\": \"Edenbridge-Humber Valley\", \"adult_population\": 9135, \"adult_low_income\": 675, \"adult_percent_low_income\": 4.4, \"income_quintile\": \"Fifth quintile\", \"total_diabetes_count\": 1539, \"total_neighb_pop\": 13821, \"total_diabetes_prevalence\": 11.1}, {\"neighbourhood_ID\": 10.0, \"neighbourhood_name\": \"Princess-Rosethorn\", \"adult_population\": 6665, \"adult_low_income\": 305, \"adult_percent_low_income\": 2.7, \"income_quintile\": \"Fifth quintile\", \"total_diabetes_count\": 875, \"total_neighb_pop\": 9684, \"total_diabetes_prevalence\": 9.0}, {\"neighbourhood_ID\": 11.0, \"neighbourhood_name\": \"Eringate-Centennial-West Deane\", \"adult_population\": 11240, \"adult_low_income\": 615, \"adult_percent_low_income\": 3.3, \"income_quintile\": \"Fifth quintile\", \"total_diabetes_count\": 2106, \"total_neighb_pop\": 16489, \"total_diabetes_prevalence\": 12.8}, {\"neighbourhood_ID\": 12.0, \"neighbourhood_name\": \"Markland Wood\", \"adult_population\": 5950, \"adult_low_income\": 305, \"adult_percent_low_income\": 2.9, \"income_quintile\": \"Fifth quintile\", \"total_diabetes_count\": 1042, \"total_neighb_pop\": 9271, \"total_diabetes_prevalence\": 11.2}, {\"neighbourhood_ID\": 13.0, \"neighbourhood_name\": \"Etobicoke West Mall\", \"adult_population\": 7800, \"adult_low_income\": 730, \"adult_percent_low_income\": 6.2, \"income_quintile\": \"Fourth quintile\", \"total_diabetes_count\": 1387, \"total_neighb_pop\": 10354, \"total_diabetes_prevalence\": 13.4}, {\"neighbourhood_ID\": 15.0, \"neighbourhood_name\": \"Kingsway South\", \"adult_population\": 4995, \"adult_low_income\": 240, \"adult_percent_low_income\": 2.7, \"income_quintile\": \"Fifth quintile\", \"total_diabetes_count\": 547, \"total_neighb_pop\": 8009, \"total_diabetes_prevalence\": 6.8}, {\"neighbourhood_ID\": 16.0, \"neighbourhood_name\": \"Stonegate-Queensway\", \"adult_population\": 16045, \"adult_low_income\": 1325, \"adult_percent_low_income\": 5.2, \"income_quintile\": \"Fifth quintile\", \"total_diabetes_count\": 1838, \"total_neighb_pop\": 21683, \"total_diabetes_prevalence\": 8.5}, {\"neighbourhood_ID\": 18.0, \"neighbourhood_name\": \"New Toronto\", \"adult_population\": 7625, \"adult_low_income\": 1015, \"adult_percent_low_income\": 9.0, \"income_quintile\": \"Second quintile\", \"total_diabetes_count\": 1107, \"total_neighb_pop\": 10473, \"total_diabetes_prevalence\": 10.6}, {\"neighbourhood_ID\": 19.0, \"neighbourhood_name\": \"Long Branch\", \"adult_population\": 7860, \"adult_low_income\": 800, \"adult_percent_low_income\": 7.0, \"income_quintile\": \"Third quintile\", \"total_diabetes_count\": 919, \"total_neighb_pop\": 9621, \"total_diabetes_prevalence\": 9.6}, {\"neighbourhood_ID\": 20.0, \"neighbourhood_name\": \"Alderwood\", \"adult_population\": 7970, \"adult_low_income\": 445, \"adult_percent_low_income\": 3.5, \"income_quintile\": \"Fifth quintile\", \"total_diabetes_count\": 1295, \"total_neighb_pop\": 10977, \"total_diabetes_prevalence\": 11.8}, {\"neighbourhood_ID\": 21.0, \"neighbourhood_name\": \"Humber Summit\", \"adult_population\": 7335, \"adult_low_income\": 735, \"adult_percent_low_income\": 6.1, \"income_quintile\": \"Fourth quintile\", \"total_diabetes_count\": 1942, \"total_neighb_pop\": 10146, \"total_diabetes_prevalence\": 19.1}, {\"neighbourhood_ID\": 22.0, \"neighbourhood_name\": \"Humbermede\", \"adult_population\": 10930, \"adult_low_income\": 1195, \"adult_percent_low_income\": 7.1, \"income_quintile\": \"Third quintile\", \"total_diabetes_count\": 2239, \"total_neighb_pop\": 13557, \"total_diabetes_prevalence\": 16.5}, {\"neighbourhood_ID\": 23.0, \"neighbourhood_name\": \"Pelmo Park-Humberlea\", \"adult_population\": 7420, \"adult_low_income\": 460, \"adult_percent_low_income\": 4.1, \"income_quintile\": \"Fifth quintile\", \"total_diabetes_count\": 1388, \"total_neighb_pop\": 9692, \"total_diabetes_prevalence\": 14.3}, {\"neighbourhood_ID\": 24.0, \"neighbourhood_name\": \"Black Creek\", \"adult_population\": 13290, \"adult_low_income\": 2090, \"adult_percent_low_income\": 9.9, \"income_quintile\": \"First quintile\", \"total_diabetes_count\": 3150, \"total_neighb_pop\": 17335, \"total_diabetes_prevalence\": 18.2}, {\"neighbourhood_ID\": 25.0, \"neighbourhood_name\": \"Glenfield-Jane Heights\", \"adult_population\": 18715, \"adult_low_income\": 2165, \"adult_percent_low_income\": 7.2, \"income_quintile\": \"Third quintile\", \"total_diabetes_count\": 4392, \"total_neighb_pop\": 24216, \"total_diabetes_prevalence\": 18.1}, {\"neighbourhood_ID\": 27.0, \"neighbourhood_name\": \"York University Heights\", \"adult_population\": 19855, \"adult_low_income\": 2515, \"adult_percent_low_income\": 8.9, \"income_quintile\": \"Second quintile\", \"total_diabetes_count\": 3523, \"total_neighb_pop\": 25571, \"total_diabetes_prevalence\": 13.8}, {\"neighbourhood_ID\": 28.0, \"neighbourhood_name\": \"Rustic\", \"adult_population\": 5685, \"adult_low_income\": 875, \"adult_percent_low_income\": 9.3, \"income_quintile\": \"Second quintile\", \"total_diabetes_count\": 967, \"total_neighb_pop\": 5530, \"total_diabetes_prevalence\": 17.5}, {\"neighbourhood_ID\": 29.0, \"neighbourhood_name\": \"Maple Leaf\", \"adult_population\": 6155, \"adult_low_income\": 475, \"adult_percent_low_income\": 4.9, \"income_quintile\": \"Fifth quintile\", \"total_diabetes_count\": 1916, \"total_neighb_pop\": 11250, \"total_diabetes_prevalence\": 17.0}, {\"neighbourhood_ID\": 30.0, \"neighbourhood_name\": \"Brookhaven-Amesbury\", \"adult_population\": 11310, \"adult_low_income\": 1320, \"adult_percent_low_income\": 7.6, \"income_quintile\": \"Second quintile\", \"total_diabetes_count\": 2132, \"total_neighb_pop\": 13530, \"total_diabetes_prevalence\": 15.8}, {\"neighbourhood_ID\": 31.0, \"neighbourhood_name\": \"Yorkdale-Glen Park\", \"adult_population\": 11100, \"adult_low_income\": 1190, \"adult_percent_low_income\": 7.2, \"income_quintile\": \"Third quintile\", \"total_diabetes_count\": 2176, \"total_neighb_pop\": 14288, \"total_diabetes_prevalence\": 15.2}, {\"neighbourhood_ID\": 32.0, \"neighbourhood_name\": \"Englemount-Lawrence\", \"adult_population\": 12315, \"adult_low_income\": 1310, \"adult_percent_low_income\": 6.2, \"income_quintile\": \"Fourth quintile\", \"total_diabetes_count\": 2389, \"total_neighb_pop\": 18775, \"total_diabetes_prevalence\": 12.7}, {\"neighbourhood_ID\": 33.0, \"neighbourhood_name\": \"Clanton Park\", \"adult_population\": 11680, \"adult_low_income\": 1145, \"adult_percent_low_income\": 6.5, \"income_quintile\": \"Fourth quintile\", \"total_diabetes_count\": 1188, \"total_neighb_pop\": 11611, \"total_diabetes_prevalence\": 10.2}, {\"neighbourhood_ID\": 34.0, \"neighbourhood_name\": \"Bathurst Manor\", \"adult_population\": 10320, \"adult_low_income\": 950, \"adult_percent_low_income\": 6.0, \"income_quintile\": \"Fourth quintile\", \"total_diabetes_count\": 2473, \"total_neighb_pop\": 19230, \"total_diabetes_prevalence\": 12.9}, {\"neighbourhood_ID\": 35.0, \"neighbourhood_name\": \"Westminster-Branson\", \"adult_population\": 16465, \"adult_low_income\": 1640, \"adult_percent_low_income\": 6.4, \"income_quintile\": \"Fourth quintile\", \"total_diabetes_count\": 3389, \"total_neighb_pop\": 24476, \"total_diabetes_prevalence\": 13.8}, {\"neighbourhood_ID\": 36.0, \"neighbourhood_name\": \"Newtonbrook West\", \"adult_population\": 16245, \"adult_low_income\": 2235, \"adult_percent_low_income\": 9.4, \"income_quintile\": \"Second quintile\", \"total_diabetes_count\": 2962, \"total_neighb_pop\": 24720, \"total_diabetes_prevalence\": 12.0}, {\"neighbourhood_ID\": 37.0, \"neighbourhood_name\": \"Willowdale West\", \"adult_population\": 11365, \"adult_low_income\": 1950, \"adult_percent_low_income\": 11.5, \"income_quintile\": \"First quintile\", \"total_diabetes_count\": 1547, \"total_neighb_pop\": 15214, \"total_diabetes_prevalence\": 10.2}, {\"neighbourhood_ID\": 38.0, \"neighbourhood_name\": \"Lansing-Westgate\", \"adult_population\": 10545, \"adult_low_income\": 1300, \"adult_percent_low_income\": 8.3, \"income_quintile\": \"Second quintile\", \"total_diabetes_count\": 1101, \"total_neighb_pop\": 13364, \"total_diabetes_prevalence\": 8.2}, {\"neighbourhood_ID\": 39.0, \"neighbourhood_name\": \"Bedford Park-Nortown\", \"adult_population\": 12775, \"adult_low_income\": 870, \"adult_percent_low_income\": 3.9, \"income_quintile\": \"Fifth quintile\", \"total_diabetes_count\": 1611, \"total_neighb_pop\": 19721, \"total_diabetes_prevalence\": 8.2}, {\"neighbourhood_ID\": 40.0, \"neighbourhood_name\": \"St.Andrew-Windfields\", \"adult_population\": 10130, \"adult_low_income\": 1275, \"adult_percent_low_income\": 7.6, \"income_quintile\": \"Second quintile\", \"total_diabetes_count\": 1442, \"total_neighb_pop\": 15138, \"total_diabetes_prevalence\": 9.5}, {\"neighbourhood_ID\": 41.0, \"neighbourhood_name\": \"Bridle Path-Sunnybrook-York Mills\", \"adult_population\": 5015, \"adult_low_income\": 495, \"adult_percent_low_income\": 5.5, \"income_quintile\": \"Fourth quintile\", \"total_diabetes_count\": 573, \"total_neighb_pop\": 8271, \"total_diabetes_prevalence\": 6.9}, {\"neighbourhood_ID\": 42.0, \"neighbourhood_name\": \"Banbury-Don Mills\", \"adult_population\": 15955, \"adult_low_income\": 1680, \"adult_percent_low_income\": 6.2, \"income_quintile\": \"Fourth quintile\", \"total_diabetes_count\": 3203, \"total_neighb_pop\": 25727, \"total_diabetes_prevalence\": 12.4}, {\"neighbourhood_ID\": 43.0, \"neighbourhood_name\": \"Victoria Village\", \"adult_population\": 10775, \"adult_low_income\": 1540, \"adult_percent_low_income\": 8.9, \"income_quintile\": \"Second quintile\", \"total_diabetes_count\": 2373, \"total_neighb_pop\": 15194, \"total_diabetes_prevalence\": 15.6}, {\"neighbourhood_ID\": 44.0, \"neighbourhood_name\": \"Flemingdon Park\", \"adult_population\": 14290, \"adult_low_income\": 2310, \"adult_percent_low_income\": 10.2, \"income_quintile\": \"First quintile\", \"total_diabetes_count\": 2752, \"total_neighb_pop\": 18415, \"total_diabetes_prevalence\": 14.9}, {\"neighbourhood_ID\": 46.0, \"neighbourhood_name\": \"Pleasant View\", \"adult_population\": 9585, \"adult_low_income\": 835, \"adult_percent_low_income\": 5.5, \"income_quintile\": \"Fourth quintile\", \"total_diabetes_count\": 1992, \"total_neighb_pop\": 15007, \"total_diabetes_prevalence\": 13.3}, {\"neighbourhood_ID\": 47.0, \"neighbourhood_name\": \"Don Valley Village\", \"adult_population\": 17070, \"adult_low_income\": 2090, \"adult_percent_low_income\": 7.9, \"income_quintile\": \"Second quintile\", \"total_diabetes_count\": 2662, \"total_neighb_pop\": 21502, \"total_diabetes_prevalence\": 12.4}, {\"neighbourhood_ID\": 48.0, \"neighbourhood_name\": \"Hillcrest Village\", \"adult_population\": 9210, \"adult_low_income\": 1075, \"adult_percent_low_income\": 6.6, \"income_quintile\": \"Third quintile\", \"total_diabetes_count\": 2312, \"total_neighb_pop\": 15376, \"total_diabetes_prevalence\": 15.0}, {\"neighbourhood_ID\": 49.0, \"neighbourhood_name\": \"Bayview Woods-Steeles\", \"adult_population\": 6990, \"adult_low_income\": 835, \"adult_percent_low_income\": 6.9, \"income_quintile\": \"Third quintile\", \"total_diabetes_count\": 1753, \"total_neighb_pop\": 13506, \"total_diabetes_prevalence\": 13.0}, {\"neighbourhood_ID\": 50.0, \"neighbourhood_name\": \"Newtonbrook East\", \"adult_population\": 10315, \"adult_low_income\": 1675, \"adult_percent_low_income\": 10.9, \"income_quintile\": \"First quintile\", \"total_diabetes_count\": 1429, \"total_neighb_pop\": 12157, \"total_diabetes_prevalence\": 11.8}, {\"neighbourhood_ID\": 52.0, \"neighbourhood_name\": \"Bayview Village\", \"adult_population\": 15460, \"adult_low_income\": 2495, \"adult_percent_low_income\": 11.2, \"income_quintile\": \"First quintile\", \"total_diabetes_count\": 1702, \"total_neighb_pop\": 19558, \"total_diabetes_prevalence\": 8.7}, {\"neighbourhood_ID\": 53.0, \"neighbourhood_name\": \"Henry Farm\", \"adult_population\": 14675, \"adult_low_income\": 2360, \"adult_percent_low_income\": 11.9, \"income_quintile\": \"First quintile\", \"total_diabetes_count\": 1746, \"total_neighb_pop\": 19764, \"total_diabetes_prevalence\": 8.8}, {\"neighbourhood_ID\": 54.0, \"neighbourhood_name\": \"O'Connor-Parkview\", \"adult_population\": 11790, \"adult_low_income\": 1415, \"adult_percent_low_income\": 7.7, \"income_quintile\": \"Second quintile\", \"total_diabetes_count\": 2035, \"total_neighb_pop\": 16378, \"total_diabetes_prevalence\": 12.4}, {\"neighbourhood_ID\": 55.0, \"neighbourhood_name\": \"Thorncliffe Park\", \"adult_population\": 12320, \"adult_low_income\": 2480, \"adult_percent_low_income\": 12.2, \"income_quintile\": \"First quintile\", \"total_diabetes_count\": 2586, \"total_neighb_pop\": 16755, \"total_diabetes_prevalence\": 15.4}, {\"neighbourhood_ID\": 56.0, \"neighbourhood_name\": \"Leaside-Bennington\", \"adult_population\": 10060, \"adult_low_income\": 565, \"adult_percent_low_income\": 3.4, \"income_quintile\": \"Fifth quintile\", \"total_diabetes_count\": 935, \"total_neighb_pop\": 14605, \"total_diabetes_prevalence\": 6.4}, {\"neighbourhood_ID\": 57.0, \"neighbourhood_name\": \"Broadview North\", \"adult_population\": 7365, \"adult_low_income\": 985, \"adult_percent_low_income\": 9.0, \"income_quintile\": \"Second quintile\", \"total_diabetes_count\": 1045, \"total_neighb_pop\": 9968, \"total_diabetes_prevalence\": 10.5}, {\"neighbourhood_ID\": 58.0, \"neighbourhood_name\": \"Old East York\", \"adult_population\": 5760, \"adult_low_income\": 465, \"adult_percent_low_income\": 5.1, \"income_quintile\": \"Fifth quintile\", \"total_diabetes_count\": 827, \"total_neighb_pop\": 7888, \"total_diabetes_prevalence\": 10.5}, {\"neighbourhood_ID\": 59.0, \"neighbourhood_name\": \"Danforth-East York\", \"adult_population\": 10705, \"adult_low_income\": 845, \"adult_percent_low_income\": 5.0, \"income_quintile\": \"Fifth quintile\", \"total_diabetes_count\": 1454, \"total_neighb_pop\": 14538, \"total_diabetes_prevalence\": 10.0}, {\"neighbourhood_ID\": 60.0, \"neighbourhood_name\": \"Woodbine-Lumsden\", \"adult_population\": 5180, \"adult_low_income\": 390, \"adult_percent_low_income\": 4.9, \"income_quintile\": \"Fifth quintile\", \"total_diabetes_count\": 711, \"total_neighb_pop\": 6928, \"total_diabetes_prevalence\": 10.3}, {\"neighbourhood_ID\": 61.0, \"neighbourhood_name\": \"Taylor-Massey\", \"adult_population\": 10065, \"adult_low_income\": 1615, \"adult_percent_low_income\": 10.8, \"income_quintile\": \"First quintile\", \"total_diabetes_count\": 2069, \"total_neighb_pop\": 14894, \"total_diabetes_prevalence\": 13.9}, {\"neighbourhood_ID\": 62.0, \"neighbourhood_name\": \"East End-Danforth\", \"adult_population\": 14450, \"adult_low_income\": 1555, \"adult_percent_low_income\": 7.1, \"income_quintile\": \"Third quintile\", \"total_diabetes_count\": 1764, \"total_neighb_pop\": 19330, \"total_diabetes_prevalence\": 9.1}, {\"neighbourhood_ID\": 63.0, \"neighbourhood_name\": \"The Beaches\", \"adult_population\": 13450, \"adult_low_income\": 1105, \"adult_percent_low_income\": 5.1, \"income_quintile\": \"Fifth quintile\", \"total_diabetes_count\": 1085, \"total_neighb_pop\": 18890, \"total_diabetes_prevalence\": 5.7}, {\"neighbourhood_ID\": 64.0, \"neighbourhood_name\": \"Woodbine Corridor\", \"adult_population\": 8010, \"adult_low_income\": 845, \"adult_percent_low_income\": 6.9, \"income_quintile\": \"Third quintile\", \"total_diabetes_count\": 900, \"total_neighb_pop\": 10641, \"total_diabetes_prevalence\": 8.5}, {\"neighbourhood_ID\": 65.0, \"neighbourhood_name\": \"Greenwood-Coxwell\", \"adult_population\": 9020, \"adult_low_income\": 945, \"adult_percent_low_income\": 6.9, \"income_quintile\": \"Third quintile\", \"total_diabetes_count\": 1116, \"total_neighb_pop\": 12042, \"total_diabetes_prevalence\": 9.3}, {\"neighbourhood_ID\": 66.0, \"neighbourhood_name\": \"Danforth\", \"adult_population\": 5870, \"adult_low_income\": 450, \"adult_percent_low_income\": 4.8, \"income_quintile\": \"Fifth quintile\", \"total_diabetes_count\": 766, \"total_neighb_pop\": 8100, \"total_diabetes_prevalence\": 9.5}, {\"neighbourhood_ID\": 67.0, \"neighbourhood_name\": \"Playter Estates-Danforth\", \"adult_population\": 4880, \"adult_low_income\": 455, \"adult_percent_low_income\": 5.9, \"income_quintile\": \"Fourth quintile\", \"total_diabetes_count\": 564, \"total_neighb_pop\": 6983, \"total_diabetes_prevalence\": 8.1}, {\"neighbourhood_ID\": 68.0, \"neighbourhood_name\": \"North Riverdale\", \"adult_population\": 7230, \"adult_low_income\": 565, \"adult_percent_low_income\": 5.0, \"income_quintile\": \"Fifth quintile\", \"total_diabetes_count\": 798, \"total_neighb_pop\": 10355, \"total_diabetes_prevalence\": 7.7}, {\"neighbourhood_ID\": 69.0, \"neighbourhood_name\": \"Blake-Jones\", \"adult_population\": 4915, \"adult_low_income\": 615, \"adult_percent_low_income\": 8.2, \"income_quintile\": \"Second quintile\", \"total_diabetes_count\": 586, \"total_neighb_pop\": 6650, \"total_diabetes_prevalence\": 8.8}, {\"neighbourhood_ID\": 70.0, \"neighbourhood_name\": \"South Riverdale\", \"adult_population\": 19945, \"adult_low_income\": 1985, \"adult_percent_low_income\": 7.1, \"income_quintile\": \"Third quintile\", \"total_diabetes_count\": 2177, \"total_neighb_pop\": 24849, \"total_diabetes_prevalence\": 8.8}, {\"neighbourhood_ID\": 71.0, \"neighbourhood_name\": \"Cabbagetown-South St.James Town\", \"adult_population\": 7860, \"adult_low_income\": 960, \"adult_percent_low_income\": 8.7, \"income_quintile\": \"Second quintile\", \"total_diabetes_count\": 1113, \"total_neighb_pop\": 11624, \"total_diabetes_prevalence\": 9.6}, {\"neighbourhood_ID\": 72.0, \"neighbourhood_name\": \"Regent Park\", \"adult_population\": 9025, \"adult_low_income\": 1795, \"adult_percent_low_income\": 14.6, \"income_quintile\": \"First quintile\", \"total_diabetes_count\": 1380, \"total_neighb_pop\": 11562, \"total_diabetes_prevalence\": 11.9}, {\"neighbourhood_ID\": 73.0, \"neighbourhood_name\": \"Moss Park\", \"adult_population\": 17330, \"adult_low_income\": 3610, \"adult_percent_low_income\": 16.9, \"income_quintile\": \"First quintile\", \"total_diabetes_count\": 1753, \"total_neighb_pop\": 21837, \"total_diabetes_prevalence\": 8.0}, {\"neighbourhood_ID\": 74.0, \"neighbourhood_name\": \"North St.James Town\", \"adult_population\": 14100, \"adult_low_income\": 2745, \"adult_percent_low_income\": 14.8, \"income_quintile\": \"First quintile\", \"total_diabetes_count\": 2048, \"total_neighb_pop\": 17009, \"total_diabetes_prevalence\": 12.0}, {\"neighbourhood_ID\": 78.0, \"neighbourhood_name\": \"Kensington-Chinatown\", \"adult_population\": 13835, \"adult_low_income\": 2735, \"adult_percent_low_income\": 15.1, \"income_quintile\": \"First quintile\", \"total_diabetes_count\": 1786, \"total_neighb_pop\": 17928, \"total_diabetes_prevalence\": 10.0}, {\"neighbourhood_ID\": 79.0, \"neighbourhood_name\": \"University\", \"adult_population\": 4610, \"adult_low_income\": 695, \"adult_percent_low_income\": 11.2, \"income_quintile\": \"First quintile\", \"total_diabetes_count\": 539, \"total_neighb_pop\": 8951, \"total_diabetes_prevalence\": 6.0}, {\"neighbourhood_ID\": 80.0, \"neighbourhood_name\": \"Palmerston-Little Italy\", \"adult_population\": 9425, \"adult_low_income\": 940, \"adult_percent_low_income\": 7.3, \"income_quintile\": \"Third quintile\", \"total_diabetes_count\": 924, \"total_neighb_pop\": 12789, \"total_diabetes_prevalence\": 7.2}, {\"neighbourhood_ID\": 81.0, \"neighbourhood_name\": \"Trinity-Bellwoods\", \"adult_population\": 11160, \"adult_low_income\": 1120, \"adult_percent_low_income\": 7.3, \"income_quintile\": \"Third quintile\", \"total_diabetes_count\": 1258, \"total_neighb_pop\": 14279, \"total_diabetes_prevalence\": 8.8}, {\"neighbourhood_ID\": 83.0, \"neighbourhood_name\": \"Dufferin Grove\", \"adult_population\": 7815, \"adult_low_income\": 790, \"adult_percent_low_income\": 7.3, \"income_quintile\": \"Third quintile\", \"total_diabetes_count\": 1043, \"total_neighb_pop\": 11541, \"total_diabetes_prevalence\": 9.0}, {\"neighbourhood_ID\": 84.0, \"neighbourhood_name\": \"Little Portugal\", \"adult_population\": 11980, \"adult_low_income\": 1155, \"adult_percent_low_income\": 7.5, \"income_quintile\": \"Second quintile\", \"total_diabetes_count\": 1194, \"total_neighb_pop\": 15858, \"total_diabetes_prevalence\": 7.5}, {\"neighbourhood_ID\": 85.0, \"neighbourhood_name\": \"South Parkdale\", \"adult_population\": 15785, \"adult_low_income\": 2805, \"adult_percent_low_income\": 13.7, \"income_quintile\": \"First quintile\", \"total_diabetes_count\": 2205, \"total_neighb_pop\": 20912, \"total_diabetes_prevalence\": 10.5}, {\"neighbourhood_ID\": 86.0, \"neighbourhood_name\": \"Roncesvalles\", \"adult_population\": 10190, \"adult_low_income\": 1075, \"adult_percent_low_income\": 7.4, \"income_quintile\": \"Third quintile\", \"total_diabetes_count\": 997, \"total_neighb_pop\": 13339, \"total_diabetes_prevalence\": 7.5}, {\"neighbourhood_ID\": 87.0, \"neighbourhood_name\": \"High Park-Swansea\", \"adult_population\": 14730, \"adult_low_income\": 1215, \"adult_percent_low_income\": 5.4, \"income_quintile\": \"Fifth quintile\", \"total_diabetes_count\": 1435, \"total_neighb_pop\": 20827, \"total_diabetes_prevalence\": 6.9}, {\"neighbourhood_ID\": 88.0, \"neighbourhood_name\": \"High Park North\", \"adult_population\": 15240, \"adult_low_income\": 1715, \"adult_percent_low_income\": 7.8, \"income_quintile\": \"Second quintile\", \"total_diabetes_count\": 1366, \"total_neighb_pop\": 20940, \"total_diabetes_prevalence\": 6.5}, {\"neighbourhood_ID\": 89.0, \"neighbourhood_name\": \"Runnymede-Bloor West Village\", \"adult_population\": 6335, \"adult_low_income\": 295, \"adult_percent_low_income\": 2.9, \"income_quintile\": \"Fifth quintile\", \"total_diabetes_count\": 587, \"total_neighb_pop\": 8367, \"total_diabetes_prevalence\": 7.0}, {\"neighbourhood_ID\": 90.0, \"neighbourhood_name\": \"Junction Area\", \"adult_population\": 9840, \"adult_low_income\": 865, \"adult_percent_low_income\": 6.2, \"income_quintile\": \"Fourth quintile\", \"total_diabetes_count\": 1172, \"total_neighb_pop\": 13237, \"total_diabetes_prevalence\": 8.9}, {\"neighbourhood_ID\": 91.0, \"neighbourhood_name\": \"Weston-Pelham Park\", \"adult_population\": 6870, \"adult_low_income\": 760, \"adult_percent_low_income\": 7.6, \"income_quintile\": \"Second quintile\", \"total_diabetes_count\": 1209, \"total_neighb_pop\": 9839, \"total_diabetes_prevalence\": 12.3}, {\"neighbourhood_ID\": 92.0, \"neighbourhood_name\": \"Corso Italia-Davenport\", \"adult_population\": 8930, \"adult_low_income\": 715, \"adult_percent_low_income\": 5.4, \"income_quintile\": \"Fifth quintile\", \"total_diabetes_count\": 1247, \"total_neighb_pop\": 11810, \"total_diabetes_prevalence\": 10.6}, {\"neighbourhood_ID\": 94.0, \"neighbourhood_name\": \"Wychwood\", \"adult_population\": 8345, \"adult_low_income\": 795, \"adult_percent_low_income\": 6.2, \"income_quintile\": \"Fourth quintile\", \"total_diabetes_count\": 1449, \"total_neighb_pop\": 13441, \"total_diabetes_prevalence\": 10.8}, {\"neighbourhood_ID\": 95.0, \"neighbourhood_name\": \"Annex\", \"adult_population\": 20490, \"adult_low_income\": 3095, \"adult_percent_low_income\": 10.6, \"income_quintile\": \"First quintile\", \"total_diabetes_count\": 1815, \"total_neighb_pop\": 28120, \"total_diabetes_prevalence\": 6.5}, {\"neighbourhood_ID\": 96.0, \"neighbourhood_name\": \"Casa Loma\", \"adult_population\": 6865, \"adult_low_income\": 730, \"adult_percent_low_income\": 6.5, \"income_quintile\": \"Fourth quintile\", \"total_diabetes_count\": 793, \"total_neighb_pop\": 11074, \"total_diabetes_prevalence\": 7.2}, {\"neighbourhood_ID\": 97.0, \"neighbourhood_name\": \"Yonge-St.Clair\", \"adult_population\": 8190, \"adult_low_income\": 880, \"adult_percent_low_income\": 6.8, \"income_quintile\": \"Third quintile\", \"total_diabetes_count\": 763, \"total_neighb_pop\": 11514, \"total_diabetes_prevalence\": 6.6}, {\"neighbourhood_ID\": 98.0, \"neighbourhood_name\": \"Rosedale-Moore Park\", \"adult_population\": 11500, \"adult_low_income\": 1100, \"adult_percent_low_income\": 5.5, \"income_quintile\": \"Fourth quintile\", \"total_diabetes_count\": 1367, \"total_neighb_pop\": 20582, \"total_diabetes_prevalence\": 6.6}, {\"neighbourhood_ID\": 99.0, \"neighbourhood_name\": \"Mount Pleasant East\", \"adult_population\": 10265, \"adult_low_income\": 740, \"adult_percent_low_income\": 4.5, \"income_quintile\": \"Fifth quintile\", \"total_diabetes_count\": 973, \"total_neighb_pop\": 14659, \"total_diabetes_prevalence\": 6.6}, {\"neighbourhood_ID\": 100.0, \"neighbourhood_name\": \"Yonge-Eglinton\", \"adult_population\": 8325, \"adult_low_income\": 905, \"adult_percent_low_income\": 7.3, \"income_quintile\": \"Third quintile\", \"total_diabetes_count\": 615, \"total_neighb_pop\": 10894, \"total_diabetes_prevalence\": 5.6}, {\"neighbourhood_ID\": 101.0, \"neighbourhood_name\": \"Forest Hill South\", \"adult_population\": 6470, \"adult_low_income\": 650, \"adult_percent_low_income\": 6.0, \"income_quintile\": \"Fourth quintile\", \"total_diabetes_count\": 725, \"total_neighb_pop\": 9787, \"total_diabetes_prevalence\": 7.4}, {\"neighbourhood_ID\": 102.0, \"neighbourhood_name\": \"Forest Hill North\", \"adult_population\": 7650, \"adult_low_income\": 765, \"adult_percent_low_income\": 6.2, \"income_quintile\": \"Fourth quintile\", \"total_diabetes_count\": 1044, \"total_neighb_pop\": 11004, \"total_diabetes_prevalence\": 9.5}, {\"neighbourhood_ID\": 103.0, \"neighbourhood_name\": \"Lawrence Park South\", \"adult_population\": 9140, \"adult_low_income\": 675, \"adult_percent_low_income\": 4.5, \"income_quintile\": \"Fifth quintile\", \"total_diabetes_count\": 674, \"total_neighb_pop\": 12802, \"total_diabetes_prevalence\": 5.3}, {\"neighbourhood_ID\": 105.0, \"neighbourhood_name\": \"Lawrence Park North\", \"adult_population\": 8865, \"adult_low_income\": 485, \"adult_percent_low_income\": 3.3, \"income_quintile\": \"Fifth quintile\", \"total_diabetes_count\": 747, \"total_neighb_pop\": 12097, \"total_diabetes_prevalence\": 6.2}, {\"neighbourhood_ID\": 106.0, \"neighbourhood_name\": \"Humewood-Cedarvale\", \"adult_population\": 9150, \"adult_low_income\": 940, \"adult_percent_low_income\": 6.8, \"income_quintile\": \"Third quintile\", \"total_diabetes_count\": 1057, \"total_neighb_pop\": 11471, \"total_diabetes_prevalence\": 9.2}, {\"neighbourhood_ID\": 107.0, \"neighbourhood_name\": \"Oakwood Village\", \"adult_population\": 13410, \"adult_low_income\": 1325, \"adult_percent_low_income\": 6.4, \"income_quintile\": \"Fourth quintile\", \"total_diabetes_count\": 2263, \"total_neighb_pop\": 18012, \"total_diabetes_prevalence\": 12.6}, {\"neighbourhood_ID\": 108.0, \"neighbourhood_name\": \"Briar Hill-Belgravia\", \"adult_population\": 9915, \"adult_low_income\": 1010, \"adult_percent_low_income\": 6.9, \"income_quintile\": \"Third quintile\", \"total_diabetes_count\": 1733, \"total_neighb_pop\": 12799, \"total_diabetes_prevalence\": 13.5}, {\"neighbourhood_ID\": 109.0, \"neighbourhood_name\": \"Caledonia-Fairbank\", \"adult_population\": 6755, \"adult_low_income\": 590, \"adult_percent_low_income\": 5.9, \"income_quintile\": \"Fourth quintile\", \"total_diabetes_count\": 1155, \"total_neighb_pop\": 8635, \"total_diabetes_prevalence\": 13.4}, {\"neighbourhood_ID\": 110.0, \"neighbourhood_name\": \"Keelesdale-Eglinton West\", \"adult_population\": 7515, \"adult_low_income\": 760, \"adult_percent_low_income\": 6.7, \"income_quintile\": \"Third quintile\", \"total_diabetes_count\": 1350, \"total_neighb_pop\": 9090, \"total_diabetes_prevalence\": 14.9}, {\"neighbourhood_ID\": 111.0, \"neighbourhood_name\": \"Rockcliffe-Smythe\", \"adult_population\": 14190, \"adult_low_income\": 1815, \"adult_percent_low_income\": 8.2, \"income_quintile\": \"Second quintile\", \"total_diabetes_count\": 2940, \"total_neighb_pop\": 19264, \"total_diabetes_prevalence\": 15.3}, {\"neighbourhood_ID\": 112.0, \"neighbourhood_name\": \"Beechborough-Greenbrook\", \"adult_population\": 3970, \"adult_low_income\": 645, \"adult_percent_low_income\": 10.6, \"income_quintile\": \"First quintile\", \"total_diabetes_count\": 922, \"total_neighb_pop\": 5432, \"total_diabetes_prevalence\": 17.0}, {\"neighbourhood_ID\": 113.0, \"neighbourhood_name\": \"Weston\", \"adult_population\": 12190, \"adult_low_income\": 1990, \"adult_percent_low_income\": 10.8, \"income_quintile\": \"First quintile\", \"total_diabetes_count\": 2669, \"total_neighb_pop\": 18080, \"total_diabetes_prevalence\": 14.8}, {\"neighbourhood_ID\": 114.0, \"neighbourhood_name\": \"Lambton Baby Point\", \"adult_population\": 4900, \"adult_low_income\": 520, \"adult_percent_low_income\": 6.5, \"income_quintile\": \"Fourth quintile\", \"total_diabetes_count\": 526, \"total_neighb_pop\": 6484, \"total_diabetes_prevalence\": 8.1}, {\"neighbourhood_ID\": 115.0, \"neighbourhood_name\": \"Mount Dennis\", \"adult_population\": 8695, \"adult_low_income\": 1105, \"adult_percent_low_income\": 8.5, \"income_quintile\": \"Second quintile\", \"total_diabetes_count\": 1785, \"total_neighb_pop\": 11054, \"total_diabetes_prevalence\": 16.1}, {\"neighbourhood_ID\": 116.0, \"neighbourhood_name\": \"Steeles\", \"adult_population\": 12900, \"adult_low_income\": 1495, \"adult_percent_low_income\": 6.7, \"income_quintile\": \"Third quintile\", \"total_diabetes_count\": 3477, \"total_neighb_pop\": 21319, \"total_diabetes_prevalence\": 16.3}, {\"neighbourhood_ID\": 118.0, \"neighbourhood_name\": \"Tam O'Shanter-Sullivan\", \"adult_population\": 16570, \"adult_low_income\": 1820, \"adult_percent_low_income\": 6.7, \"income_quintile\": \"Third quintile\", \"total_diabetes_count\": 4124, \"total_neighb_pop\": 24461, \"total_diabetes_prevalence\": 16.9}, {\"neighbourhood_ID\": 119.0, \"neighbourhood_name\": \"Wexford/Maryvale\", \"adult_population\": 18525, \"adult_low_income\": 1870, \"adult_percent_low_income\": 6.6, \"income_quintile\": \"Third quintile\", \"total_diabetes_count\": 3965, \"total_neighb_pop\": 25478, \"total_diabetes_prevalence\": 15.6}, {\"neighbourhood_ID\": 120.0, \"neighbourhood_name\": \"Clairlea-Birchmount\", \"adult_population\": 17735, \"adult_low_income\": 1730, \"adult_percent_low_income\": 6.4, \"income_quintile\": \"Fourth quintile\", \"total_diabetes_count\": 4493, \"total_neighb_pop\": 28432, \"total_diabetes_prevalence\": 15.8}, {\"neighbourhood_ID\": 121.0, \"neighbourhood_name\": \"Oakridge\", \"adult_population\": 8920, \"adult_low_income\": 1730, \"adult_percent_low_income\": 12.6, \"income_quintile\": \"First quintile\", \"total_diabetes_count\": 2014, \"total_neighb_pop\": 11661, \"total_diabetes_prevalence\": 17.3}, {\"neighbourhood_ID\": 122.0, \"neighbourhood_name\": \"Birchcliffe-Cliffside\", \"adult_population\": 14365, \"adult_low_income\": 1395, \"adult_percent_low_income\": 6.2, \"income_quintile\": \"Fourth quintile\", \"total_diabetes_count\": 2449, \"total_neighb_pop\": 20124, \"total_diabetes_prevalence\": 12.2}, {\"neighbourhood_ID\": 123.0, \"neighbourhood_name\": \"Cliffcrest\", \"adult_population\": 9985, \"adult_low_income\": 905, \"adult_percent_low_income\": 5.6, \"income_quintile\": \"Fourth quintile\", \"total_diabetes_count\": 2122, \"total_neighb_pop\": 14031, \"total_diabetes_prevalence\": 15.1}, {\"neighbourhood_ID\": 124.0, \"neighbourhood_name\": \"Kennedy Park\", \"adult_population\": 11070, \"adult_low_income\": 1610, \"adult_percent_low_income\": 9.4, \"income_quintile\": \"Second quintile\", \"total_diabetes_count\": 2957, \"total_neighb_pop\": 15339, \"total_diabetes_prevalence\": 19.3}, {\"neighbourhood_ID\": 125.0, \"neighbourhood_name\": \"Ionview\", \"adult_population\": 8615, \"adult_low_income\": 990, \"adult_percent_low_income\": 7.4, \"income_quintile\": \"Third quintile\", \"total_diabetes_count\": 1394, \"total_neighb_pop\": 8419, \"total_diabetes_prevalence\": 16.6}, {\"neighbourhood_ID\": 126.0, \"neighbourhood_name\": \"Dorset Park\", \"adult_population\": 15880, \"adult_low_income\": 1640, \"adult_percent_low_income\": 6.8, \"income_quintile\": \"Third quintile\", \"total_diabetes_count\": 4187, \"total_neighb_pop\": 22379, \"total_diabetes_prevalence\": 18.7}, {\"neighbourhood_ID\": 128.0, \"neighbourhood_name\": \"Agincourt South-Malvern West\", \"adult_population\": 16060, \"adult_low_income\": 1945, \"adult_percent_low_income\": 8.0, \"income_quintile\": \"Second quintile\", \"total_diabetes_count\": 3349, \"total_neighb_pop\": 21714, \"total_diabetes_prevalence\": 15.4}, {\"neighbourhood_ID\": 129.0, \"neighbourhood_name\": \"Agincourt North\", \"adult_population\": 16295, \"adult_low_income\": 1510, \"adult_percent_low_income\": 5.7, \"income_quintile\": \"Fourth quintile\", \"total_diabetes_count\": 4621, \"total_neighb_pop\": 25080, \"total_diabetes_prevalence\": 18.4}, {\"neighbourhood_ID\": 130.0, \"neighbourhood_name\": \"Milliken\", \"adult_population\": 14455, \"adult_low_income\": 1745, \"adult_percent_low_income\": 7.3, \"income_quintile\": \"Third quintile\", \"total_diabetes_count\": 3864, \"total_neighb_pop\": 21826, \"total_diabetes_prevalence\": 17.7}, {\"neighbourhood_ID\": 133.0, \"neighbourhood_name\": \"Centennial Scarborough\", \"adult_population\": 8015, \"adult_low_income\": 280, \"adult_percent_low_income\": 2.1, \"income_quintile\": \"Fifth quintile\", \"total_diabetes_count\": 1753, \"total_neighb_pop\": 12003, \"total_diabetes_prevalence\": 14.6}, {\"neighbourhood_ID\": 134.0, \"neighbourhood_name\": \"Highland Creek\", \"adult_population\": 7920, \"adult_low_income\": 515, \"adult_percent_low_income\": 4.1, \"income_quintile\": \"Fifth quintile\", \"total_diabetes_count\": 2357, \"total_neighb_pop\": 11897, \"total_diabetes_prevalence\": 19.8}, {\"neighbourhood_ID\": 135.0, \"neighbourhood_name\": \"Morningside\", \"adult_population\": 11260, \"adult_low_income\": 1190, \"adult_percent_low_income\": 6.7, \"income_quintile\": \"Third quintile\", \"total_diabetes_count\": 2793, \"total_neighb_pop\": 14844, \"total_diabetes_prevalence\": 18.8}, {\"neighbourhood_ID\": 136.0, \"neighbourhood_name\": \"West Hill\", \"adult_population\": 18115, \"adult_low_income\": 2410, \"adult_percent_low_income\": 8.6, \"income_quintile\": \"Second quintile\", \"total_diabetes_count\": 4120, \"total_neighb_pop\": 22944, \"total_diabetes_prevalence\": 18.0}, {\"neighbourhood_ID\": 138.0, \"neighbourhood_name\": \"Eglinton East\", \"adult_population\": 14235, \"adult_low_income\": 1600, \"adult_percent_low_income\": 7.2, \"income_quintile\": \"Third quintile\", \"total_diabetes_count\": 3625, \"total_neighb_pop\": 18349, \"total_diabetes_prevalence\": 19.8}, {\"neighbourhood_ID\": 139.0, \"neighbourhood_name\": \"Scarborough Village\", \"adult_population\": 10325, \"adult_low_income\": 1540, \"adult_percent_low_income\": 9.4, \"income_quintile\": \"Second quintile\", \"total_diabetes_count\": 3108, \"total_neighb_pop\": 16531, \"total_diabetes_prevalence\": 18.8}, {\"neighbourhood_ID\": 140.0, \"neighbourhood_name\": \"Guildwood\", \"adult_population\": 5395, \"adult_low_income\": 290, \"adult_percent_low_income\": 3.0, \"income_quintile\": \"Fifth quintile\", \"total_diabetes_count\": 1427, \"total_neighb_pop\": 9481, \"total_diabetes_prevalence\": 15.1}, {\"neighbourhood_ID\": 141.0, \"neighbourhood_name\": \"Golfdale-Cedarbrae-Woburn\", \"adult_population\": 16920, \"adult_low_income\": 2160, \"adult_percent_low_income\": 8.0, \"income_quintile\": \"Second quintile\", \"total_diabetes_count\": 4128, \"total_neighb_pop\": 21126, \"total_diabetes_prevalence\": 19.5}, {\"neighbourhood_ID\": 142.0, \"neighbourhood_name\": \"Woburn North\", \"adult_population\": 17645, \"adult_low_income\": 2420, \"adult_percent_low_income\": 9.1, \"income_quintile\": \"Second quintile\", \"total_diabetes_count\": 3960, \"total_neighb_pop\": 23324, \"total_diabetes_prevalence\": 17.0}, {\"neighbourhood_ID\": 143.0, \"neighbourhood_name\": \"West Rouge\", \"adult_population\": 12630, \"adult_low_income\": 655, \"adult_percent_low_income\": 3.2, \"income_quintile\": \"Fifth quintile\", \"total_diabetes_count\": 3082, \"total_neighb_pop\": 17162, \"total_diabetes_prevalence\": 18.0}, {\"neighbourhood_ID\": 144.0, \"neighbourhood_name\": \"Morningside Heights\", \"adult_population\": 16280, \"adult_low_income\": 775, \"adult_percent_low_income\": 3.1, \"income_quintile\": \"Fifth quintile\", \"total_diabetes_count\": 5156, \"total_neighb_pop\": 22701, \"total_diabetes_prevalence\": 22.7}, {\"neighbourhood_ID\": 145.0, \"neighbourhood_name\": \"Malvern West\", \"adult_population\": 10900, \"adult_low_income\": 915, \"adult_percent_low_income\": 5.4, \"income_quintile\": \"Fifth quintile\", \"total_diabetes_count\": 3457, \"total_neighb_pop\": 16616, \"total_diabetes_prevalence\": 20.8}, {\"neighbourhood_ID\": 146.0, \"neighbourhood_name\": \"Malvern East\", \"adult_population\": 16605, \"adult_low_income\": 1410, \"adult_percent_low_income\": 5.5, \"income_quintile\": \"Fourth quintile\", \"total_diabetes_count\": 4306, \"total_neighb_pop\": 21049, \"total_diabetes_prevalence\": 20.5}, {\"neighbourhood_ID\": 147.0, \"neighbourhood_name\": \"L'Amoreaux West\", \"adult_population\": 12460, \"adult_low_income\": 1365, \"adult_percent_low_income\": 6.5, \"income_quintile\": \"Fourth quintile\", \"total_diabetes_count\": 3651, \"total_neighb_pop\": 20786, \"total_diabetes_prevalence\": 17.6}, {\"neighbourhood_ID\": 148.0, \"neighbourhood_name\": \"East L'Amoreaux\", \"adult_population\": 13385, \"adult_low_income\": 1595, \"adult_percent_low_income\": 7.5, \"income_quintile\": \"Second quintile\", \"total_diabetes_count\": 2836, \"total_neighb_pop\": 17070, \"total_diabetes_prevalence\": 16.6}, {\"neighbourhood_ID\": 149.0, \"neighbourhood_name\": \"Parkwoods-O'Connor Hills\", \"adult_population\": 8655, \"adult_low_income\": 870, \"adult_percent_low_income\": 6.2, \"income_quintile\": \"Fourth quintile\", \"total_diabetes_count\": 1547, \"total_neighb_pop\": 12007, \"total_diabetes_prevalence\": 12.9}, {\"neighbourhood_ID\": 150.0, \"neighbourhood_name\": \"Fenside-Parkwoods\", \"adult_population\": 13710, \"adult_low_income\": 1500, \"adult_percent_low_income\": 7.3, \"income_quintile\": \"Third quintile\", \"total_diabetes_count\": 2354, \"total_neighb_pop\": 18002, \"total_diabetes_prevalence\": 13.1}, {\"neighbourhood_ID\": 151.0, \"neighbourhood_name\": \"Yonge-Doris\", \"adult_population\": 14300, \"adult_low_income\": 2995, \"adult_percent_low_income\": 14.9, \"income_quintile\": \"First quintile\", \"total_diabetes_count\": 2158, \"total_neighb_pop\": 25360, \"total_diabetes_prevalence\": 8.5}, {\"neighbourhood_ID\": 152.0, \"neighbourhood_name\": \"East Willowdale\", \"adult_population\": 10015, \"adult_low_income\": 1645, \"adult_percent_low_income\": 10.6, \"income_quintile\": \"First quintile\", \"total_diabetes_count\": 934, \"total_neighb_pop\": 9822, \"total_diabetes_prevalence\": 9.5}, {\"neighbourhood_ID\": 153.0, \"neighbourhood_name\": \"Avondale\", \"adult_population\": 10650, \"adult_low_income\": 1930, \"adult_percent_low_income\": 14.0, \"income_quintile\": \"First quintile\", \"total_diabetes_count\": 1048, \"total_neighb_pop\": 14979, \"total_diabetes_prevalence\": 7.0}, {\"neighbourhood_ID\": 154.0, \"neighbourhood_name\": \"Oakdale-Beverley Heights\", \"adult_population\": 13805, \"adult_low_income\": 1630, \"adult_percent_low_income\": 7.6, \"income_quintile\": \"Second quintile\", \"total_diabetes_count\": 2962, \"total_neighb_pop\": 18890, \"total_diabetes_prevalence\": 15.7}, {\"neighbourhood_ID\": 155.0, \"neighbourhood_name\": \"Downsview\", \"adult_population\": 12100, \"adult_low_income\": 1145, \"adult_percent_low_income\": 6.4, \"income_quintile\": \"Fourth quintile\", \"total_diabetes_count\": 2121, \"total_neighb_pop\": 15143, \"total_diabetes_prevalence\": 14.0}, {\"neighbourhood_ID\": 156.0, \"neighbourhood_name\": \"Bendale-Glen Andrew\", \"adult_population\": 12035, \"adult_low_income\": 1825, \"adult_percent_low_income\": 9.8, \"income_quintile\": \"First quintile\", \"total_diabetes_count\": 2574, \"total_neighb_pop\": 15864, \"total_diabetes_prevalence\": 16.2}, {\"neighbourhood_ID\": 157.0, \"neighbourhood_name\": \"Bendale South\", \"adult_population\": 6985, \"adult_low_income\": 565, \"adult_percent_low_income\": 5.3, \"income_quintile\": \"Fifth quintile\", \"total_diabetes_count\": 1413, \"total_neighb_pop\": 7917, \"total_diabetes_prevalence\": 17.8}, {\"neighbourhood_ID\": 158.0, \"neighbourhood_name\": \"Islington\", \"adult_population\": 14475, \"adult_low_income\": 1110, \"adult_percent_low_income\": 4.8, \"income_quintile\": \"Fifth quintile\", \"total_diabetes_count\": 2379, \"total_neighb_pop\": 20922, \"total_diabetes_prevalence\": 11.4}, {\"neighbourhood_ID\": 159.0, \"neighbourhood_name\": \"Etobicoke City Centre\", \"adult_population\": 17435, \"adult_low_income\": 1885, \"adult_percent_low_income\": 8.0, \"income_quintile\": \"Second quintile\", \"total_diabetes_count\": 2231, \"total_neighb_pop\": 23272, \"total_diabetes_prevalence\": 9.6}, {\"neighbourhood_ID\": 160.0, \"neighbourhood_name\": \"Mimico-Queensway\", \"adult_population\": 11615, \"adult_low_income\": 1155, \"adult_percent_low_income\": 6.8, \"income_quintile\": \"Third quintile\", \"total_diabetes_count\": 1579, \"total_neighb_pop\": 15962, \"total_diabetes_prevalence\": 9.9}, {\"neighbourhood_ID\": 161.0, \"neighbourhood_name\": \"Humber Bay Shores\", \"adult_population\": 17065, \"adult_low_income\": 2240, \"adult_percent_low_income\": 9.9, \"income_quintile\": \"First quintile\", \"total_diabetes_count\": 1576, \"total_neighb_pop\": 19672, \"total_diabetes_prevalence\": 8.0}, {\"neighbourhood_ID\": 162.0, \"neighbourhood_name\": \"West Queen West\", \"adult_population\": 10720, \"adult_low_income\": 1000, \"adult_percent_low_income\": 7.6, \"income_quintile\": \"Second quintile\", \"total_diabetes_count\": 702, \"total_neighb_pop\": 12392, \"total_diabetes_prevalence\": 5.7}, {\"neighbourhood_ID\": 163.0, \"neighbourhood_name\": \"Fort York-Liberty Village\", \"adult_population\": 17875, \"adult_low_income\": 1725, \"adult_percent_low_income\": 8.6, \"income_quintile\": \"Second quintile\", \"total_diabetes_count\": 743, \"total_neighb_pop\": 20388, \"total_diabetes_prevalence\": 3.6}, {\"neighbourhood_ID\": 164.0, \"neighbourhood_name\": \"Wellington Place\", \"adult_population\": 23565, \"adult_low_income\": 3210, \"adult_percent_low_income\": 12.6, \"income_quintile\": \"First quintile\", \"total_diabetes_count\": 537, \"total_neighb_pop\": 23676, \"total_diabetes_prevalence\": 2.3}, {\"neighbourhood_ID\": 165.0, \"neighbourhood_name\": \"Harbourfront-CityPlace\", \"adult_population\": 24410, \"adult_low_income\": 3355, \"adult_percent_low_income\": 11.9, \"income_quintile\": \"First quintile\", \"total_diabetes_count\": 1078, \"total_neighb_pop\": 28402, \"total_diabetes_prevalence\": 3.8}, {\"neighbourhood_ID\": 166.0, \"neighbourhood_name\": \"St Lawrence-East Bayfront-The Islands\", \"adult_population\": 24670, \"adult_low_income\": 3385, \"adult_percent_low_income\": 10.8, \"income_quintile\": \"First quintile\", \"total_diabetes_count\": 1996, \"total_neighb_pop\": 29907, \"total_diabetes_prevalence\": 6.7}, {\"neighbourhood_ID\": 167.0, \"neighbourhood_name\": \"Church-Wellesley\", \"adult_population\": 19015, \"adult_low_income\": 4555, \"adult_percent_low_income\": 20.5, \"income_quintile\": \"First quintile\", \"total_diabetes_count\": 1334, \"total_neighb_pop\": 22344, \"total_diabetes_prevalence\": 6.0}, {\"neighbourhood_ID\": 168.0, \"neighbourhood_name\": \"Downtown Yonge East\", \"adult_population\": 14750, \"adult_low_income\": 3090, \"adult_percent_low_income\": 17.4, \"income_quintile\": \"First quintile\", \"total_diabetes_count\": 1171, \"total_neighb_pop\": 17381, \"total_diabetes_prevalence\": 6.7}, {\"neighbourhood_ID\": 169.0, \"neighbourhood_name\": \"Bay-Cloverhill\", \"adult_population\": 13675, \"adult_low_income\": 4330, \"adult_percent_low_income\": 26.0, \"income_quintile\": \"First quintile\", \"total_diabetes_count\": 752, \"total_neighb_pop\": 15196, \"total_diabetes_prevalence\": 4.9}, {\"neighbourhood_ID\": 170.0, \"neighbourhood_name\": \"Yonge-Bay Corridor\", \"adult_population\": 10745, \"adult_low_income\": 2595, \"adult_percent_low_income\": 20.5, \"income_quintile\": \"First quintile\", \"total_diabetes_count\": 625, \"total_neighb_pop\": 14982, \"total_diabetes_prevalence\": 4.2}, {\"neighbourhood_ID\": 171.0, \"neighbourhood_name\": \"Junction-Wallace Emerson\", \"adult_population\": 16815, \"adult_low_income\": 1685, \"adult_percent_low_income\": 7.3, \"income_quintile\": \"Third quintile\", \"total_diabetes_count\": 2184, \"total_neighb_pop\": 21437, \"total_diabetes_prevalence\": 10.2}, {\"neighbourhood_ID\": 172.0, \"neighbourhood_name\": \"Dovercourt Village\", \"adult_population\": 8745, \"adult_low_income\": 825, \"adult_percent_low_income\": 6.7, \"income_quintile\": \"Third quintile\", \"total_diabetes_count\": 1042, \"total_neighb_pop\": 11631, \"total_diabetes_prevalence\": 9.0}, {\"neighbourhood_ID\": 173.0, \"neighbourhood_name\": \"North Toronto\", \"adult_population\": 12500, \"adult_low_income\": 2120, \"adult_percent_low_income\": 13.4, \"income_quintile\": \"First quintile\", \"total_diabetes_count\": 964, \"total_neighb_pop\": 14910, \"total_diabetes_prevalence\": 6.5}, {\"neighbourhood_ID\": 174.0, \"neighbourhood_name\": \"South Eglinton-Davisville\", \"adult_population\": 17170, \"adult_low_income\": 2455, \"adult_percent_low_income\": 10.8, \"income_quintile\": \"First quintile\", \"total_diabetes_count\": 1392, \"total_neighb_pop\": 21412, \"total_diabetes_prevalence\": 6.5}]}}, {\"mode\": \"vega-lite\"});\n",
       "</script>"
      ],
      "text/plain": [
       "alt.Chart(...)"
      ]
     },
     "execution_count": 68,
     "metadata": {},
     "output_type": "execute_result"
    }
   ],
   "source": [
    "diabetes_income_chart"
   ]
  },
  {
   "cell_type": "markdown",
   "id": "e4f2a7c5",
   "metadata": {
    "slideshow": {
     "slide_type": "slide"
    }
   },
   "source": [
    "### This could be because of..\n",
    "\n",
    "- Is there a higher prevalence of diabetes in low income neighbourhoods?\n",
    ">Is there a higher neighbourhood prevalence of diabetes where there are more low income adults?\n",
    "\n",
    "- If we want to see the effect SES has on your chance of developing diabetes. We have to compare compare individuals to THEMSELVES. So, for one data point I know your income and whether you do / do not have diabetes. This can be longitudinal or snapshot to see if there is an association with prevalence.\n"
   ]
  }
 ],
 "metadata": {
  "celltoolbar": "Slideshow",
  "kernelspec": {
   "display_name": "Python [conda env:base] *",
   "language": "python",
   "name": "conda-base-py"
  },
  "language_info": {
   "codemirror_mode": {
    "name": "ipython",
    "version": 3
   },
   "file_extension": ".py",
   "mimetype": "text/x-python",
   "name": "python",
   "nbconvert_exporter": "python",
   "pygments_lexer": "ipython3",
   "version": "3.12.7"
  },
  "vscode": {
   "interpreter": {
    "hash": "e99c9d7051edba512142d3281c215b415485f48974dc8484b73c151847956a71"
   }
  }
 },
 "nbformat": 4,
 "nbformat_minor": 5
}
